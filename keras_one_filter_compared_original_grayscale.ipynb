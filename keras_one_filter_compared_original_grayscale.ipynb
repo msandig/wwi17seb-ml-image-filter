{
 "cells": [
  {
   "cell_type": "markdown",
   "metadata": {},
   "source": [
    "# Bilden eines Models mit Original und einem Filter"
   ]
  },
  {
   "cell_type": "markdown",
   "metadata": {
    "pycharm": {
     "name": "#%% md\n"
    }
   },
   "source": [
    "## Import der notwendigen Pakete"
   ]
  },
  {
   "cell_type": "code",
   "execution_count": 1,
   "metadata": {
    "pycharm": {
     "is_executing": false
    }
   },
   "outputs": [],
   "source": [
    "# Import Tensorflow and Keras\n",
    "import tensorflow as tf\n",
    "from tensorflow import keras\n",
    "from tensorflow.keras import layers"
   ]
  },
  {
   "cell_type": "markdown",
   "metadata": {},
   "source": [
    "## GPU-Test"
   ]
  },
  {
   "cell_type": "code",
   "execution_count": 2,
   "metadata": {},
   "outputs": [
    {
     "name": "stdout",
     "output_type": "stream",
     "text": [
      "Num GPUs Available 1\n"
     ]
    }
   ],
   "source": [
    "physical_devices = tf.config.experimental.list_physical_devices('GPU')\n",
    "print(\"Num GPUs Available\", len(physical_devices))"
   ]
  },
  {
   "cell_type": "markdown",
   "metadata": {},
   "source": [
    "## Helper"
   ]
  },
  {
   "cell_type": "code",
   "execution_count": 3,
   "metadata": {},
   "outputs": [],
   "source": [
    "model_path = \"./keras_ein_filter_ein_original.hdf5\"\n",
    "import os.path\n",
    "\n",
    "def isModelAvailable():\n",
    "    return os.path.isfile(model_path) \n",
    "\n",
    "startTraining = True"
   ]
  },
  {
   "cell_type": "markdown",
   "metadata": {
    "pycharm": {
     "name": "#%% md\n"
    }
   },
   "source": [
    "## Import des Datasets\n",
    "\n",
    "Zusätzlich zum Laden des Datasets (2 Klassen) wird hier bereits durch den ImageDataGenerator ein Preprocessing durchgeführt / vorbereitet.\n",
    "Zunächst wird versucht eine Klassifizierung durchzuführen, bei dem die Bilder in Graustufen geladen werden."
   ]
  },
  {
   "cell_type": "code",
   "execution_count": 4,
   "metadata": {
    "pycharm": {
     "is_executing": false,
     "name": "#%%\n"
    }
   },
   "outputs": [
    {
     "name": "stdout",
     "output_type": "stream",
     "text": [
      "Found 2048 images belonging to 2 classes.\n",
      "Found 512 images belonging to 2 classes.\n"
     ]
    }
   ],
   "source": [
    "classes = [\"Origin\", \"Amaro\"]; # choosen classes (origin + filter) for classification\n",
    "\n",
    "directory = \"./FACD_image\" # dataset dir\n",
    "target_size = (400,400)    # size of train and test data (vgg16)\n",
    "seed = 42;                 # seed to reproduce same results\n",
    "batch_size=32              # trainings batch size\n",
    "\n",
    "# create a image generator for keras, that can load and prepare images batchwise\n",
    "data_generator = tf.keras.preprocessing.image.ImageDataGenerator(\n",
    "    featurewise_center=True,\n",
    "    featurewise_std_normalization=True,\n",
    "    rotation_range=20,\n",
    "    width_shift_range=0.2,\n",
    "    height_shift_range=0.2,\n",
    "    horizontal_flip=True,\n",
    "    validation_split=0.2\n",
    ")\n",
    "\n",
    "# create two directory iterators (one for test and one for train data)\n",
    "train_iterator = tf.keras.preprocessing.image.DirectoryIterator(\n",
    "    directory, data_generator, target_size=target_size, color_mode='grayscale',\n",
    "    classes=classes, class_mode='categorical', batch_size=batch_size, shuffle=True, seed=seed,\n",
    "    follow_links=False, subset='training', interpolation='nearest', dtype=None\n",
    ")\n",
    "\n",
    "test_iterator = tf.keras.preprocessing.image.DirectoryIterator(\n",
    "    directory, data_generator, target_size=target_size, color_mode='grayscale',\n",
    "    classes=classes, class_mode='categorical', batch_size=batch_size, shuffle=True, seed=seed,\n",
    "    follow_links=False, subset='validation', interpolation='nearest', dtype=None\n",
    ")\n"
   ]
  },
  {
   "cell_type": "markdown",
   "metadata": {},
   "source": [
    "## Erstellen des CNN-Models"
   ]
  },
  {
   "cell_type": "code",
   "execution_count": 5,
   "metadata": {
    "pycharm": {
     "is_executing": false,
     "name": "#%%\n"
    }
   },
   "outputs": [
    {
     "name": "stdout",
     "output_type": "stream",
     "text": [
      "Model: \"sequential\"\n",
      "_________________________________________________________________\n",
      "Layer (type)                 Output Shape              Param #   \n",
      "=================================================================\n",
      "conv2d (Conv2D)              (None, 398, 398, 32)      320       \n",
      "_________________________________________________________________\n",
      "max_pooling2d (MaxPooling2D) (None, 199, 199, 32)      0         \n",
      "_________________________________________________________________\n",
      "conv2d_1 (Conv2D)            (None, 197, 197, 64)      18496     \n",
      "_________________________________________________________________\n",
      "max_pooling2d_1 (MaxPooling2 (None, 98, 98, 64)        0         \n",
      "_________________________________________________________________\n",
      "flatten (Flatten)            (None, 614656)            0         \n",
      "_________________________________________________________________\n",
      "dropout (Dropout)            (None, 614656)            0         \n",
      "_________________________________________________________________\n",
      "dense (Dense)                (None, 2)                 1229314   \n",
      "=================================================================\n",
      "Total params: 1,248,130\n",
      "Trainable params: 1,248,130\n",
      "Non-trainable params: 0\n",
      "_________________________________________________________________\n"
     ]
    }
   ],
   "source": [
    "input_shape = (400,400,1) # input shape for data -> grayscale\n",
    "num_classes = len(classes)\n",
    "\n",
    "# metrics we want to record\n",
    "metrics=[tf.keras.metrics.CategoricalAccuracy(), tf.keras.metrics.Precision(), tf.keras.metrics.Recall()]\n",
    "\n",
    "# building the keras model\n",
    "model = tf.keras.Sequential()\n",
    "model.add(keras.Input(shape=input_shape))\n",
    "model.add(layers.Conv2D(32, kernel_size=(3, 3), activation=\"relu\"))\n",
    "model.add(layers.MaxPooling2D(pool_size=(2, 2)))\n",
    "model.add(layers.Conv2D(64, kernel_size=(3, 3), activation=\"relu\"))\n",
    "model.add(layers.MaxPooling2D(pool_size=(2, 2)))\n",
    "model.add(layers.Flatten())\n",
    "model.add(layers.Dropout(0.5))\n",
    "model.add(layers.Dense(num_classes, activation=\"softmax\"))\n",
    "model.compile(loss=\"categorical_crossentropy\", optimizer=\"adam\", metrics=metrics)\n",
    "model.summary()"
   ]
  },
  {
   "cell_type": "markdown",
   "metadata": {},
   "source": [
    "## Trainieren des Models\n",
    "\n",
    "Das Warning \"This ImageDataGenerator specifies `featurewise_center`, but it hasn't been fit on any training data. Fit it first by calling\" kommt von den nicht gefitteten Bildern des DataGenerators. Normalerweise führt man \"data_generator.fit()\" vor dem fitten des Modells durch. In der [Doku des DictornaryIterators](https://www.tensorflow.org/api_docs/python/tf/keras/preprocessing/image/DirectoryIterator) steht jedoch, dass das durch das übergebene ImageDateGenerator-Objekt eine Standardisierung und Transformation durchgeführt wird. Aus diesem Grund wird dieses Warning an dieser Stelle ignoriert."
   ]
  },
  {
   "cell_type": "code",
   "execution_count": 6,
   "metadata": {
    "pycharm": {
     "name": "#%%\n"
    }
   },
   "outputs": [
    {
     "name": "stderr",
     "output_type": "stream",
     "text": [
      "C:\\Users\\Martin\\anaconda3\\envs\\ml\\lib\\site-packages\\keras_preprocessing\\image\\image_data_generator.py:716: UserWarning: This ImageDataGenerator specifies `featurewise_center`, but it hasn't been fit on any training data. Fit it first by calling `.fit(numpy_data)`.\n",
      "  warnings.warn('This ImageDataGenerator specifies '\n",
      "C:\\Users\\Martin\\anaconda3\\envs\\ml\\lib\\site-packages\\keras_preprocessing\\image\\image_data_generator.py:724: UserWarning: This ImageDataGenerator specifies `featurewise_std_normalization`, but it hasn't been fit on any training data. Fit it first by calling `.fit(numpy_data)`.\n",
      "  warnings.warn('This ImageDataGenerator specifies '\n"
     ]
    },
    {
     "name": "stdout",
     "output_type": "stream",
     "text": [
      "WARNING:tensorflow:sample_weight modes were coerced from\n",
      "  ...\n",
      "    to  \n",
      "  ['...']\n",
      "WARNING:tensorflow:sample_weight modes were coerced from\n",
      "  ...\n",
      "    to  \n",
      "  ['...']\n",
      "Train for 64 steps, validate for 16 steps\n",
      "Epoch 1/10\n"
     ]
    },
    {
     "name": "stderr",
     "output_type": "stream",
     "text": [
      "C:\\Users\\Martin\\anaconda3\\envs\\ml\\lib\\site-packages\\keras_preprocessing\\image\\image_data_generator.py:716: UserWarning: This ImageDataGenerator specifies `featurewise_center`, but it hasn't been fit on any training data. Fit it first by calling `.fit(numpy_data)`.\n",
      "  warnings.warn('This ImageDataGenerator specifies '\n",
      "C:\\Users\\Martin\\anaconda3\\envs\\ml\\lib\\site-packages\\keras_preprocessing\\image\\image_data_generator.py:724: UserWarning: This ImageDataGenerator specifies `featurewise_std_normalization`, but it hasn't been fit on any training data. Fit it first by calling `.fit(numpy_data)`.\n",
      "  warnings.warn('This ImageDataGenerator specifies '\n"
     ]
    },
    {
     "name": "stdout",
     "output_type": "stream",
     "text": [
      "27/64 [===========>..................] - ETA: 22s - loss: 120.7760 - categorical_accuracy: 0.6100 - precision: 0.6100 - recall: 0.6100"
     ]
    },
    {
     "name": "stderr",
     "output_type": "stream",
     "text": [
      "C:\\Users\\Martin\\anaconda3\\envs\\ml\\lib\\site-packages\\PIL\\TiffImagePlugin.py:770: UserWarning: Possibly corrupt EXIF data.  Expecting to read 19273 bytes but only got 816. Skipping tag 700\n",
      "  \" Skipping tag %s\" % (size, len(data), tag)\n",
      "C:\\Users\\Martin\\anaconda3\\envs\\ml\\lib\\site-packages\\PIL\\TiffImagePlugin.py:770: UserWarning: Possibly corrupt EXIF data.  Expecting to read 5140 bytes but only got 816. Skipping tag 34377\n",
      "  \" Skipping tag %s\" % (size, len(data), tag)\n",
      "C:\\Users\\Martin\\anaconda3\\envs\\ml\\lib\\site-packages\\PIL\\TiffImagePlugin.py:770: UserWarning: Possibly corrupt EXIF data.  Expecting to read 3144 bytes but only got 816. Skipping tag 34675\n",
      "  \" Skipping tag %s\" % (size, len(data), tag)\n"
     ]
    },
    {
     "name": "stdout",
     "output_type": "stream",
     "text": [
      "64/64 [==============================] - 46s 718ms/step - loss: 51.3391 - categorical_accuracy: 0.7310 - precision: 0.7310 - recall: 0.7310 - val_loss: 0.4813 - val_categorical_accuracy: 0.8555 - val_precision: 0.8555 - val_recall: 0.8555\n",
      "Epoch 2/10\n",
      "64/64 [==============================] - 41s 646ms/step - loss: 0.4130 - categorical_accuracy: 0.9009 - precision: 0.9009 - recall: 0.9009 - val_loss: 0.3486 - val_categorical_accuracy: 0.9277 - val_precision: 0.9277 - val_recall: 0.9277\n",
      "Epoch 3/10\n",
      "64/64 [==============================] - 43s 664ms/step - loss: 0.3011 - categorical_accuracy: 0.9258 - precision: 0.9258 - recall: 0.9258 - val_loss: 0.3061 - val_categorical_accuracy: 0.9395 - val_precision: 0.9395 - val_recall: 0.9395\n",
      "Epoch 4/10\n",
      "64/64 [==============================] - 42s 653ms/step - loss: 0.2749 - categorical_accuracy: 0.9414 - precision: 0.9414 - recall: 0.9414 - val_loss: 0.2359 - val_categorical_accuracy: 0.9531 - val_precision: 0.9531 - val_recall: 0.9531\n",
      "Epoch 5/10\n",
      "64/64 [==============================] - 41s 646ms/step - loss: 0.2290 - categorical_accuracy: 0.9517 - precision: 0.9517 - recall: 0.9517 - val_loss: 0.2349 - val_categorical_accuracy: 0.9570 - val_precision: 0.9570 - val_recall: 0.9570\n",
      "Epoch 6/10\n",
      "64/64 [==============================] - 44s 687ms/step - loss: 0.2118 - categorical_accuracy: 0.9521 - precision: 0.9521 - recall: 0.9521 - val_loss: 0.1789 - val_categorical_accuracy: 0.9707 - val_precision: 0.9707 - val_recall: 0.9707\n",
      "Epoch 7/10\n",
      "64/64 [==============================] - 43s 671ms/step - loss: 0.1945 - categorical_accuracy: 0.9575 - precision: 0.9575 - recall: 0.9575 - val_loss: 0.1914 - val_categorical_accuracy: 0.9648 - val_precision: 0.9648 - val_recall: 0.9648\n",
      "Epoch 8/10\n",
      "64/64 [==============================] - 43s 680ms/step - loss: 0.2306 - categorical_accuracy: 0.9536 - precision: 0.9536 - recall: 0.9536 - val_loss: 0.3062 - val_categorical_accuracy: 0.9434 - val_precision: 0.9434 - val_recall: 0.9434\n",
      "Epoch 9/10\n",
      "64/64 [==============================] - 42s 653ms/step - loss: 0.2333 - categorical_accuracy: 0.9604 - precision: 0.9604 - recall: 0.9604 - val_loss: 0.2356 - val_categorical_accuracy: 0.9375 - val_precision: 0.9375 - val_recall: 0.9375\n",
      "Epoch 10/10\n",
      "64/64 [==============================] - 42s 653ms/step - loss: 0.2174 - categorical_accuracy: 0.9526 - precision: 0.9526 - recall: 0.9526 - val_loss: 0.2047 - val_categorical_accuracy: 0.9551 - val_precision: 0.9551 - val_recall: 0.9551\n"
     ]
    }
   ],
   "source": [
    "epochs = 10\n",
    "validation_freq = 1\n",
    "if not isModelAvailable() or startTraining:\n",
    "    history = model.fit(\n",
    "        x=train_iterator, y=None, epochs=epochs, verbose=1, callbacks=None,\n",
    "        validation_data=test_iterator, initial_epoch=0, steps_per_epoch=len(train_iterator), validation_freq=validation_freq,\n",
    "        max_queue_size=10\n",
    "    )"
   ]
  },
  {
   "cell_type": "markdown",
   "metadata": {},
   "source": [
    "## Speichern des Modells"
   ]
  },
  {
   "cell_type": "code",
   "execution_count": 7,
   "metadata": {},
   "outputs": [],
   "source": [
    "if not isModelAvailable() or startTraining:\n",
    "    model.save(\n",
    "       model_path, overwrite=True, include_optimizer=True, save_format=\"h5\", signatures=None, options=None\n",
    "    )"
   ]
  },
  {
   "cell_type": "markdown",
   "metadata": {},
   "source": [
    "## Anzeigen der Trainings-History\n",
    "\n",
    "Für die Anzeige der Trainingshistorie wurde eine Hilfsdatei \"plot.py\" geschrieben.\n",
    "\n",
    "### Accuracy und Loss"
   ]
  },
  {
   "cell_type": "code",
   "execution_count": 8,
   "metadata": {
    "scrolled": false
   },
   "outputs": [
    {
     "data": {
      "image/png": "[encoded data removed]",
      "text/plain": [
       "<Figure size 576x576 with 2 Axes>"
      ]
     },
     "metadata": {
      "needs_background": "light"
     },
     "output_type": "display_data"
    }
   ],
   "source": [
    "import plot\n",
    "\n",
    "plot.plot_keras_history(history, len(history.epoch), metrics[0].name)"
   ]
  },
  {
   "cell_type": "markdown",
   "metadata": {},
   "source": [
    "### Precision"
   ]
  },
  {
   "cell_type": "code",
   "execution_count": 9,
   "metadata": {},
   "outputs": [
    {
     "data": {
      "image/png": "[encoded data removed]",
      "text/plain": [
       "<Figure size 576x576 with 1 Axes>"
      ]
     },
     "metadata": {
      "needs_background": "light"
     },
     "output_type": "display_data"
    }
   ],
   "source": [
    "plot.plot_keras_history(history, epochs, metrics[1].name)"
   ]
  },
  {
   "cell_type": "markdown",
   "metadata": {},
   "source": [
    "### Recall"
   ]
  },
  {
   "cell_type": "code",
   "execution_count": 10,
   "metadata": {},
   "outputs": [
    {
     "data": {
      "image/png": "[encoded data removed]",
      "text/plain": [
       "<Figure size 576x576 with 1 Axes>"
      ]
     },
     "metadata": {
      "needs_background": "light"
     },
     "output_type": "display_data"
    }
   ],
   "source": [
    "plot.plot_keras_history(history, epochs, metrics[2].name)"
   ]
  },
  {
   "cell_type": "code",
   "execution_count": null,
   "metadata": {},
   "outputs": [],
   "source": []
  }
 ],
 "metadata": {
  "kernelspec": {
   "display_name": "Python 3",
   "language": "python",
   "name": "python3"
  },
  "language_info": {
   "codemirror_mode": {
    "name": "ipython",
    "version": 3
   },
   "file_extension": ".py",
   "mimetype": "text/x-python",
   "name": "python",
   "nbconvert_exporter": "python",
   "pygments_lexer": "ipython3",
   "version": "3.7.6"
  },
  "pycharm": {
   "stem_cell": {
    "cell_type": "raw",
    "metadata": {
     "collapsed": false
    },
    "source": []
   }
  }
 },
 "nbformat": 4,
 "nbformat_minor": 4
}
