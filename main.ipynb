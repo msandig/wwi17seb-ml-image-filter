{
 "cells": [
  {
   "cell_type": "markdown",
   "metadata": {},
   "source": [
    "# Filterkategorisierung / Erkennen von Filtern mit Machine Learning\n",
    "\n",
    "Ein Projekt von:\n",
    "\n",
    "**Erik Jansky (5980253),**\n",
    "**Dennis Köhler** und \n",
    "**Martin Sandig (8857640)**"
   ]
  },
  {
   "cell_type": "markdown",
   "metadata": {},
   "source": [
    "## Idee"
   ]
  },
  {
   "cell_type": "markdown",
   "metadata": {},
   "source": [
    "Die Idee dieses Projekts ist, eine Filtererkennung mit Hilfe von Convolutional Neural Networks (CNNs) zu ermöglichen. \n",
    "Hierzu wird das [Filter Aesthetic Comparison Dataset (FACD)](https://wtwilsonsun.github.io/FACD/) von Wei-Tse Sun, Ting-Hsuan Chao, Yin-Hsi Kuo, Winston Hsu verwendet.  \n",
    "\n",
    "Das Dataset besteht aus 23 verschiedenen Klassen (Filter - inkl. Original-Bilder) mit jeweils 1280 Bildern. Alle Klassen bauen dabei auf den gleichen Originalbildern auf. Die Filter orientieren sich dabei an den typischen Instagramm-Filtern. Zur Erstellung der Bilder wurde dabei das GimpToolkit verwendet.\n",
    "\n",
    "## Ziel\n",
    "\n",
    "Ziel dieses Projekts ist es, herauszufinden ob man Bilder anhand von Filtern klassifizieren kann. Hierdurch wäre es beispielsweise denkbar Fotos auf Instagram bezüglich einer Filterverwendung zu überprüfen. Bei vielen Filtern ist es nämlich so, dass man deren Verwendung nicht auf den ersten Blick erkennen kann. "
   ]
  },
  {
   "cell_type": "markdown",
   "metadata": {},
   "source": [
    "## Aufbau"
   ]
  },
  {
   "cell_type": "markdown",
   "metadata": {},
   "source": [
    "Das Projekt selbst ist in mehrere Jupyter-Notebooks aufgeteilt, in welchen verschiedene Klassifikationsalgorithmen getestet werden.\n",
    "\n",
    "Die verwendeten Algorithmen sind:\n",
    "- DecisionTree\n",
    "- RandomForest\n",
    "- Convolutional Neural Network \n",
    "\n",
    "Hierbei werden bei den verschiedenen Algorithmen ebenfalls unterschiedliche Herangehensweisen ausprobiert. \n",
    "Beispielsweise werden die Modelle darauf geprüft, ob sie Filter auch in Graustufen unterscheiden können oder nur in Farbe. \n",
    "Weiterhin werden mögliche Parameter bei den Modellen getestet als auch verschiedene Skalierungen getestet. "
   ]
  },
  {
   "cell_type": "markdown",
   "metadata": {},
   "source": [
    "## Import Packages"
   ]
  },
  {
   "cell_type": "code",
   "execution_count": 1,
   "metadata": {},
   "outputs": [],
   "source": [
    "# Import Helpers and Plots\n",
    "import numpy as np\n",
    "import matplotlib.pyplot as plt\n",
    "\n",
    "# Import Tensorflow and Keras\n",
    "import tensorflow as tf\n",
    "from tensorflow import keras"
   ]
  },
  {
   "cell_type": "markdown",
   "metadata": {},
   "source": [
    "## Laden der Modelle\n",
    "\n",
    "Leider haben wir (mehr oder weniger) zuspät festgestellt, dass man mit dem Tool \"pickle\" die Modelle, die man mit sklearn erzeugt hat, in Dateien speichern kann. Dies war uns im Nachgang nicht möglich, da der Rechner zum Trainieren der Modelle nicht mehr zur Verfügung stand.\n",
    "\n",
    "Lediglich die Keras / Tensorflow Modelle wurden während / nach dem trainieren gespeichert."
   ]
  },
  {
   "cell_type": "code",
   "execution_count": null,
   "metadata": {},
   "outputs": [],
   "source": []
  }
 ],
 "metadata": {
  "kernelspec": {
   "display_name": "Python 3",
   "language": "python",
   "name": "python3"
  },
  "language_info": {
   "codemirror_mode": {
    "name": "ipython",
    "version": 3
   },
   "file_extension": ".py",
   "mimetype": "text/x-python",
   "name": "python",
   "nbconvert_exporter": "python",
   "pygments_lexer": "ipython3",
   "version": "3.7.7"
  }
 },
 "nbformat": 4,
 "nbformat_minor": 4
}
