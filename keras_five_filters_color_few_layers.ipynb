{
 "cells": [
  {
   "cell_type": "code",
   "execution_count": 1,
   "metadata": {},
   "outputs": [],
   "source": [
    "import tensorflow as tf\n",
    "from tensorflow.keras.models import Sequential \n",
    "from tensorflow.keras.layers import Conv2D, Dense, Flatten, MaxPool2D\n",
    "from tensorflow.keras.optimizers import Adam\n",
    "from tensorflow.keras.preprocessing.image import ImageDataGenerator\n",
    "import warnings\n",
    "warnings.simplefilter(action='ignore', category=FutureWarning)\n",
    "# %matplotlib inline"
   ]
  },
  {
   "cell_type": "code",
   "execution_count": 2,
   "metadata": {},
   "outputs": [
    {
     "name": "stdout",
     "output_type": "stream",
     "text": [
      "Num GPUs Available 1\n"
     ]
    }
   ],
   "source": [
    "physical_devices = tf.config.experimental.list_physical_devices('GPU')\n",
    "print(\"Num GPUs Available\", len(physical_devices))"
   ]
  },
  {
   "cell_type": "code",
   "execution_count": 3,
   "metadata": {},
   "outputs": [
    {
     "name": "stdout",
     "output_type": "stream",
     "text": [
      "Found 5120 images belonging to 5 classes.\n",
      "Found 1280 images belonging to 5 classes.\n"
     ]
    }
   ],
   "source": [
    "\n",
    "directory = \"./FACD_image\"\n",
    "\n",
    "classes = [\"1977\", \"Amaro\", \"Apollo\", \"Brannan\", \"Earlybird\"]\n",
    "target_size = (224,224)\n",
    "seed = 42;\n",
    "\n",
    "\n",
    "train_batches = ImageDataGenerator(preprocessing_function=tf.keras.applications.vgg16.preprocess_input, validation_split=0.2) \\\n",
    "    .flow_from_directory(directory=directory, target_size=target_size, classes=classes, batch_size=10, subset='training')\n",
    "valid_batches = ImageDataGenerator(preprocessing_function=tf.keras.applications.vgg16.preprocess_input, validation_split=0.2) \\\n",
    "    .flow_from_directory(directory=directory, target_size=target_size, classes=classes, batch_size=10, subset='validation')\n",
    "#test_batches = ImageDataGenerator(preprocessing_function=tf.keras.applications.vgg16.preprocess_input) \\\n",
    "#    .flow_from_directory(directory=directory, target_size=target_size, classes=classes, batch_size=10, shuffle=False)\n",
    "        "
   ]
  },
  {
   "cell_type": "code",
   "execution_count": 4,
   "metadata": {},
   "outputs": [],
   "source": [
    "model = Sequential([\n",
    "    Conv2D(filters=32, kernel_size=(3, 3), activation='relu', padding='same', input_shape=(224,224,3)), \n",
    "    MaxPool2D(pool_size=(2, 2), strides=2), \n",
    "    Conv2D(filters=64, kernel_size=(3,3), activation='relu', padding='same'), \n",
    "    MaxPool2D(pool_size=(2,2), strides=2), \n",
    "    Flatten(), \n",
    "    Dense(units=len(classes), activation='softmax'),\n",
    "])"
   ]
  },
  {
   "cell_type": "code",
   "execution_count": 5,
   "metadata": {},
   "outputs": [
    {
     "name": "stdout",
     "output_type": "stream",
     "text": [
      "Model: \"sequential\"\n",
      "_________________________________________________________________\n",
      "Layer (type)                 Output Shape              Param #   \n",
      "=================================================================\n",
      "conv2d (Conv2D)              (None, 224, 224, 32)      896       \n",
      "_________________________________________________________________\n",
      "max_pooling2d (MaxPooling2D) (None, 112, 112, 32)      0         \n",
      "_________________________________________________________________\n",
      "conv2d_1 (Conv2D)            (None, 112, 112, 64)      18496     \n",
      "_________________________________________________________________\n",
      "max_pooling2d_1 (MaxPooling2 (None, 56, 56, 64)        0         \n",
      "_________________________________________________________________\n",
      "flatten (Flatten)            (None, 200704)            0         \n",
      "_________________________________________________________________\n",
      "dense (Dense)                (None, 5)                 1003525   \n",
      "=================================================================\n",
      "Total params: 1,022,917\n",
      "Trainable params: 1,022,917\n",
      "Non-trainable params: 0\n",
      "_________________________________________________________________\n"
     ]
    }
   ],
   "source": [
    "model.summary()"
   ]
  },
  {
   "cell_type": "code",
   "execution_count": 6,
   "metadata": {},
   "outputs": [],
   "source": [
    "model.compile(optimizer=Adam(learning_rate=0.0001), loss='categorical_crossentropy', metrics=['accuracy'])"
   ]
  },
  {
   "cell_type": "code",
   "execution_count": 7,
   "metadata": {},
   "outputs": [
    {
     "name": "stdout",
     "output_type": "stream",
     "text": [
      "WARNING:tensorflow:sample_weight modes were coerced from\n",
      "  ...\n",
      "    to  \n",
      "  ['...']\n",
      "WARNING:tensorflow:sample_weight modes were coerced from\n",
      "  ...\n",
      "    to  \n",
      "  ['...']\n",
      "Train for 512 steps, validate for 128 steps\n",
      "Epoch 1/10\n",
      "512/512 [==============================] - 102s 199ms/step - loss: 7.8989 - accuracy: 0.6715 - val_loss: 0.8480 - val_accuracy: 0.8477\n",
      "Epoch 2/10\n",
      "512/512 [==============================] - 95s 186ms/step - loss: 0.5615 - accuracy: 0.8709 - val_loss: 0.6328 - val_accuracy: 0.8562\n",
      "Epoch 3/10\n",
      "512/512 [==============================] - 94s 183ms/step - loss: 0.2804 - accuracy: 0.9199 - val_loss: 0.6117 - val_accuracy: 0.8664\n",
      "Epoch 4/10\n",
      "512/512 [==============================] - 95s 185ms/step - loss: 0.2231 - accuracy: 0.9361 - val_loss: 0.5703 - val_accuracy: 0.8805\n",
      "Epoch 5/10\n",
      "512/512 [==============================] - 94s 185ms/step - loss: 0.1813 - accuracy: 0.9492 - val_loss: 0.4844 - val_accuracy: 0.8859\n",
      "Epoch 6/10\n",
      "512/512 [==============================] - 99s 193ms/step - loss: 0.1293 - accuracy: 0.9604 - val_loss: 0.6309 - val_accuracy: 0.8703\n",
      "Epoch 7/10\n",
      "512/512 [==============================] - 97s 190ms/step - loss: 0.1288 - accuracy: 0.9619 - val_loss: 0.7238 - val_accuracy: 0.8516\n",
      "Epoch 8/10\n",
      "512/512 [==============================] - 96s 187ms/step - loss: 0.1848 - accuracy: 0.9557 - val_loss: 0.5350 - val_accuracy: 0.8922\n",
      "Epoch 9/10\n",
      "512/512 [==============================] - 95s 186ms/step - loss: 0.0952 - accuracy: 0.9738 - val_loss: 0.5747 - val_accuracy: 0.8813\n",
      "Epoch 10/10\n",
      "512/512 [==============================] - 95s 186ms/step - loss: 0.1404 - accuracy: 0.9637 - val_loss: 0.4376 - val_accuracy: 0.8922\n"
     ]
    },
    {
     "data": {
      "text/plain": [
       "<tensorflow.python.keras.callbacks.History at 0x29cdc264208>"
      ]
     },
     "execution_count": 7,
     "metadata": {},
     "output_type": "execute_result"
    }
   ],
   "source": [
    "model.fit(x=train_batches, validation_data=valid_batches, epochs=10, verbose=1)"
   ]
  },
  {
   "cell_type": "code",
   "execution_count": 8,
   "metadata": {},
   "outputs": [],
   "source": [
    "filepath = \"./keras_five_filters_color_few_layers.hdf5\"\n",
    "\n",
    "model.save(\n",
    "   filepath, overwrite=True, include_optimizer=True, save_format=\"h5\",\n",
    "    signatures=None, options=None\n",
    ")"
   ]
  },
  {
   "cell_type": "code",
   "execution_count": null,
   "metadata": {},
   "outputs": [],
   "source": []
  }
 ],
 "metadata": {
  "kernelspec": {
   "display_name": "Python 3",
   "language": "python",
   "name": "python3"
  },
  "language_info": {
   "codemirror_mode": {
    "name": "ipython",
    "version": 3
   },
   "file_extension": ".py",
   "mimetype": "text/x-python",
   "name": "python",
   "nbconvert_exporter": "python",
   "pygments_lexer": "ipython3",
   "version": "3.7.7"
  }
 },
 "nbformat": 4,
 "nbformat_minor": 4
}
