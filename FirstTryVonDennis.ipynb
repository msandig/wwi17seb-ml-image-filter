{
 "cells": [
  {
   "cell_type": "code",
   "execution_count": 1,
   "metadata": {},
   "outputs": [
    {
     "name": "stderr",
     "output_type": "stream",
     "text": [
      "C:\\Users\\Dennis\\anaconda3\\lib\\site-packages\\tensorflow\\python\\framework\\dtypes.py:516: FutureWarning: Passing (type, 1) or '1type' as a synonym of type is deprecated; in a future version of numpy, it will be understood as (type, (1,)) / '(1,)type'.\n",
      "  _np_qint8 = np.dtype([(\"qint8\", np.int8, 1)])\n",
      "C:\\Users\\Dennis\\anaconda3\\lib\\site-packages\\tensorflow\\python\\framework\\dtypes.py:517: FutureWarning: Passing (type, 1) or '1type' as a synonym of type is deprecated; in a future version of numpy, it will be understood as (type, (1,)) / '(1,)type'.\n",
      "  _np_quint8 = np.dtype([(\"quint8\", np.uint8, 1)])\n",
      "C:\\Users\\Dennis\\anaconda3\\lib\\site-packages\\tensorflow\\python\\framework\\dtypes.py:518: FutureWarning: Passing (type, 1) or '1type' as a synonym of type is deprecated; in a future version of numpy, it will be understood as (type, (1,)) / '(1,)type'.\n",
      "  _np_qint16 = np.dtype([(\"qint16\", np.int16, 1)])\n",
      "C:\\Users\\Dennis\\anaconda3\\lib\\site-packages\\tensorflow\\python\\framework\\dtypes.py:519: FutureWarning: Passing (type, 1) or '1type' as a synonym of type is deprecated; in a future version of numpy, it will be understood as (type, (1,)) / '(1,)type'.\n",
      "  _np_quint16 = np.dtype([(\"quint16\", np.uint16, 1)])\n",
      "C:\\Users\\Dennis\\anaconda3\\lib\\site-packages\\tensorflow\\python\\framework\\dtypes.py:520: FutureWarning: Passing (type, 1) or '1type' as a synonym of type is deprecated; in a future version of numpy, it will be understood as (type, (1,)) / '(1,)type'.\n",
      "  _np_qint32 = np.dtype([(\"qint32\", np.int32, 1)])\n",
      "C:\\Users\\Dennis\\anaconda3\\lib\\site-packages\\tensorflow\\python\\framework\\dtypes.py:525: FutureWarning: Passing (type, 1) or '1type' as a synonym of type is deprecated; in a future version of numpy, it will be understood as (type, (1,)) / '(1,)type'.\n",
      "  np_resource = np.dtype([(\"resource\", np.ubyte, 1)])\n",
      "C:\\Users\\Dennis\\anaconda3\\lib\\site-packages\\tensorboard\\compat\\tensorflow_stub\\dtypes.py:541: FutureWarning: Passing (type, 1) or '1type' as a synonym of type is deprecated; in a future version of numpy, it will be understood as (type, (1,)) / '(1,)type'.\n",
      "  _np_qint8 = np.dtype([(\"qint8\", np.int8, 1)])\n",
      "C:\\Users\\Dennis\\anaconda3\\lib\\site-packages\\tensorboard\\compat\\tensorflow_stub\\dtypes.py:542: FutureWarning: Passing (type, 1) or '1type' as a synonym of type is deprecated; in a future version of numpy, it will be understood as (type, (1,)) / '(1,)type'.\n",
      "  _np_quint8 = np.dtype([(\"quint8\", np.uint8, 1)])\n",
      "C:\\Users\\Dennis\\anaconda3\\lib\\site-packages\\tensorboard\\compat\\tensorflow_stub\\dtypes.py:543: FutureWarning: Passing (type, 1) or '1type' as a synonym of type is deprecated; in a future version of numpy, it will be understood as (type, (1,)) / '(1,)type'.\n",
      "  _np_qint16 = np.dtype([(\"qint16\", np.int16, 1)])\n",
      "C:\\Users\\Dennis\\anaconda3\\lib\\site-packages\\tensorboard\\compat\\tensorflow_stub\\dtypes.py:544: FutureWarning: Passing (type, 1) or '1type' as a synonym of type is deprecated; in a future version of numpy, it will be understood as (type, (1,)) / '(1,)type'.\n",
      "  _np_quint16 = np.dtype([(\"quint16\", np.uint16, 1)])\n",
      "C:\\Users\\Dennis\\anaconda3\\lib\\site-packages\\tensorboard\\compat\\tensorflow_stub\\dtypes.py:545: FutureWarning: Passing (type, 1) or '1type' as a synonym of type is deprecated; in a future version of numpy, it will be understood as (type, (1,)) / '(1,)type'.\n",
      "  _np_qint32 = np.dtype([(\"qint32\", np.int32, 1)])\n",
      "C:\\Users\\Dennis\\anaconda3\\lib\\site-packages\\tensorboard\\compat\\tensorflow_stub\\dtypes.py:550: FutureWarning: Passing (type, 1) or '1type' as a synonym of type is deprecated; in a future version of numpy, it will be understood as (type, (1,)) / '(1,)type'.\n",
      "  np_resource = np.dtype([(\"resource\", np.ubyte, 1)])\n"
     ]
    }
   ],
   "source": [
    "import numpy as np\n",
    "import tensorflow as tf\n",
    "from tensorflow import keras\n",
    "from tensorflow.keras.models import Sequential \n",
    "from tensorflow.keras.layers import Activation, Dense, Flatten, BatchNormalization, Conv2D, MaxPool2D\n",
    "from tensorflow.keras.optimizers import Adam\n",
    "from tensorflow.keras.metrics import categorical_crossentropy\n",
    "from tensorflow.keras.preprocessing.image import ImageDataGenerator\n",
    "from sklearn.metrics import confusion_matrix\n",
    "import itertools\n",
    "import os\n",
    "import shutil\n",
    "import random \n",
    "import glob\n",
    "import matplotlib.pyplot as plt\n",
    "import warnings\n",
    "warnings.simplefilter(action='ignore', category=FutureWarning)\n",
    "%matplotlib inline"
   ]
  },
  {
   "cell_type": "code",
   "execution_count": 2,
   "metadata": {},
   "outputs": [
    {
     "name": "stdout",
     "output_type": "stream",
     "text": [
      "Num GPUs Available 1\n"
     ]
    }
   ],
   "source": [
    "physical_devices = tf.config.experimental.list_physical_devices('GPU')\n",
    "print(\"Num GPUs Available\", len(physical_devices))"
   ]
  },
  {
   "cell_type": "code",
   "execution_count": 3,
   "metadata": {},
   "outputs": [],
   "source": [
    "os.chdir('C:/Users/Dennis/Documents/GitHub/wwi17seb-ml-image-filter/Filter_Images')\n",
    "if os.path.isdir('train') is False: \n",
    "    os.makedirs('train')\n",
    "    os.makedirs('test')\n",
    "    os.makedirs('valid')\n",
    "\n",
    "if os.path.isdir('train/1977') is False: \n",
    "    os.makedirs('train/1977')\n",
    "    os.makedirs('valid/1977')\n",
    "    os.makedirs('test/1977')\n",
    "\n",
    "    os.chdir('1977')\n",
    "    for c in random.sample(glob.glob('*'), 200): \n",
    "        shutil.move(c, '../train/1977' )\n",
    "    for c in random.sample(glob.glob('*'), 25): \n",
    "        shutil.move(c, '../valid/1977' )\n",
    "    for c in random.sample(glob.glob('*'), 25): \n",
    "        shutil.move(c, '../test/1977' )\n",
    "        \n",
    "    os.chdir('../')\n",
    "\n",
    "if os.path.isdir('train/Amaro') is False: \n",
    "    os.makedirs('train/Amaro')\n",
    "    os.makedirs('valid/Amaro')\n",
    "    os.makedirs('test/Amaro')\n",
    "\n",
    "    os.chdir('Amaro')\n",
    "    for c in random.sample(glob.glob('*'), 200): \n",
    "        shutil.move(c, '../train/Amaro' )\n",
    "    for c in random.sample(glob.glob('*'), 25): \n",
    "        shutil.move(c, '../valid/Amaro' )\n",
    "    for c in random.sample(glob.glob('*'), 25): \n",
    "        shutil.move(c, '../test/Amaro' )\n",
    "        \n",
    "\n",
    "    os.chdir('../')\n",
    "    \n",
    "if os.path.isdir('train/Apollo') is False: \n",
    "    os.makedirs('train/Apollo')\n",
    "    os.makedirs('valid/Apollo')\n",
    "    os.makedirs('test/Apollo')\n",
    "\n",
    "    os.chdir('Apollo')\n",
    "    for c in random.sample(glob.glob('*'), 200): \n",
    "        shutil.move(c, '../train/Apollo' )\n",
    "    for c in random.sample(glob.glob('*'), 25): \n",
    "        shutil.move(c, '../valid/Apollo' )\n",
    "    for c in random.sample(glob.glob('*'), 25): \n",
    "        shutil.move(c, '../test/Apollo' )\n",
    "        \n",
    "\n",
    "    os.chdir('../')\n",
    "    \n",
    "if os.path.isdir('train/Brannan') is False: \n",
    "    os.makedirs('train/Brannan')\n",
    "    os.makedirs('valid/Brannan')\n",
    "    os.makedirs('test/Brannan')\n",
    "\n",
    "    os.chdir('Brannan')\n",
    "    for c in random.sample(glob.glob('*'), 200): \n",
    "        shutil.move(c, '../train/Brannan' )\n",
    "    for c in random.sample(glob.glob('*'), 25): \n",
    "        shutil.move(c, '../valid/Brannan' )\n",
    "    for c in random.sample(glob.glob('*'), 25): \n",
    "        shutil.move(c, '../test/Brannan' )\n",
    "        \n",
    "\n",
    "    os.chdir('../')\n",
    "    \n",
    "if os.path.isdir('train/Earlybird') is False: \n",
    "    os.makedirs('train/Earlybird')\n",
    "    os.makedirs('valid/Earlybird')\n",
    "    os.makedirs('test/Earlybird')\n",
    "\n",
    "    os.chdir('Earlybird')\n",
    "    for c in random.sample(glob.glob('*'), 200): \n",
    "        shutil.move(c, '../train/Earlybird' )\n",
    "    for c in random.sample(glob.glob('*'), 25): \n",
    "        shutil.move(c, '../valid/Earlybird' )\n",
    "    for c in random.sample(glob.glob('*'), 25): \n",
    "        shutil.move(c, '../test/Earlybird' )\n",
    "        \n",
    "\n",
    "    os.chdir('../../')   \n",
    "        "
   ]
  },
  {
   "cell_type": "code",
   "execution_count": 4,
   "metadata": {},
   "outputs": [],
   "source": [
    "os.chdir('C:/Users/Dennis/Documents/GitHub/wwi17seb-ml-image-filter')\n",
    "train_path = 'Filter_Images/train'\n",
    "valid_path = 'Filter_Images/valid'\n",
    "test_path = 'Filter_Images/test'"
   ]
  },
  {
   "cell_type": "code",
   "execution_count": 5,
   "metadata": {},
   "outputs": [
    {
     "name": "stdout",
     "output_type": "stream",
     "text": [
      "Found 609 images belonging to 3 classes.\n",
      "Found 75 images belonging to 3 classes.\n",
      "Found 75 images belonging to 3 classes.\n"
     ]
    }
   ],
   "source": [
    "train_batches = ImageDataGenerator(preprocessing_function=tf.keras.applications.vgg16.preprocess_input) \\\n",
    "    .flow_from_directory(directory=train_path, target_size=(224,224), classes=['1977', 'Amaro', 'Apollo'], batch_size=10)\n",
    "valid_batches = ImageDataGenerator(preprocessing_function=tf.keras.applications.vgg16.preprocess_input) \\\n",
    "    .flow_from_directory(directory=valid_path, target_size=(224,224), classes=['1977', 'Amaro', 'Apollo'], batch_size=10)\n",
    "test_batches = ImageDataGenerator(preprocessing_function=tf.keras.applications.vgg16.preprocess_input) \\\n",
    "    .flow_from_directory(directory=test_path, target_size=(224,224), classes=['1977', 'Amaro', 'Apollo'], batch_size=10, shuffle=False)"
   ]
  },
  {
   "cell_type": "code",
   "execution_count": 6,
   "metadata": {},
   "outputs": [],
   "source": [
    "imgs, labels = next(train_batches)"
   ]
  },
  {
   "cell_type": "code",
   "execution_count": 7,
   "metadata": {},
   "outputs": [],
   "source": [
    "def plotImages(images_arr):\n",
    "    fig, axes = plt.subplots(1,10,figsize=(20,20))\n",
    "    axes = axes.flatten()\n",
    "    for img, ax in zip( images_arr, axes):\n",
    "        ax.imshow(img)\n",
    "        ax.axis('off')\n",
    "    plt.tight_layout()\n",
    "    plt.show()"
   ]
  },
  {
   "cell_type": "code",
   "execution_count": 8,
   "metadata": {},
   "outputs": [
    {
     "name": "stderr",
     "output_type": "stream",
     "text": [
      "Clipping input data to the valid range for imshow with RGB data ([0..1] for floats or [0..255] for integers).\n",
      "Clipping input data to the valid range for imshow with RGB data ([0..1] for floats or [0..255] for integers).\n",
      "Clipping input data to the valid range for imshow with RGB data ([0..1] for floats or [0..255] for integers).\n",
      "Clipping input data to the valid range for imshow with RGB data ([0..1] for floats or [0..255] for integers).\n",
      "Clipping input data to the valid range for imshow with RGB data ([0..1] for floats or [0..255] for integers).\n",
      "Clipping input data to the valid range for imshow with RGB data ([0..1] for floats or [0..255] for integers).\n",
      "Clipping input data to the valid range for imshow with RGB data ([0..1] for floats or [0..255] for integers).\n",
      "Clipping input data to the valid range for imshow with RGB data ([0..1] for floats or [0..255] for integers).\n",
      "Clipping input data to the valid range for imshow with RGB data ([0..1] for floats or [0..255] for integers).\n",
      "Clipping input data to the valid range for imshow with RGB data ([0..1] for floats or [0..255] for integers).\n"
     ]
    },
    {
     "data": {
      "image/png": "[encoded data removed]",
      "text/plain": [
       "<Figure size 1440x1440 with 10 Axes>"
      ]
     },
     "metadata": {
      "needs_background": "light"
     },
     "output_type": "display_data"
    },
    {
     "name": "stdout",
     "output_type": "stream",
     "text": [
      "[[0. 0. 1.]\n",
      " [0. 0. 1.]\n",
      " [0. 1. 0.]\n",
      " [1. 0. 0.]\n",
      " [0. 1. 0.]\n",
      " [0. 0. 1.]\n",
      " [0. 1. 0.]\n",
      " [1. 0. 0.]\n",
      " [0. 1. 0.]\n",
      " [1. 0. 0.]]\n"
     ]
    }
   ],
   "source": [
    "plotImages(imgs)\n",
    "print(labels)"
   ]
  },
  {
   "cell_type": "code",
   "execution_count": 13,
   "metadata": {},
   "outputs": [],
   "source": [
    "model = Sequential([\n",
    "    Conv2D(filters=32, kernel_size=(3, 3), activation='relu', padding='same', input_shape=(224,224,3)), \n",
    "    MaxPool2D(pool_size=(2, 2), strides=2), \n",
    "    Conv2D(filters=64, kernel_size=(3,3), activation='relu', padding='same'), \n",
    "    MaxPool2D(pool_size=(2,2), strides=2), \n",
    "    Flatten(), \n",
    "    Dense(units=3, activation='softmax'),\n",
    "])"
   ]
  },
  {
   "cell_type": "code",
   "execution_count": 14,
   "metadata": {},
   "outputs": [
    {
     "name": "stdout",
     "output_type": "stream",
     "text": [
      "Model: \"sequential_1\"\n",
      "_________________________________________________________________\n",
      "Layer (type)                 Output Shape              Param #   \n",
      "=================================================================\n",
      "conv2d_2 (Conv2D)            (None, 224, 224, 32)      896       \n",
      "_________________________________________________________________\n",
      "max_pooling2d_2 (MaxPooling2 (None, 112, 112, 32)      0         \n",
      "_________________________________________________________________\n",
      "conv2d_3 (Conv2D)            (None, 112, 112, 64)      18496     \n",
      "_________________________________________________________________\n",
      "max_pooling2d_3 (MaxPooling2 (None, 56, 56, 64)        0         \n",
      "_________________________________________________________________\n",
      "flatten_1 (Flatten)          (None, 200704)            0         \n",
      "_________________________________________________________________\n",
      "dense_1 (Dense)              (None, 3)                 602115    \n",
      "=================================================================\n",
      "Total params: 621,507\n",
      "Trainable params: 621,507\n",
      "Non-trainable params: 0\n",
      "_________________________________________________________________\n"
     ]
    }
   ],
   "source": [
    "model.summary()"
   ]
  },
  {
   "cell_type": "code",
   "execution_count": 15,
   "metadata": {},
   "outputs": [],
   "source": [
    "model.compile(optimizer=Adam(learning_rate=0.0001), loss='categorical_crossentropy', metrics=['accuracy'])"
   ]
  },
  {
   "cell_type": "code",
   "execution_count": 16,
   "metadata": {},
   "outputs": [
    {
     "name": "stdout",
     "output_type": "stream",
     "text": [
      "Epoch 1/10\n",
      "61/61 - 11s - loss: 26.9267 - acc: 0.6601 - val_loss: 13.2043 - val_acc: 0.6933\n",
      "Epoch 2/10\n",
      "61/61 - 9s - loss: 3.4607 - acc: 0.8982 - val_loss: 5.5768 - val_acc: 0.8400\n",
      "Epoch 3/10\n",
      "61/61 - 9s - loss: 0.9920 - acc: 0.9655 - val_loss: 4.7855 - val_acc: 0.8267\n",
      "Epoch 4/10\n",
      "61/61 - 9s - loss: 0.5626 - acc: 0.9721 - val_loss: 5.1689 - val_acc: 0.8800\n",
      "Epoch 5/10\n",
      "61/61 - 9s - loss: 0.4541 - acc: 0.9737 - val_loss: 7.1719 - val_acc: 0.8267\n",
      "Epoch 6/10\n",
      "61/61 - 9s - loss: 0.8807 - acc: 0.9557 - val_loss: 10.6918 - val_acc: 0.7733\n",
      "Epoch 7/10\n",
      "61/61 - 9s - loss: 0.4727 - acc: 0.9655 - val_loss: 3.5914 - val_acc: 0.8667\n",
      "Epoch 8/10\n",
      "61/61 - 9s - loss: 0.7290 - acc: 0.9557 - val_loss: 5.7260 - val_acc: 0.8400\n",
      "Epoch 9/10\n",
      "61/61 - 9s - loss: 0.5461 - acc: 0.9803 - val_loss: 4.9532 - val_acc: 0.8400\n",
      "Epoch 10/10\n",
      "61/61 - 9s - loss: 4.3211e-04 - acc: 1.0000 - val_loss: 4.9389 - val_acc: 0.8400\n"
     ]
    },
    {
     "data": {
      "text/plain": [
       "<tensorflow.python.keras.callbacks.History at 0x170df4254c8>"
      ]
     },
     "execution_count": 16,
     "metadata": {},
     "output_type": "execute_result"
    }
   ],
   "source": [
    "model.fit(x=train_batches, validation_data=valid_batches, epochs=10, verbose=2)"
   ]
  },
  {
   "cell_type": "code",
   "execution_count": null,
   "metadata": {},
   "outputs": [],
   "source": []
  }
 ],
 "metadata": {
  "kernelspec": {
   "display_name": "Python 3",
   "language": "python",
   "name": "python3"
  },
  "language_info": {
   "codemirror_mode": {
    "name": "ipython",
    "version": 3
   },
   "file_extension": ".py",
   "mimetype": "text/x-python",
   "name": "python",
   "nbconvert_exporter": "python",
   "pygments_lexer": "ipython3",
   "version": "3.7.6"
  }
 },
 "nbformat": 4,
 "nbformat_minor": 4
}
