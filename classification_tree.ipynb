{
 "cells": [
  {
   "cell_type": "markdown",
   "metadata": {},
   "source": [
    "# Versuch einen Decision Tree für Klassifizierung von Bildern zu verwenden\n",
    "## Imports\n",
    "\n",
    "Bitte installieren Sie zuvor Python-OpenCV (am besten mit PIP, da Anaconda gerne fehlschlägt).\n",
    "Zudem sollte das [FACD_Dataset](https://wtwilsonsun.github.io/FACD/) heruntergeladen und entpackt sein."
   ]
  },
  {
   "cell_type": "code",
   "execution_count": 1,
   "metadata": {
    "pycharm": {
     "is_executing": false
    }
   },
   "outputs": [],
   "source": [
    "from sklearn import tree\n",
    "import cv2 \n",
    "import os\n",
    "import glob\n",
    "import numpy as np"
   ]
  },
  {
   "cell_type": "markdown",
   "metadata": {},
   "source": [
    "## Test mit zwei Klassen\n",
    "### Laden und Formatieren der Bilder\n",
    "Zum Trainieren des DecisionTrees wird ein Auszu des gesamten FACD-Datensatzes verwendet. \n",
    "Hierzu werden 32 Originalbilder und die dazugehörigen Bilder des Filters \"Amaro\" verwendet.\n",
    "Zum Trainieren werden alle Bilder auf ein Format von 244 x 244 gebracht und anschließend in einen 1D-Vector gebracht."
   ]
  },
  {
   "cell_type": "code",
   "execution_count": 2,
   "metadata": {},
   "outputs": [],
   "source": [
    "img_dir_amaro = \"filter_decision_tree/amaro\"\n",
    "img_dir_origin = \"filter_decision_tree/original\"\n",
    "data_path_amaro = os.path.join(img_dir_amaro,'*g')\n",
    "data_path_origin = os.path.join(img_dir_origin,'*g')\n",
    "files_amaro = glob.glob(data_path_amaro)\n",
    "files_origin = glob.glob(data_path_origin)\n",
    "data_origin = []\n",
    "data_amaro = []\n",
    "\n",
    "shape = (244,244)\n",
    "\n",
    "for f1 in files_origin:\n",
    "    origin = cv2.imread(f1, cv2.IMREAD_GRAYSCALE)\n",
    "    origin = cv2.resize(origin, shape)\n",
    "    data_origin.append(origin.flatten()) \n",
    "    \n",
    "    \n",
    "for f1 in files_amaro:   \n",
    "    amaro = cv2.imread(f1, cv2.IMREAD_GRAYSCALE)\n",
    "    amaro = cv2.resize(amaro, shape)\n",
    "    data_amaro.append(amaro.flatten())\n",
    "    \n"
   ]
  },
  {
   "cell_type": "markdown",
   "metadata": {},
   "source": [
    "### Erstellen des DecisionTrees"
   ]
  },
  {
   "cell_type": "code",
   "execution_count": 3,
   "metadata": {
    "pycharm": {
     "is_executing": false
    },
    "scrolled": true
   },
   "outputs": [
    {
     "name": "stdout",
     "output_type": "stream",
     "text": [
      "(64, 59536)\n"
     ]
    },
    {
     "data": {
      "text/plain": [
       "DecisionTreeClassifier(ccp_alpha=0.0, class_weight=None, criterion='gini',\n",
       "                       max_depth=None, max_features=None, max_leaf_nodes=None,\n",
       "                       min_impurity_decrease=0.0, min_impurity_split=None,\n",
       "                       min_samples_leaf=1, min_samples_split=2,\n",
       "                       min_weight_fraction_leaf=0.0, presort='deprecated',\n",
       "                       random_state=None, splitter='best')"
      ]
     },
     "execution_count": 3,
     "metadata": {},
     "output_type": "execute_result"
    }
   ],
   "source": [
    "data_origin = np.array(data_origin) \n",
    "data_amaro = np.array(data_amaro) \n",
    "\n",
    "X = np.concatenate((data_amaro, data_origin))\n",
    "print(X.shape)\n",
    "y = [\"amaro\" for i in range(32)] + [\"origin\" for i in range(32)]\n",
    "\n",
    "clf = tree.DecisionTreeClassifier()\n",
    "clf.fit(X, y) "
   ]
  },
  {
   "cell_type": "markdown",
   "metadata": {},
   "source": [
    "### Anzeige des Trees"
   ]
  },
  {
   "cell_type": "code",
   "execution_count": 4,
   "metadata": {},
   "outputs": [
    {
     "data": {
      "text/plain": [
       "[Text(167.4, 163.07999999999998, 'X[41477] <= 2.0\\ngini = 0.5\\nsamples = 64\\nvalue = [32, 32]'),\n",
       " Text(83.7, 54.360000000000014, 'gini = 0.0\\nsamples = 32\\nvalue = [32, 0]'),\n",
       " Text(251.10000000000002, 54.360000000000014, 'gini = 0.0\\nsamples = 32\\nvalue = [0, 32]')]"
      ]
     },
     "execution_count": 4,
     "metadata": {},
     "output_type": "execute_result"
    },
    {
     "data": {
      "image/png": "[encoded data removed]",
      "text/plain": [
       "<Figure size 432x288 with 1 Axes>"
      ]
     },
     "metadata": {
      "needs_background": "light"
     },
     "output_type": "display_data"
    }
   ],
   "source": [
    "tree.plot_tree(clf)"
   ]
  },
  {
   "cell_type": "markdown",
   "metadata": {},
   "source": [
    "### Laden von Testbildern\n",
    "Zum Testen wird ein original Bild und das passende gefilterte Bild verwendet, welches nicht zu den Trainingsdaten gehört."
   ]
  },
  {
   "cell_type": "code",
   "execution_count": 5,
   "metadata": {},
   "outputs": [
    {
     "name": "stdout",
     "output_type": "stream",
     "text": [
      "Prediction for amaro picture: ['amaro']\n",
      "Prediction for origin picture: ['origin']\n"
     ]
    }
   ],
   "source": [
    "amaro = cv2.imread(\"filter_decision_tree/test_data/amaro.jpg\", cv2.IMREAD_GRAYSCALE)\n",
    "amaro = cv2.resize(amaro, shape)\n",
    "amaro = amaro.flatten()\n",
    "\n",
    "original = cv2.imread(\"filter_decision_tree/test_data/original.jpg\", cv2.IMREAD_GRAYSCALE)\n",
    "original = cv2.resize(original, shape)\n",
    "original = original.flatten()\n",
    "\n",
    "print(\"Prediction for amaro picture:\", clf.predict([amaro]))\n",
    "print(\"Prediction for origin picture:\", clf.predict([original]))"
   ]
  },
  {
   "cell_type": "markdown",
   "metadata": {},
   "source": [
    "Das Ergebnis für dieser Erkennung sieht zunächst gut aus. \n",
    "Die zwei Testbilder werden der richtigen Klasse zugeordnet. \n",
    "Nun soll es mit drei Klassen probiert werden, da die \"gefilterten\"-Bilder immer einen schwarzen Rand besitzen und hierdurch eine Zuordnung erfolgen könnte."
   ]
  },
  {
   "cell_type": "markdown",
   "metadata": {},
   "source": [
    "## Test mit einer dritten Klasse\n",
    "### Hinzufügen einer dritten Klasse"
   ]
  },
  {
   "cell_type": "code",
   "execution_count": 6,
   "metadata": {},
   "outputs": [],
   "source": [
    "img_dir_lofi = \"filter_decision_tree/lofi\"\n",
    "data_path_lofi = os.path.join(img_dir_lofi,'*g')\n",
    "files_lofi = glob.glob(data_path_lofi)\n",
    "data_lofi = []\n",
    "\n",
    "for f1 in files_lofi:\n",
    "    lofi = cv2.imread(f1, cv2.IMREAD_GRAYSCALE)\n",
    "    lofi = cv2.resize(lofi, shape)\n",
    "    data_lofi.append(lofi.flatten()) "
   ]
  },
  {
   "cell_type": "markdown",
   "metadata": {},
   "source": [
    "### Erstellen des DecisionTrees"
   ]
  },
  {
   "cell_type": "code",
   "execution_count": 7,
   "metadata": {},
   "outputs": [
    {
     "data": {
      "text/plain": [
       "[Text(186.0, 195.696, 'X[42458] <= 2.5\\ngini = 0.667\\nsamples = 96\\nvalue = [32, 32, 32]'),\n",
       " Text(148.8, 152.208, 'X[44117] <= 88.0\\ngini = 0.5\\nsamples = 64\\nvalue = [32, 32, 0]'),\n",
       " Text(74.4, 108.72, 'X[23717] <= 147.5\\ngini = 0.285\\nsamples = 29\\nvalue = [5, 24, 0]'),\n",
       " Text(37.2, 65.232, 'gini = 0.0\\nsamples = 23\\nvalue = [0, 23, 0]'),\n",
       " Text(111.60000000000001, 65.232, 'X[33415] <= 13.0\\ngini = 0.278\\nsamples = 6\\nvalue = [5, 1, 0]'),\n",
       " Text(74.4, 21.744, 'gini = 0.0\\nsamples = 1\\nvalue = [0, 1, 0]'),\n",
       " Text(148.8, 21.744, 'gini = 0.0\\nsamples = 5\\nvalue = [5, 0, 0]'),\n",
       " Text(223.20000000000002, 108.72, 'X[15149] <= 13.5\\ngini = 0.353\\nsamples = 35\\nvalue = [27, 8, 0]'),\n",
       " Text(186.0, 65.232, 'gini = 0.0\\nsamples = 5\\nvalue = [0, 5, 0]'),\n",
       " Text(260.40000000000003, 65.232, 'X[45881] <= 134.0\\ngini = 0.18\\nsamples = 30\\nvalue = [27, 3, 0]'),\n",
       " Text(223.20000000000002, 21.744, 'gini = 0.0\\nsamples = 27\\nvalue = [27, 0, 0]'),\n",
       " Text(297.6, 21.744, 'gini = 0.0\\nsamples = 3\\nvalue = [0, 3, 0]'),\n",
       " Text(223.20000000000002, 152.208, 'gini = 0.0\\nsamples = 32\\nvalue = [0, 0, 32]')]"
      ]
     },
     "execution_count": 7,
     "metadata": {},
     "output_type": "execute_result"
    },
    {
     "data": {
      "image/png": "[encoded data removed]",
      "text/plain": [
       "<Figure size 432x288 with 1 Axes>"
      ]
     },
     "metadata": {
      "needs_background": "light"
     },
     "output_type": "display_data"
    }
   ],
   "source": [
    "data_lofi = np.array(data_lofi)\n",
    "\n",
    "X_new = np.concatenate((data_amaro, data_origin, data_lofi))\n",
    "y_new = [\"amaro\" for i in range(32)] + [\"origin\" for i in range(32)] + [\"lofi\" for i in range(32)]\n",
    "\n",
    "clf_new = tree.DecisionTreeClassifier()\n",
    "clf_new.fit(X_new, y_new) \n",
    "tree.plot_tree(clf_new)"
   ]
  },
  {
   "cell_type": "markdown",
   "metadata": {},
   "source": [
    "### Prediction des neuen Trees"
   ]
  },
  {
   "cell_type": "code",
   "execution_count": 8,
   "metadata": {},
   "outputs": [
    {
     "name": "stdout",
     "output_type": "stream",
     "text": [
      "Prediction for amaro picture: ['amaro']\n",
      "Prediction for origin picture: ['origin']\n",
      "Prediction for lofi picture: ['amaro']\n"
     ]
    }
   ],
   "source": [
    "lofi = cv2.imread(\"filter_decision_tree/test_data/lofi.jpg\", cv2.IMREAD_GRAYSCALE)\n",
    "lofi = cv2.resize(lofi, shape)\n",
    "lofi = lofi.flatten()\n",
    "\n",
    "print(\"Prediction for amaro picture:\", clf_new.predict([amaro]))\n",
    "print(\"Prediction for origin picture:\", clf_new.predict([original]))\n",
    "print(\"Prediction for lofi picture:\", clf_new.predict([lofi]))"
   ]
  },
  {
   "cell_type": "markdown",
   "metadata": {},
   "source": [
    "Wie zu sehen ist, klappt die Klassifikation in diesem Fall nicht mehr. :(\n",
    "\n",
    "Als nächstes probieren wir es mit mehr Testdaten aus."
   ]
  },
  {
   "cell_type": "markdown",
   "metadata": {},
   "source": [
    "## Test mit allen FACD-Daten der ausgewählten Klassen"
   ]
  },
  {
   "cell_type": "code",
   "execution_count": 9,
   "metadata": {},
   "outputs": [],
   "source": [
    "img_dir_amaro = \"FACD_image/Amaro\"\n",
    "img_dir_origin = \"FACD_image/Original\"\n",
    "img_dir_origin = \"FACD_image/Lofi\"\n",
    "\n",
    "data_path_amaro = os.path.join(img_dir_amaro,'*g')\n",
    "data_path_origin = os.path.join(img_dir_origin,'*g')\n",
    "data_path_lofi = os.path.join(img_dir_lofi,'*g')\n",
    "\n",
    "files_amaro = glob.glob(data_path_amaro)\n",
    "files_origin = glob.glob(data_path_origin)\n",
    "files_lofi = glob.glob(data_path_lofi)\n",
    "\n",
    "data_origin = []\n",
    "data_amaro = []\n",
    "data_lofi = []\n",
    "\n",
    "test_image= \"601122\" #ignore this picture during fit phase\n",
    "\n",
    "for f1 in files_origin:\n",
    "    if test_image in f1:\n",
    "        continue\n",
    "    origin = cv2.imread(f1, cv2.IMREAD_GRAYSCALE)\n",
    "    origin = cv2.resize(origin, shape)\n",
    "    data_origin.append(origin.flatten()) \n",
    "    \n",
    "    \n",
    "for f1 in files_amaro:  \n",
    "    if test_image in f1:\n",
    "        continue\n",
    "    amaro = cv2.imread(f1, cv2.IMREAD_GRAYSCALE)\n",
    "    amaro = cv2.resize(amaro, shape)\n",
    "    data_amaro.append(amaro.flatten())\n",
    "\n",
    "for f1 in files_lofi:\n",
    "    if test_image in f1:\n",
    "        continue\n",
    "    lofi = cv2.imread(f1, cv2.IMREAD_GRAYSCALE)\n",
    "    lofi = cv2.resize(lofi, shape)\n",
    "    data_lofi.append(lofi.flatten()) "
   ]
  },
  {
   "cell_type": "code",
   "execution_count": 10,
   "metadata": {},
   "outputs": [
    {
     "name": "stdout",
     "output_type": "stream",
     "text": [
      "(2590, 59536)\n"
     ]
    },
    {
     "data": {
      "text/plain": [
       "[Text(139.42518697820037, 212.71304347826086, 'X[56974] <= 10.5\\ngini = 0.512\\nsamples = 2590\\nvalue = [1279, 32, 1279]'),\n",
       " Text(16.56400742115028, 203.2591304347826, 'X[35180] <= 223.0\\ngini = 0.113\\nsamples = 354\\nvalue = [16, 5, 333]'),\n",
       " Text(13.251205936920224, 193.80521739130435, 'X[2508] <= 0.5\\ngini = 0.083\\nsamples = 348\\nvalue = [10, 5, 333]'),\n",
       " Text(6.625602968460112, 184.3513043478261, 'X[5970] <= 100.0\\ngini = 0.32\\nsamples = 5\\nvalue = [4, 0, 1]'),\n",
       " Text(3.312801484230056, 174.89739130434782, 'gini = 0.0\\nsamples = 1\\nvalue = [0, 0, 1]'),\n",
       " Text(9.938404452690168, 174.89739130434782, 'gini = 0.0\\nsamples = 4\\nvalue = [4, 0, 0]'),\n",
       " Text(19.876808905380337, 184.3513043478261, 'X[24845] <= 224.0\\ngini = 0.063\\nsamples = 343\\nvalue = [6, 5, 332]'),\n",
       " Text(16.56400742115028, 174.89739130434782, 'X[13820] <= 229.0\\ngini = 0.046\\nsamples = 340\\nvalue = [3, 5, 332]'),\n",
       " Text(13.251205936920224, 165.44347826086957, 'X[35211] <= 11.5\\ngini = 0.035\\nsamples = 338\\nvalue = [1, 5, 332]'),\n",
       " Text(9.938404452690168, 155.98956521739132, 'gini = 0.0\\nsamples = 1\\nvalue = [1, 0, 0]'),\n",
       " Text(16.56400742115028, 155.98956521739132, 'X[24874] <= 3.5\\ngini = 0.029\\nsamples = 337\\nvalue = [0, 5, 332]'),\n",
       " Text(9.938404452690168, 146.53565217391304, 'X[18892] <= 77.5\\ngini = 0.5\\nsamples = 4\\nvalue = [0, 2, 2]'),\n",
       " Text(6.625602968460112, 137.08173913043478, 'gini = 0.5\\nsamples = 2\\nvalue = [0, 1, 1]'),\n",
       " Text(13.251205936920224, 137.08173913043478, 'gini = 0.5\\nsamples = 2\\nvalue = [0, 1, 1]'),\n",
       " Text(23.18961038961039, 146.53565217391304, 'X[20331] <= 224.5\\ngini = 0.018\\nsamples = 333\\nvalue = [0, 3, 330]'),\n",
       " Text(19.876808905380337, 137.08173913043478, 'X[4630] <= 0.5\\ngini = 0.012\\nsamples = 331\\nvalue = [0, 2, 329]'),\n",
       " Text(16.56400742115028, 127.62782608695652, 'gini = 0.5\\nsamples = 2\\nvalue = [0, 1, 1]'),\n",
       " Text(23.18961038961039, 127.62782608695652, 'X[47083] <= 186.0\\ngini = 0.006\\nsamples = 329\\nvalue = [0, 1, 328]'),\n",
       " Text(19.876808905380337, 118.17391304347825, 'gini = 0.0\\nsamples = 327\\nvalue = [0, 0, 327]'),\n",
       " Text(26.502411873840447, 118.17391304347825, 'gini = 0.5\\nsamples = 2\\nvalue = [0, 1, 1]'),\n",
       " Text(26.502411873840447, 137.08173913043478, 'gini = 0.5\\nsamples = 2\\nvalue = [0, 1, 1]'),\n",
       " Text(19.876808905380337, 165.44347826086957, 'gini = 0.0\\nsamples = 2\\nvalue = [2, 0, 0]'),\n",
       " Text(23.18961038961039, 174.89739130434782, 'gini = 0.0\\nsamples = 3\\nvalue = [3, 0, 0]'),\n",
       " Text(19.876808905380337, 193.80521739130435, 'gini = 0.0\\nsamples = 6\\nvalue = [6, 0, 0]'),\n",
       " Text(262.28636653525047, 203.2591304347826, 'X[3383] <= 103.5\\ngini = 0.502\\nsamples = 2236\\nvalue = [1263, 27, 946]'),\n",
       " Text(201.36753826530614, 193.80521739130435, 'X[4022] <= 129.5\\ngini = 0.473\\nsamples = 1924\\nvalue = [1215, 21, 688]'),\n",
       " Text(125.90910250463823, 184.3513043478261, 'X[30994] <= 9.5\\ngini = 0.514\\nsamples = 1299\\nvalue = [643, 19, 637]'),\n",
       " Text(49.69202226345084, 174.89739130434782, 'X[20694] <= 222.0\\ngini = 0.088\\nsamples = 132\\nvalue = [2, 4, 126]'),\n",
       " Text(46.37922077922078, 165.44347826086957, 'X[39037] <= 0.5\\ngini = 0.06\\nsamples = 130\\nvalue = [0, 4, 126]'),\n",
       " Text(39.75361781076067, 155.98956521739132, 'X[22535] <= 224.5\\ngini = 0.032\\nsamples = 124\\nvalue = [0, 2, 122]'),\n",
       " Text(36.440816326530616, 146.53565217391304, 'X[46751] <= 10.0\\ngini = 0.016\\nsamples = 122\\nvalue = [0, 1, 121]'),\n",
       " Text(33.12801484230056, 137.08173913043478, 'gini = 0.5\\nsamples = 2\\nvalue = [0, 1, 1]'),\n",
       " Text(39.75361781076067, 137.08173913043478, 'gini = 0.0\\nsamples = 120\\nvalue = [0, 0, 120]'),\n",
       " Text(43.06641929499073, 146.53565217391304, 'gini = 0.5\\nsamples = 2\\nvalue = [0, 1, 1]'),\n",
       " Text(53.004823747680895, 155.98956521739132, 'X[2127] <= 33.5\\ngini = 0.444\\nsamples = 6\\nvalue = [0, 2, 4]'),\n",
       " Text(49.69202226345084, 146.53565217391304, 'X[9399] <= 66.0\\ngini = 0.5\\nsamples = 4\\nvalue = [0, 2, 2]'),\n",
       " Text(46.37922077922078, 137.08173913043478, 'gini = 0.5\\nsamples = 2\\nvalue = [0, 1, 1]'),\n",
       " Text(53.004823747680895, 137.08173913043478, 'gini = 0.5\\nsamples = 2\\nvalue = [0, 1, 1]'),\n",
       " Text(56.31762523191095, 146.53565217391304, 'gini = 0.0\\nsamples = 2\\nvalue = [0, 0, 2]'),\n",
       " Text(53.004823747680895, 165.44347826086957, 'gini = 0.0\\nsamples = 2\\nvalue = [2, 0, 0]'),\n",
       " Text(202.12618274582562, 174.89739130434782, 'X[51985] <= 95.5\\ngini = 0.506\\nsamples = 1167\\nvalue = [641, 15, 511]'),\n",
       " Text(162.21080705009277, 165.44347826086957, 'X[36276] <= 139.0\\ngini = 0.488\\nsamples = 1050\\nvalue = [633, 12, 405]'),\n",
       " Text(112.1952690166976, 155.98956521739132, 'X[56405] <= 7.5\\ngini = 0.513\\nsamples = 730\\nvalue = [370, 10, 350]'),\n",
       " Text(66.25602968460112, 146.53565217391304, 'X[57110] <= 3.5\\ngini = 0.27\\nsamples = 113\\nvalue = [95, 1, 17]'),\n",
       " Text(59.63042671614101, 137.08173913043478, 'X[21528] <= 115.5\\ngini = 0.292\\nsamples = 12\\nvalue = [1, 1, 10]'),\n",
       " Text(56.31762523191095, 127.62782608695652, 'X[33995] <= 206.0\\ngini = 0.165\\nsamples = 11\\nvalue = [0, 1, 10]'),\n",
       " Text(53.004823747680895, 118.17391304347825, 'gini = 0.0\\nsamples = 9\\nvalue = [0, 0, 9]'),\n",
       " Text(59.63042671614101, 118.17391304347825, 'gini = 0.5\\nsamples = 2\\nvalue = [0, 1, 1]'),\n",
       " Text(62.94322820037106, 127.62782608695652, 'gini = 0.0\\nsamples = 1\\nvalue = [1, 0, 0]'),\n",
       " Text(72.88163265306123, 137.08173913043478, 'X[26848] <= 9.0\\ngini = 0.129\\nsamples = 101\\nvalue = [94, 0, 7]'),\n",
       " Text(69.56883116883118, 127.62782608695652, 'gini = 0.0\\nsamples = 6\\nvalue = [0, 0, 6]'),\n",
       " Text(76.19443413729128, 127.62782608695652, 'X[54666] <= 2.5\\ngini = 0.021\\nsamples = 95\\nvalue = [94, 0, 1]'),\n",
       " Text(72.88163265306123, 118.17391304347825, 'gini = 0.0\\nsamples = 1\\nvalue = [0, 0, 1]'),\n",
       " Text(79.50723562152135, 118.17391304347825, 'gini = 0.0\\nsamples = 94\\nvalue = [94, 0, 0]'),\n",
       " Text(158.13450834879407, 146.53565217391304, 'X[56974] <= 106.5\\ngini = 0.51\\nsamples = 617\\nvalue = [275, 9, 333]'),\n",
       " Text(133.65083487940632, 137.08173913043478, 'X[43209] <= 125.5\\ngini = 0.481\\nsamples = 488\\nvalue = [173, 9, 306]'),\n",
       " Text(111.18589981447126, 127.62782608695652, 'X[55169] <= 39.5\\ngini = 0.45\\nsamples = 434\\nvalue = [131, 9, 294]'),\n",
       " Text(86.13283858998146, 118.17391304347825, 'X[54250] <= 48.5\\ngini = 0.501\\nsamples = 299\\nvalue = [118, 6, 175]'),\n",
       " Text(62.52912801484231, 108.72, 'X[5337] <= 8.5\\ngini = 0.39\\nsamples = 186\\nvalue = [42, 5, 139]'),\n",
       " Text(46.79332096474954, 99.26608695652173, 'X[2811] <= 10.5\\ngini = 0.457\\nsamples = 28\\nvalue = [19, 1, 8]'),\n",
       " Text(40.167717996289426, 89.81217391304348, 'X[48430] <= 14.5\\ngini = 0.219\\nsamples = 8\\nvalue = [0, 1, 7]'),\n",
       " Text(36.854916512059376, 80.35826086956521, 'gini = 0.5\\nsamples = 2\\nvalue = [0, 1, 1]'),\n",
       " Text(43.48051948051948, 80.35826086956521, 'gini = 0.0\\nsamples = 6\\nvalue = [0, 0, 6]'),\n",
       " Text(53.418923933209655, 89.81217391304348, 'X[20728] <= 8.5\\ngini = 0.095\\nsamples = 20\\nvalue = [19, 0, 1]'),\n",
       " Text(50.1061224489796, 80.35826086956521, 'gini = 0.0\\nsamples = 1\\nvalue = [0, 0, 1]'),\n",
       " Text(56.731725417439705, 80.35826086956521, 'gini = 0.0\\nsamples = 19\\nvalue = [19, 0, 0]'),\n",
       " Text(78.26493506493507, 99.26608695652173, 'X[38897] <= 177.5\\ngini = 0.291\\nsamples = 158\\nvalue = [23, 4, 131]'),\n",
       " Text(69.98293135435993, 89.81217391304348, 'X[36256] <= 177.5\\ngini = 0.231\\nsamples = 147\\nvalue = [15, 4, 128]'),\n",
       " Text(63.35732838589982, 80.35826086956521, 'X[23720] <= 221.0\\ngini = 0.172\\nsamples = 140\\nvalue = [10, 3, 127]'),\n",
       " Text(60.04452690166976, 70.90434782608696, 'X[50826] <= 147.0\\ngini = 0.138\\nsamples = 137\\nvalue = [7, 3, 127]'),\n",
       " Text(51.76252319109462, 61.45043478260868, 'X[43836] <= 21.5\\ngini = 0.101\\nsamples = 133\\nvalue = [4, 3, 126]'),\n",
       " Text(45.136920222634515, 51.99652173913043, 'X[57661] <= 18.5\\ngini = 0.568\\nsamples = 9\\nvalue = [3, 1, 5]'),\n",
       " Text(41.82411873840446, 42.54260869565218, 'X[9477] <= 30.5\\ngini = 0.278\\nsamples = 6\\nvalue = [0, 1, 5]'),\n",
       " Text(38.5113172541744, 33.0886956521739, 'gini = 0.5\\nsamples = 2\\nvalue = [0, 1, 1]'),\n",
       " Text(45.136920222634515, 33.0886956521739, 'gini = 0.0\\nsamples = 4\\nvalue = [0, 0, 4]'),\n",
       " Text(48.449721706864565, 42.54260869565218, 'gini = 0.0\\nsamples = 3\\nvalue = [3, 0, 0]'),\n",
       " Text(58.38812615955474, 51.99652173913043, 'X[22368] <= 237.5\\ngini = 0.047\\nsamples = 124\\nvalue = [1, 2, 121]'),\n",
       " Text(55.07532467532468, 42.54260869565218, 'X[22840] <= 211.0\\ngini = 0.032\\nsamples = 123\\nvalue = [0, 2, 121]'),\n",
       " Text(51.76252319109462, 33.0886956521739, 'gini = 0.0\\nsamples = 119\\nvalue = [0, 0, 119]'),\n",
       " Text(58.38812615955474, 33.0886956521739, 'X[46437] <= 51.0\\ngini = 0.5\\nsamples = 4\\nvalue = [0, 2, 2]'),\n",
       " Text(55.07532467532468, 23.634782608695645, 'gini = 0.5\\nsamples = 2\\nvalue = [0, 1, 1]'),\n",
       " Text(61.700927643784794, 23.634782608695645, 'gini = 0.5\\nsamples = 2\\nvalue = [0, 1, 1]'),\n",
       " Text(61.700927643784794, 42.54260869565218, 'gini = 0.0\\nsamples = 1\\nvalue = [1, 0, 0]'),\n",
       " Text(68.32653061224491, 61.45043478260868, 'X[11923] <= 30.0\\ngini = 0.375\\nsamples = 4\\nvalue = [3, 0, 1]'),\n",
       " Text(65.01372912801484, 51.99652173913043, 'gini = 0.0\\nsamples = 3\\nvalue = [3, 0, 0]'),\n",
       " Text(71.63933209647496, 51.99652173913043, 'gini = 0.0\\nsamples = 1\\nvalue = [0, 0, 1]'),\n",
       " Text(66.67012987012987, 70.90434782608696, 'gini = 0.0\\nsamples = 3\\nvalue = [3, 0, 0]'),\n",
       " Text(76.60853432282005, 80.35826086956521, 'X[37248] <= 186.5\\ngini = 0.449\\nsamples = 7\\nvalue = [5, 1, 1]'),\n",
       " Text(73.29573283858998, 70.90434782608696, 'gini = 0.0\\nsamples = 5\\nvalue = [5, 0, 0]'),\n",
       " Text(79.9213358070501, 70.90434782608696, 'gini = 0.5\\nsamples = 2\\nvalue = [0, 1, 1]'),\n",
       " Text(86.54693877551021, 89.81217391304348, 'X[46524] <= 83.0\\ngini = 0.397\\nsamples = 11\\nvalue = [8, 0, 3]'),\n",
       " Text(83.23413729128015, 80.35826086956521, 'gini = 0.0\\nsamples = 8\\nvalue = [8, 0, 0]'),\n",
       " Text(89.85974025974026, 80.35826086956521, 'gini = 0.0\\nsamples = 3\\nvalue = [0, 0, 3]'),\n",
       " Text(109.7365491651206, 108.72, 'X[52919] <= 41.5\\ngini = 0.446\\nsamples = 113\\nvalue = [76, 1, 36]'),\n",
       " Text(103.11094619666049, 99.26608695652173, 'X[5636] <= 83.5\\ngini = 0.269\\nsamples = 81\\nvalue = [68, 0, 13]'),\n",
       " Text(99.79814471243043, 89.81217391304348, 'X[35141] <= 16.5\\ngini = 0.169\\nsamples = 75\\nvalue = [68, 0, 7]'),\n",
       " Text(96.48534322820038, 80.35826086956521, 'X[19095] <= 118.5\\ngini = 0.463\\nsamples = 11\\nvalue = [4, 0, 7]'),\n",
       " Text(93.17254174397033, 70.90434782608696, 'gini = 0.0\\nsamples = 7\\nvalue = [0, 0, 7]'),\n",
       " Text(99.79814471243043, 70.90434782608696, 'gini = 0.0\\nsamples = 4\\nvalue = [4, 0, 0]'),\n",
       " Text(103.11094619666049, 80.35826086956521, 'gini = 0.0\\nsamples = 64\\nvalue = [64, 0, 0]'),\n",
       " Text(106.42374768089054, 89.81217391304348, 'gini = 0.0\\nsamples = 6\\nvalue = [0, 0, 6]'),\n",
       " Text(116.36215213358072, 99.26608695652173, 'X[53991] <= 86.0\\ngini = 0.42\\nsamples = 32\\nvalue = [8, 1, 23]'),\n",
       " Text(113.04935064935066, 89.81217391304348, 'X[44157] <= 175.5\\ngini = 0.15\\nsamples = 25\\nvalue = [1, 1, 23]'),\n",
       " Text(109.7365491651206, 80.35826086956521, 'X[46415] <= 198.0\\ngini = 0.08\\nsamples = 24\\nvalue = [0, 1, 23]'),\n",
       " Text(106.42374768089054, 70.90434782608696, 'gini = 0.0\\nsamples = 22\\nvalue = [0, 0, 22]'),\n",
       " Text(113.04935064935066, 70.90434782608696, 'gini = 0.5\\nsamples = 2\\nvalue = [0, 1, 1]'),\n",
       " Text(116.36215213358072, 80.35826086956521, 'gini = 0.0\\nsamples = 1\\nvalue = [1, 0, 0]'),\n",
       " Text(119.67495361781077, 89.81217391304348, 'gini = 0.0\\nsamples = 7\\nvalue = [7, 0, 0]'),\n",
       " Text(136.23896103896104, 118.17391304347825, 'X[24922] <= 189.0\\ngini = 0.213\\nsamples = 135\\nvalue = [13, 3, 119]'),\n",
       " Text(132.926159554731, 108.72, 'X[40939] <= 187.5\\ngini = 0.146\\nsamples = 129\\nvalue = [7, 3, 119]'),\n",
       " Text(129.61335807050094, 99.26608695652173, 'X[19921] <= 221.0\\ngini = 0.093\\nsamples = 125\\nvalue = [3, 3, 119]'),\n",
       " Text(126.30055658627089, 89.81217391304348, 'X[17747] <= 12.5\\ngini = 0.063\\nsamples = 123\\nvalue = [1, 3, 119]'),\n",
       " Text(122.98775510204082, 80.35826086956521, 'gini = 0.0\\nsamples = 1\\nvalue = [1, 0, 0]'),\n",
       " Text(129.61335807050094, 80.35826086956521, 'X[2152] <= 3.5\\ngini = 0.048\\nsamples = 122\\nvalue = [0, 3, 119]'),\n",
       " Text(122.98775510204082, 70.90434782608696, 'X[23975] <= 177.5\\ngini = 0.5\\nsamples = 4\\nvalue = [0, 2, 2]'),\n",
       " Text(119.67495361781077, 61.45043478260868, 'gini = 0.5\\nsamples = 2\\nvalue = [0, 1, 1]'),\n",
       " Text(126.30055658627089, 61.45043478260868, 'gini = 0.5\\nsamples = 2\\nvalue = [0, 1, 1]'),\n",
       " Text(136.23896103896104, 70.90434782608696, 'X[40620] <= 215.0\\ngini = 0.017\\nsamples = 118\\nvalue = [0, 1, 117]'),\n",
       " Text(132.926159554731, 61.45043478260868, 'gini = 0.0\\nsamples = 116\\nvalue = [0, 0, 116]'),\n",
       " Text(139.55176252319112, 61.45043478260868, 'gini = 0.5\\nsamples = 2\\nvalue = [0, 1, 1]'),\n",
       " Text(132.926159554731, 89.81217391304348, 'gini = 0.0\\nsamples = 2\\nvalue = [2, 0, 0]'),\n",
       " Text(136.23896103896104, 99.26608695652173, 'gini = 0.0\\nsamples = 4\\nvalue = [4, 0, 0]'),\n",
       " Text(139.55176252319112, 108.72, 'gini = 0.0\\nsamples = 6\\nvalue = [6, 0, 0]'),\n",
       " Text(156.1157699443414, 127.62782608695652, 'X[49049] <= 91.5\\ngini = 0.346\\nsamples = 54\\nvalue = [42, 0, 12]'),\n",
       " Text(149.49016697588127, 118.17391304347825, 'X[47574] <= 88.5\\ngini = 0.162\\nsamples = 45\\nvalue = [41, 0, 4]'),\n",
       " Text(146.17736549165122, 108.72, 'X[14045] <= 206.5\\ngini = 0.046\\nsamples = 42\\nvalue = [41, 0, 1]'),\n",
       " Text(142.86456400742117, 99.26608695652173, 'gini = 0.0\\nsamples = 41\\nvalue = [41, 0, 0]'),\n",
       " Text(149.49016697588127, 99.26608695652173, 'gini = 0.0\\nsamples = 1\\nvalue = [0, 0, 1]'),\n",
       " Text(152.80296846011132, 108.72, 'gini = 0.0\\nsamples = 3\\nvalue = [0, 0, 3]'),\n",
       " Text(162.7413729128015, 118.17391304347825, 'X[50447] <= 12.5\\ngini = 0.198\\nsamples = 9\\nvalue = [1, 0, 8]'),\n",
       " Text(159.42857142857144, 108.72, 'gini = 0.0\\nsamples = 1\\nvalue = [1, 0, 0]'),\n",
       " Text(166.05417439703155, 108.72, 'gini = 0.0\\nsamples = 8\\nvalue = [0, 0, 8]'),\n",
       " Text(182.61818181818182, 137.08173913043478, 'X[56908] <= 128.5\\ngini = 0.331\\nsamples = 129\\nvalue = [102, 0, 27]'),\n",
       " Text(179.30538033395177, 127.62782608695652, 'X[7544] <= 89.0\\ngini = 0.255\\nsamples = 120\\nvalue = [102, 0, 18]'),\n",
       " Text(175.99257884972172, 118.17391304347825, 'X[23163] <= 9.5\\ngini = 0.176\\nsamples = 113\\nvalue = [102, 0, 11]'),\n",
       " Text(172.67977736549167, 108.72, 'gini = 0.0\\nsamples = 6\\nvalue = [0, 0, 6]'),\n",
       " Text(179.30538033395177, 108.72, 'X[50971] <= 125.0\\ngini = 0.089\\nsamples = 107\\nvalue = [102, 0, 5]'),\n",
       " Text(175.99257884972172, 99.26608695652173, 'X[56476] <= 22.0\\ngini = 0.038\\nsamples = 104\\nvalue = [102, 0, 2]'),\n",
       " Text(172.67977736549167, 89.81217391304348, 'gini = 0.0\\nsamples = 2\\nvalue = [0, 0, 2]'),\n",
       " Text(179.30538033395177, 89.81217391304348, 'gini = 0.0\\nsamples = 102\\nvalue = [102, 0, 0]'),\n",
       " Text(182.61818181818182, 99.26608695652173, 'gini = 0.0\\nsamples = 3\\nvalue = [0, 0, 3]'),\n",
       " Text(182.61818181818182, 118.17391304347825, 'gini = 0.0\\nsamples = 7\\nvalue = [0, 0, 7]'),\n",
       " Text(185.9309833024119, 127.62782608695652, 'gini = 0.0\\nsamples = 9\\nvalue = [0, 0, 9]'),\n",
       " Text(212.22634508348796, 155.98956521739132, 'X[10237] <= 105.5\\ngini = 0.295\\nsamples = 320\\nvalue = [263, 2, 55]'),\n",
       " Text(205.60074211502786, 146.53565217391304, 'X[47076] <= 138.0\\ngini = 0.248\\nsamples = 306\\nvalue = [262, 2, 42]'),\n",
       " Text(202.28794063079778, 137.08173913043478, 'X[53124] <= 9.5\\ngini = 0.209\\nsamples = 297\\nvalue = [262, 2, 33]'),\n",
       " Text(198.97513914656773, 127.62782608695652, 'gini = 0.0\\nsamples = 7\\nvalue = [0, 0, 7]'),\n",
       " Text(205.60074211502786, 127.62782608695652, 'X[57777] <= 107.5\\ngini = 0.176\\nsamples = 290\\nvalue = [262, 2, 26]'),\n",
       " Text(202.28794063079778, 118.17391304347825, 'X[6330] <= 3.5\\ngini = 0.149\\nsamples = 285\\nvalue = [262, 2, 21]'),\n",
       " Text(192.556586270872, 108.72, 'X[31852] <= 157.0\\ngini = 0.375\\nsamples = 4\\nvalue = [0, 1, 3]'),\n",
       " Text(189.24378478664195, 99.26608695652173, 'gini = 0.5\\nsamples = 2\\nvalue = [0, 1, 1]'),\n",
       " Text(195.86938775510205, 99.26608695652173, 'gini = 0.0\\nsamples = 2\\nvalue = [0, 0, 2]'),\n",
       " Text(212.01929499072358, 108.72, 'X[40773] <= 10.5\\ngini = 0.127\\nsamples = 281\\nvalue = [262, 1, 18]'),\n",
       " Text(202.49499072356218, 99.26608695652173, 'X[50970] <= 73.0\\ngini = 0.375\\nsamples = 4\\nvalue = [0, 1, 3]'),\n",
       " Text(199.1821892393321, 89.81217391304348, 'gini = 0.0\\nsamples = 2\\nvalue = [0, 0, 2]'),\n",
       " Text(205.80779220779223, 89.81217391304348, 'gini = 0.5\\nsamples = 2\\nvalue = [0, 1, 1]'),\n",
       " Text(221.54359925788498, 99.26608695652173, 'X[46367] <= 122.0\\ngini = 0.102\\nsamples = 277\\nvalue = [262, 0, 15]'),\n",
       " Text(212.43339517625233, 89.81217391304348, 'X[53744] <= 9.5\\ngini = 0.084\\nsamples = 273\\nvalue = [261, 0, 12]'),\n",
       " Text(204.1513914656772, 80.35826086956521, 'X[38957] <= 158.5\\ngini = 0.375\\nsamples = 4\\nvalue = [1, 0, 3]'),\n",
       " Text(200.83858998144714, 70.90434782608696, 'gini = 0.0\\nsamples = 3\\nvalue = [0, 0, 3]'),\n",
       " Text(207.46419294990724, 70.90434782608696, 'gini = 0.0\\nsamples = 1\\nvalue = [1, 0, 0]'),\n",
       " Text(220.71539888682747, 80.35826086956521, 'X[2086] <= 9.5\\ngini = 0.065\\nsamples = 269\\nvalue = [260, 0, 9]'),\n",
       " Text(214.08979591836737, 70.90434782608696, 'X[57878] <= 16.0\\ngini = 0.5\\nsamples = 6\\nvalue = [3, 0, 3]'),\n",
       " Text(210.77699443413732, 61.45043478260868, 'gini = 0.0\\nsamples = 3\\nvalue = [3, 0, 0]'),\n",
       " Text(217.40259740259742, 61.45043478260868, 'gini = 0.0\\nsamples = 3\\nvalue = [0, 0, 3]'),\n",
       " Text(227.3410018552876, 70.90434782608696, 'X[12914] <= 147.5\\ngini = 0.045\\nsamples = 263\\nvalue = [257, 0, 6]'),\n",
       " Text(224.02820037105752, 61.45043478260868, 'X[3609] <= 135.5\\ngini = 0.037\\nsamples = 262\\nvalue = [257, 0, 5]'),\n",
       " Text(220.71539888682747, 51.99652173913043, 'X[32201] <= 9.5\\ngini = 0.03\\nsamples = 261\\nvalue = [257, 0, 4]'),\n",
       " Text(217.40259740259742, 42.54260869565218, 'gini = 0.0\\nsamples = 1\\nvalue = [0, 0, 1]'),\n",
       " Text(224.02820037105752, 42.54260869565218, 'X[57469] <= 8.5\\ngini = 0.023\\nsamples = 260\\nvalue = [257, 0, 3]'),\n",
       " Text(220.71539888682747, 33.0886956521739, 'gini = 0.0\\nsamples = 1\\nvalue = [0, 0, 1]'),\n",
       " Text(227.3410018552876, 33.0886956521739, 'X[17557] <= 6.5\\ngini = 0.015\\nsamples = 259\\nvalue = [257, 0, 2]'),\n",
       " Text(224.02820037105752, 23.634782608695645, 'gini = 0.0\\nsamples = 1\\nvalue = [0, 0, 1]'),\n",
       " Text(230.65380333951765, 23.634782608695645, 'X[24463] <= 219.5\\ngini = 0.008\\nsamples = 258\\nvalue = [257, 0, 1]'),\n",
       " Text(227.3410018552876, 14.180869565217392, 'gini = 0.0\\nsamples = 251\\nvalue = [251, 0, 0]'),\n",
       " Text(233.9666048237477, 14.180869565217392, 'X[43520] <= 127.0\\ngini = 0.245\\nsamples = 7\\nvalue = [6, 0, 1]'),\n",
       " Text(230.65380333951765, 4.726956521739112, 'gini = 0.0\\nsamples = 1\\nvalue = [0, 0, 1]'),\n",
       " Text(237.27940630797775, 4.726956521739112, 'gini = 0.0\\nsamples = 6\\nvalue = [6, 0, 0]'),\n",
       " Text(227.3410018552876, 51.99652173913043, 'gini = 0.0\\nsamples = 1\\nvalue = [0, 0, 1]'),\n",
       " Text(230.65380333951765, 61.45043478260868, 'gini = 0.0\\nsamples = 1\\nvalue = [0, 0, 1]'),\n",
       " Text(230.65380333951765, 89.81217391304348, 'X[18391] <= 171.0\\ngini = 0.375\\nsamples = 4\\nvalue = [1, 0, 3]'),\n",
       " Text(227.3410018552876, 80.35826086956521, 'gini = 0.0\\nsamples = 3\\nvalue = [0, 0, 3]'),\n",
       " Text(233.9666048237477, 80.35826086956521, 'gini = 0.0\\nsamples = 1\\nvalue = [1, 0, 0]'),\n",
       " Text(208.9135435992579, 118.17391304347825, 'gini = 0.0\\nsamples = 5\\nvalue = [0, 0, 5]'),\n",
       " Text(208.9135435992579, 137.08173913043478, 'gini = 0.0\\nsamples = 9\\nvalue = [0, 0, 9]'),\n",
       " Text(218.85194805194806, 146.53565217391304, 'X[54311] <= 222.0\\ngini = 0.133\\nsamples = 14\\nvalue = [1, 0, 13]'),\n",
       " Text(215.539146567718, 137.08173913043478, 'gini = 0.0\\nsamples = 13\\nvalue = [0, 0, 13]'),\n",
       " Text(222.16474953617814, 137.08173913043478, 'gini = 0.0\\nsamples = 1\\nvalue = [1, 0, 0]'),\n",
       " Text(242.04155844155846, 165.44347826086957, 'X[49914] <= 192.5\\ngini = 0.174\\nsamples = 117\\nvalue = [8, 3, 106]'),\n",
       " Text(235.41595547309834, 155.98956521739132, 'X[19710] <= 203.5\\ngini = 0.088\\nsamples = 110\\nvalue = [2, 3, 105]'),\n",
       " Text(232.10315398886829, 146.53565217391304, 'X[28279] <= 13.5\\ngini = 0.054\\nsamples = 108\\nvalue = [0, 3, 105]'),\n",
       " Text(228.79035250463824, 137.08173913043478, 'X[49343] <= 123.5\\ngini = 0.49\\nsamples = 7\\nvalue = [0, 3, 4]'),\n",
       " Text(225.47755102040819, 127.62782608695652, 'gini = 0.0\\nsamples = 1\\nvalue = [0, 0, 1]'),\n",
       " Text(232.10315398886829, 127.62782608695652, 'X[2555] <= 22.5\\ngini = 0.5\\nsamples = 6\\nvalue = [0, 3, 3]'),\n",
       " Text(228.79035250463824, 118.17391304347825, 'gini = 0.5\\nsamples = 2\\nvalue = [0, 1, 1]'),\n",
       " Text(235.41595547309834, 118.17391304347825, 'X[23299] <= 25.0\\ngini = 0.5\\nsamples = 4\\nvalue = [0, 2, 2]'),\n",
       " Text(232.10315398886829, 108.72, 'gini = 0.5\\nsamples = 2\\nvalue = [0, 1, 1]'),\n",
       " Text(238.72875695732841, 108.72, 'gini = 0.5\\nsamples = 2\\nvalue = [0, 1, 1]'),\n",
       " Text(235.41595547309834, 137.08173913043478, 'gini = 0.0\\nsamples = 101\\nvalue = [0, 0, 101]'),\n",
       " Text(238.72875695732841, 146.53565217391304, 'gini = 0.0\\nsamples = 2\\nvalue = [2, 0, 0]'),\n",
       " Text(248.66716141001856, 155.98956521739132, 'X[20086] <= 27.5\\ngini = 0.245\\nsamples = 7\\nvalue = [6, 0, 1]'),\n",
       " Text(245.35435992578851, 146.53565217391304, 'gini = 0.0\\nsamples = 1\\nvalue = [0, 0, 1]'),\n",
       " Text(251.97996289424864, 146.53565217391304, 'gini = 0.0\\nsamples = 6\\nvalue = [6, 0, 0]'),\n",
       " Text(276.82597402597406, 184.3513043478261, 'X[30493] <= 9.0\\ngini = 0.156\\nsamples = 625\\nvalue = [572, 2, 51]'),\n",
       " Text(273.513172541744, 174.89739130434782, 'gini = 0.0\\nsamples = 15\\nvalue = [0, 0, 15]'),\n",
       " Text(280.1387755102041, 174.89739130434782, 'X[54920] <= 101.5\\ngini = 0.117\\nsamples = 610\\nvalue = [572, 2, 36]'),\n",
       " Text(268.5439703153989, 165.44347826086957, 'X[28313] <= 9.0\\ngini = 0.076\\nsamples = 586\\nvalue = [563, 1, 22]'),\n",
       " Text(261.9183673469388, 155.98956521739132, 'X[45079] <= 120.0\\ngini = 0.278\\nsamples = 6\\nvalue = [0, 1, 5]'),\n",
       " Text(258.6055658627087, 146.53565217391304, 'gini = 0.0\\nsamples = 4\\nvalue = [0, 0, 4]'),\n",
       " Text(265.2311688311689, 146.53565217391304, 'gini = 0.5\\nsamples = 2\\nvalue = [0, 1, 1]'),\n",
       " Text(275.169573283859, 155.98956521739132, 'X[35601] <= 10.5\\ngini = 0.057\\nsamples = 580\\nvalue = [563, 0, 17]'),\n",
       " Text(271.856771799629, 146.53565217391304, 'gini = 0.0\\nsamples = 3\\nvalue = [0, 0, 3]'),\n",
       " Text(278.4823747680891, 146.53565217391304, 'X[4012] <= 26.5\\ngini = 0.047\\nsamples = 577\\nvalue = [563, 0, 14]'),\n",
       " Text(275.169573283859, 137.08173913043478, 'gini = 0.0\\nsamples = 3\\nvalue = [0, 0, 3]'),\n",
       " Text(281.79517625231915, 137.08173913043478, 'X[56761] <= 8.5\\ngini = 0.038\\nsamples = 574\\nvalue = [563, 0, 11]'),\n",
       " Text(278.4823747680891, 127.62782608695652, 'gini = 0.0\\nsamples = 2\\nvalue = [0, 0, 2]'),\n",
       " Text(285.1079777365492, 127.62782608695652, 'X[27304] <= 10.5\\ngini = 0.031\\nsamples = 572\\nvalue = [563, 0, 9]'),\n",
       " Text(281.79517625231915, 118.17391304347825, 'gini = 0.0\\nsamples = 2\\nvalue = [0, 0, 2]'),\n",
       " Text(288.42077922077925, 118.17391304347825, 'X[43949] <= 10.5\\ngini = 0.024\\nsamples = 570\\nvalue = [563, 0, 7]'),\n",
       " Text(281.79517625231915, 108.72, 'X[32819] <= 183.5\\ngini = 0.444\\nsamples = 3\\nvalue = [1, 0, 2]'),\n",
       " Text(278.4823747680891, 99.26608695652173, 'gini = 0.0\\nsamples = 2\\nvalue = [0, 0, 2]'),\n",
       " Text(285.1079777365492, 99.26608695652173, 'gini = 0.0\\nsamples = 1\\nvalue = [1, 0, 0]'),\n",
       " Text(295.04638218923935, 108.72, 'X[5963] <= 16.0\\ngini = 0.017\\nsamples = 567\\nvalue = [562, 0, 5]'),\n",
       " Text(291.7335807050093, 99.26608695652173, 'gini = 0.0\\nsamples = 1\\nvalue = [0, 0, 1]'),\n",
       " Text(298.35918367346943, 99.26608695652173, 'X[56165] <= 195.0\\ngini = 0.014\\nsamples = 566\\nvalue = [562, 0, 4]'),\n",
       " Text(295.04638218923935, 89.81217391304348, 'X[41224] <= 7.0\\ngini = 0.011\\nsamples = 565\\nvalue = [562, 0, 3]'),\n",
       " Text(291.7335807050093, 80.35826086956521, 'gini = 0.0\\nsamples = 1\\nvalue = [0, 0, 1]'),\n",
       " Text(298.35918367346943, 80.35826086956521, 'X[4022] <= 130.5\\ngini = 0.007\\nsamples = 564\\nvalue = [562, 0, 2]'),\n",
       " Text(291.7335807050093, 70.90434782608696, 'X[49598] <= 51.5\\ngini = 0.32\\nsamples = 5\\nvalue = [4, 0, 1]'),\n",
       " Text(288.42077922077925, 61.45043478260868, 'gini = 0.0\\nsamples = 1\\nvalue = [0, 0, 1]'),\n",
       " Text(295.04638218923935, 61.45043478260868, 'gini = 0.0\\nsamples = 4\\nvalue = [4, 0, 0]'),\n",
       " Text(304.98478664192953, 70.90434782608696, 'X[8145] <= 20.5\\ngini = 0.004\\nsamples = 559\\nvalue = [558, 0, 1]'),\n",
       " Text(301.67198515769945, 61.45043478260868, 'X[33813] <= 128.5\\ngini = 0.245\\nsamples = 7\\nvalue = [6, 0, 1]'),\n",
       " Text(298.35918367346943, 51.99652173913043, 'gini = 0.0\\nsamples = 6\\nvalue = [6, 0, 0]'),\n",
       " Text(304.98478664192953, 51.99652173913043, 'gini = 0.0\\nsamples = 1\\nvalue = [0, 0, 1]'),\n",
       " Text(308.29758812615955, 61.45043478260868, 'gini = 0.0\\nsamples = 552\\nvalue = [552, 0, 0]'),\n",
       " Text(301.67198515769945, 89.81217391304348, 'gini = 0.0\\nsamples = 1\\nvalue = [0, 0, 1]'),\n",
       " Text(291.7335807050093, 165.44347826086957, 'X[15587] <= 147.0\\ngini = 0.517\\nsamples = 24\\nvalue = [9, 1, 14]'),\n",
       " Text(288.42077922077925, 155.98956521739132, 'X[48886] <= 184.5\\ngini = 0.124\\nsamples = 15\\nvalue = [0, 1, 14]'),\n",
       " Text(285.1079777365492, 146.53565217391304, 'gini = 0.0\\nsamples = 13\\nvalue = [0, 0, 13]'),\n",
       " Text(291.7335807050093, 146.53565217391304, 'gini = 0.5\\nsamples = 2\\nvalue = [0, 1, 1]'),\n",
       " Text(295.04638218923935, 155.98956521739132, 'gini = 0.0\\nsamples = 9\\nvalue = [9, 0, 0]'),\n",
       " Text(323.2051948051948, 193.80521739130435, 'X[3290] <= 214.5\\ngini = 0.292\\nsamples = 312\\nvalue = [48, 6, 258]'),\n",
       " Text(319.8923933209648, 184.3513043478261, 'X[1925] <= 208.5\\ngini = 0.13\\nsamples = 277\\nvalue = [13, 6, 258]'),\n",
       " Text(316.5795918367347, 174.89739130434782, 'X[22652] <= 226.0\\ngini = 0.079\\nsamples = 269\\nvalue = [5, 6, 258]'),\n",
       " Text(313.26679035250464, 165.44347826086957, 'X[38652] <= 17.5\\ngini = 0.059\\nsamples = 266\\nvalue = [2, 6, 258]'),\n",
       " Text(301.67198515769945, 155.98956521739132, 'X[17245] <= 199.0\\ngini = 0.54\\nsamples = 10\\nvalue = [1, 3, 6]'),\n",
       " Text(298.35918367346943, 146.53565217391304, 'X[6762] <= 71.0\\ngini = 0.444\\nsamples = 9\\nvalue = [0, 3, 6]'),\n",
       " Text(295.04638218923935, 137.08173913043478, 'gini = 0.0\\nsamples = 3\\nvalue = [0, 0, 3]'),\n",
       " Text(301.67198515769945, 137.08173913043478, 'X[12850] <= 149.5\\ngini = 0.5\\nsamples = 6\\nvalue = [0, 3, 3]'),\n",
       " Text(298.35918367346943, 127.62782608695652, 'gini = 0.5\\nsamples = 2\\nvalue = [0, 1, 1]'),\n",
       " Text(304.98478664192953, 127.62782608695652, 'X[46038] <= 197.0\\ngini = 0.5\\nsamples = 4\\nvalue = [0, 2, 2]'),\n",
       " Text(301.67198515769945, 118.17391304347825, 'gini = 0.5\\nsamples = 2\\nvalue = [0, 1, 1]'),\n",
       " Text(308.29758812615955, 118.17391304347825, 'gini = 0.5\\nsamples = 2\\nvalue = [0, 1, 1]'),\n",
       " Text(304.98478664192953, 146.53565217391304, 'gini = 0.0\\nsamples = 1\\nvalue = [1, 0, 0]'),\n",
       " Text(324.86159554730983, 155.98956521739132, 'X[16216] <= 226.0\\ngini = 0.031\\nsamples = 256\\nvalue = [1, 3, 252]'),\n",
       " Text(321.5487940630798, 146.53565217391304, 'X[20196] <= 224.5\\ngini = 0.023\\nsamples = 255\\nvalue = [0, 3, 252]'),\n",
       " Text(314.9231910946197, 137.08173913043478, 'X[4622] <= 3.5\\ngini = 0.008\\nsamples = 251\\nvalue = [0, 1, 250]'),\n",
       " Text(311.61038961038963, 127.62782608695652, 'gini = 0.5\\nsamples = 2\\nvalue = [0, 1, 1]'),\n",
       " Text(318.23599257884973, 127.62782608695652, 'gini = 0.0\\nsamples = 249\\nvalue = [0, 0, 249]'),\n",
       " Text(328.1743970315399, 137.08173913043478, 'X[4549] <= 62.0\\ngini = 0.5\\nsamples = 4\\nvalue = [0, 2, 2]'),\n",
       " Text(324.86159554730983, 127.62782608695652, 'gini = 0.5\\nsamples = 2\\nvalue = [0, 1, 1]'),\n",
       " Text(331.48719851577, 127.62782608695652, 'gini = 0.5\\nsamples = 2\\nvalue = [0, 1, 1]'),\n",
       " Text(328.1743970315399, 146.53565217391304, 'gini = 0.0\\nsamples = 1\\nvalue = [1, 0, 0]'),\n",
       " Text(319.8923933209648, 165.44347826086957, 'gini = 0.0\\nsamples = 3\\nvalue = [3, 0, 0]'),\n",
       " Text(323.2051948051948, 174.89739130434782, 'gini = 0.0\\nsamples = 8\\nvalue = [8, 0, 0]'),\n",
       " Text(326.5179962894249, 184.3513043478261, 'gini = 0.0\\nsamples = 35\\nvalue = [35, 0, 0]')]"
      ]
     },
     "execution_count": 10,
     "metadata": {},
     "output_type": "execute_result"
    },
    {
     "data": {
      "image/png": "[encoded data removed]",
      "text/plain": [
       "<Figure size 432x288 with 1 Axes>"
      ]
     },
     "metadata": {
      "needs_background": "light"
     },
     "output_type": "display_data"
    }
   ],
   "source": [
    "data_origin = np.array(data_origin) \n",
    "data_amaro = np.array(data_amaro) \n",
    "data_lofi = np.array(data_lofi) \n",
    "\n",
    "X_full = np.concatenate((data_amaro, data_origin,data_lofi))\n",
    "print(X_full.shape)\n",
    "\n",
    "y_full = [\"amaro\" for i in range(data_amaro.shape[0])] \n",
    "y_full += [\"origin\" for i in range(data_origin.shape[0])] \n",
    "y_full += [\"lofi\" for i in range(data_lofi.shape[0])]\n",
    "\n",
    "clf_full = tree.DecisionTreeClassifier()\n",
    "clf_full.fit(X_full, y_full) \n",
    "tree.plot_tree(clf_full)"
   ]
  },
  {
   "cell_type": "code",
   "execution_count": 11,
   "metadata": {},
   "outputs": [
    {
     "name": "stdout",
     "output_type": "stream",
     "text": [
      "Prediction for amaro picture: ['amaro']\n",
      "Prediction for origin picture: ['origin']\n",
      "Prediction for lofi picture: ['origin']\n"
     ]
    }
   ],
   "source": [
    "amaro = cv2.imread(\"filter_decision_tree/test_data/amaro.jpg\", cv2.IMREAD_GRAYSCALE)\n",
    "amaro = cv2.resize(amaro, shape)\n",
    "amaro = amaro.flatten()\n",
    "\n",
    "original = cv2.imread(\"filter_decision_tree/test_data/original.jpg\", cv2.IMREAD_GRAYSCALE)\n",
    "original = cv2.resize(original, shape)\n",
    "original = original.flatten()\n",
    "\n",
    "lofi = cv2.imread(\"filter_decision_tree/test_data/lofi.jpg\", cv2.IMREAD_GRAYSCALE)\n",
    "lofi = cv2.resize(lofi, shape)\n",
    "lofi = lofi.flatten()\n",
    "\n",
    "print(\"Prediction for amaro picture:\", clf_full.predict([amaro]))\n",
    "print(\"Prediction for origin picture:\", clf_full.predict([original]))\n",
    "print(\"Prediction for lofi picture:\", clf_full.predict([lofi]))"
   ]
  },
  {
   "cell_type": "markdown",
   "metadata": {},
   "source": [
    "Wie zu sehen ist, wird der Entscheidungsbaum immer größer und komplexer. \n",
    "Leider haben die zusätzlichen Daten keine korrekte vorhersage gebracht. \n",
    "\n",
    "## Test mit Farbbildern\n",
    "Im letzten Schritt soll nun probiert werden, ob eine Verbesserung mit RGB-Bildern erzielt werden kann.\n",
    "Um den Trainingsvorgang zu beschleunigen werden wieder die ursprünglichen Trainingsbilder benutzt.\n",
    "\n",
    "### Erstellen des Modells"
   ]
  },
  {
   "cell_type": "code",
   "execution_count": 12,
   "metadata": {},
   "outputs": [
    {
     "name": "stdout",
     "output_type": "stream",
     "text": [
      "(96, 178608)\n"
     ]
    },
    {
     "data": {
      "text/plain": [
       "[Text(200.88000000000002, 195.696, 'X[46104] <= 3.0\\ngini = 0.667\\nsamples = 96\\nvalue = [32, 32, 32]'),\n",
       " Text(133.92000000000002, 152.208, 'X[97374] <= 29.5\\ngini = 0.5\\nsamples = 64\\nvalue = [32, 32, 0]'),\n",
       " Text(66.96000000000001, 108.72, 'gini = 0.0\\nsamples = 21\\nvalue = [0, 21, 0]'),\n",
       " Text(200.88000000000002, 108.72, 'X[165534] <= 105.5\\ngini = 0.381\\nsamples = 43\\nvalue = [32, 11, 0]'),\n",
       " Text(133.92000000000002, 65.232, 'X[148877] <= 19.5\\ngini = 0.157\\nsamples = 35\\nvalue = [32, 3, 0]'),\n",
       " Text(66.96000000000001, 21.744, 'gini = 0.0\\nsamples = 3\\nvalue = [0, 3, 0]'),\n",
       " Text(200.88000000000002, 21.744, 'gini = 0.0\\nsamples = 32\\nvalue = [32, 0, 0]'),\n",
       " Text(267.84000000000003, 65.232, 'gini = 0.0\\nsamples = 8\\nvalue = [0, 8, 0]'),\n",
       " Text(267.84000000000003, 152.208, 'gini = 0.0\\nsamples = 32\\nvalue = [0, 0, 32]')]"
      ]
     },
     "execution_count": 12,
     "metadata": {},
     "output_type": "execute_result"
    },
    {
     "data": {
      "image/png": "[encoded data removed]",
      "text/plain": [
       "<Figure size 432x288 with 1 Axes>"
      ]
     },
     "metadata": {
      "needs_background": "light"
     },
     "output_type": "display_data"
    }
   ],
   "source": [
    "img_dir_amaro = \"filter_decision_tree/amaro\"\n",
    "img_dir_origin = \"filter_decision_tree/original\"\n",
    "img_dir_lofi = \"filter_decision_tree/lofi\"\n",
    "\n",
    "data_path_amaro = os.path.join(img_dir_amaro,'*g')\n",
    "data_path_origin = os.path.join(img_dir_origin,'*g')\n",
    "data_path_lofi = os.path.join(img_dir_lofi,'*g')\n",
    "\n",
    "files_amaro = glob.glob(data_path_amaro)\n",
    "files_origin = glob.glob(data_path_origin)\n",
    "files_lofi = glob.glob(data_path_lofi)\n",
    "\n",
    "data_origin = []\n",
    "data_amaro = []\n",
    "data_lofi = []\n",
    "\n",
    "for f1 in files_origin:\n",
    "    origin = cv2.imread(f1)\n",
    "    origin = cv2.cvtColor(origin, cv2.COLOR_BGR2RGB)\n",
    "    origin = cv2.resize(origin, shape)\n",
    "    data_origin.append(origin.flatten()) \n",
    "    \n",
    "    \n",
    "for f1 in files_amaro:  \n",
    "    amaro = cv2.imread(f1)\n",
    "    amaro = cv2.cvtColor(amaro, cv2.COLOR_BGR2RGB)\n",
    "    amaro = cv2.resize(amaro, shape)\n",
    "    data_amaro.append(amaro.flatten())\n",
    "\n",
    "for f1 in files_lofi:\n",
    "    lofi = cv2.imread(f1)\n",
    "    lofi = cv2.cvtColor(lofi, cv2.COLOR_BGR2RGB)\n",
    "    lofi = cv2.resize(lofi, shape)\n",
    "    data_lofi.append(lofi.flatten()) \n",
    "    \n",
    "data_origin = np.array(data_origin) \n",
    "data_amaro = np.array(data_amaro) \n",
    "data_lofi = np.array(data_lofi) \n",
    "\n",
    "X_full = np.concatenate((data_amaro, data_origin,data_lofi))\n",
    "print(X_full.shape)\n",
    "\n",
    "y_full = [\"amaro\" for i in range(data_amaro.shape[0])] \n",
    "y_full += [\"origin\" for i in range(data_origin.shape[0])] \n",
    "y_full += [\"lofi\" for i in range(data_lofi.shape[0])]\n",
    "\n",
    "clf_full = tree.DecisionTreeClassifier()\n",
    "clf_full.fit(X_full, y_full) \n",
    "tree.plot_tree(clf_full)"
   ]
  },
  {
   "cell_type": "markdown",
   "metadata": {},
   "source": [
    "### Prediction"
   ]
  },
  {
   "cell_type": "code",
   "execution_count": 13,
   "metadata": {},
   "outputs": [
    {
     "name": "stdout",
     "output_type": "stream",
     "text": [
      "Prediction for amaro picture: ['amaro']\n",
      "Prediction for origin picture: ['origin']\n",
      "Prediction for lofi picture: ['amaro']\n"
     ]
    }
   ],
   "source": [
    "amaro = cv2.imread(\"filter_decision_tree/test_data/amaro.jpg\")\n",
    "amaro = cv2.cvtColor(amaro, cv2.COLOR_BGR2RGB)\n",
    "amaro = cv2.resize(amaro, shape)\n",
    "amaro = amaro.flatten()\n",
    "\n",
    "original = cv2.imread(\"filter_decision_tree/test_data/original.jpg\")\n",
    "original = cv2.cvtColor(original, cv2.COLOR_BGR2RGB)\n",
    "original = cv2.resize(original, shape)\n",
    "original = original.flatten()\n",
    "\n",
    "lofi = cv2.imread(\"filter_decision_tree/test_data/lofi.jpg\")\n",
    "lofi = cv2.cvtColor(lofi, cv2.COLOR_BGR2RGB)\n",
    "lofi = cv2.resize(lofi, shape)\n",
    "lofi = lofi.flatten()\n",
    "\n",
    "print(\"Prediction for amaro picture:\", clf_full.predict([amaro]))\n",
    "print(\"Prediction for origin picture:\", clf_full.predict([original]))\n",
    "print(\"Prediction for lofi picture:\", clf_full.predict([lofi]))"
   ]
  },
  {
   "cell_type": "markdown",
   "metadata": {},
   "source": [
    "Wie zu sehen ist, gibt es auch bei den farbigen Bildern keine Verbesserung.\n",
    "Die letzte Verbesserung, die in diesem Notebook getestet werden soll, ist die Reduzierung der Features. \n",
    "Demzufolge werden die Bilder weiter verkleinert.\n",
    "\n",
    "## Reduzierung der Features"
   ]
  },
  {
   "cell_type": "code",
   "execution_count": 14,
   "metadata": {},
   "outputs": [
    {
     "name": "stdout",
     "output_type": "stream",
     "text": [
      "(96, 44652)\n"
     ]
    },
    {
     "data": {
      "text/plain": [
       "[Text(200.88000000000002, 195.696, 'X[34404] <= 0.5\\ngini = 0.667\\nsamples = 96\\nvalue = [32, 32, 32]'),\n",
       " Text(133.92000000000002, 152.208, 'X[18683] <= 17.5\\ngini = 0.5\\nsamples = 64\\nvalue = [32, 32, 0]'),\n",
       " Text(66.96000000000001, 108.72, 'gini = 0.0\\nsamples = 20\\nvalue = [0, 20, 0]'),\n",
       " Text(200.88000000000002, 108.72, 'X[43212] <= 97.5\\ngini = 0.397\\nsamples = 44\\nvalue = [32, 12, 0]'),\n",
       " Text(133.92000000000002, 65.232, 'X[42282] <= 27.0\\ngini = 0.198\\nsamples = 36\\nvalue = [32, 4, 0]'),\n",
       " Text(66.96000000000001, 21.744, 'gini = 0.0\\nsamples = 4\\nvalue = [0, 4, 0]'),\n",
       " Text(200.88000000000002, 21.744, 'gini = 0.0\\nsamples = 32\\nvalue = [32, 0, 0]'),\n",
       " Text(267.84000000000003, 65.232, 'gini = 0.0\\nsamples = 8\\nvalue = [0, 8, 0]'),\n",
       " Text(267.84000000000003, 152.208, 'gini = 0.0\\nsamples = 32\\nvalue = [0, 0, 32]')]"
      ]
     },
     "execution_count": 14,
     "metadata": {},
     "output_type": "execute_result"
    },
    {
     "data": {
      "image/png": "[encoded data removed]",
      "text/plain": [
       "<Figure size 432x288 with 1 Axes>"
      ]
     },
     "metadata": {
      "needs_background": "light"
     },
     "output_type": "display_data"
    }
   ],
   "source": [
    "img_dir_amaro = \"filter_decision_tree/amaro\"\n",
    "img_dir_origin = \"filter_decision_tree/original\"\n",
    "img_dir_lofi = \"filter_decision_tree/lofi\"\n",
    "\n",
    "data_path_amaro = os.path.join(img_dir_amaro,'*g')\n",
    "data_path_origin = os.path.join(img_dir_origin,'*g')\n",
    "data_path_lofi = os.path.join(img_dir_lofi,'*g')\n",
    "\n",
    "files_amaro = glob.glob(data_path_amaro)\n",
    "files_origin = glob.glob(data_path_origin)\n",
    "files_lofi = glob.glob(data_path_lofi)\n",
    "\n",
    "data_origin = []\n",
    "data_amaro = []\n",
    "data_lofi = []\n",
    "\n",
    "# Reduzierung der Features\n",
    "shape = (122,122)\n",
    "\n",
    "for f1 in files_origin:\n",
    "    origin = cv2.imread(f1)\n",
    "    origin = cv2.cvtColor(origin, cv2.COLOR_BGR2RGB)\n",
    "    origin = cv2.resize(origin, shape)\n",
    "    data_origin.append(origin.flatten()) \n",
    "    \n",
    "    \n",
    "for f1 in files_amaro:  \n",
    "    amaro = cv2.imread(f1)\n",
    "    amaro = cv2.cvtColor(amaro, cv2.COLOR_BGR2RGB)\n",
    "    amaro = cv2.resize(amaro, shape)\n",
    "    data_amaro.append(amaro.flatten())\n",
    "\n",
    "for f1 in files_lofi:\n",
    "    lofi = cv2.imread(f1)\n",
    "    lofi = cv2.cvtColor(lofi, cv2.COLOR_BGR2RGB)\n",
    "    lofi = cv2.resize(lofi, shape)\n",
    "    data_lofi.append(lofi.flatten()) \n",
    "    \n",
    "data_origin = np.array(data_origin) \n",
    "data_amaro = np.array(data_amaro) \n",
    "data_lofi = np.array(data_lofi) \n",
    "\n",
    "X_full = np.concatenate((data_amaro, data_origin,data_lofi))\n",
    "print(X_full.shape)\n",
    "\n",
    "y_full = [\"amaro\" for i in range(data_amaro.shape[0])] \n",
    "y_full += [\"origin\" for i in range(data_origin.shape[0])] \n",
    "y_full += [\"lofi\" for i in range(data_lofi.shape[0])]\n",
    "\n",
    "clf_full = tree.DecisionTreeClassifier()\n",
    "clf_full.fit(X_full, y_full) \n",
    "tree.plot_tree(clf_full)"
   ]
  },
  {
   "cell_type": "code",
   "execution_count": 15,
   "metadata": {
    "scrolled": true
   },
   "outputs": [
    {
     "name": "stdout",
     "output_type": "stream",
     "text": [
      "Prediction for amaro picture: ['amaro']\n",
      "Prediction for origin picture: ['origin']\n",
      "Prediction for lofi picture: ['lofi']\n"
     ]
    }
   ],
   "source": [
    "amaro = cv2.imread(\"filter_decision_tree/test_data/amaro.jpg\")\n",
    "amaro = cv2.cvtColor(amaro, cv2.COLOR_BGR2RGB)\n",
    "amaro = cv2.resize(amaro, shape)\n",
    "amaro = amaro.flatten()\n",
    "\n",
    "original = cv2.imread(\"filter_decision_tree/test_data/original.jpg\")\n",
    "original = cv2.cvtColor(original, cv2.COLOR_BGR2RGB)\n",
    "original = cv2.resize(original, shape)\n",
    "original = original.flatten()\n",
    "\n",
    "lofi = cv2.imread(\"filter_decision_tree/test_data/lofi.jpg\")\n",
    "lofi = cv2.cvtColor(lofi, cv2.COLOR_BGR2RGB)\n",
    "lofi = cv2.resize(lofi, shape)\n",
    "lofi = lofi.flatten()\n",
    "\n",
    "print(\"Prediction for amaro picture:\", clf_full.predict([amaro]))\n",
    "print(\"Prediction for origin picture:\", clf_full.predict([original]))\n",
    "print(\"Prediction for lofi picture:\", clf_full.predict([lofi]))"
   ]
  },
  {
   "cell_type": "markdown",
   "metadata": {},
   "source": [
    "**Wie zu sehen ist, funktioniert nun die Klassifizierung besser bzw. wurde der richtige Filter (zumindest beim Testbild) richtig vorhergesagt.**"
   ]
  },
  {
   "cell_type": "code",
   "execution_count": null,
   "metadata": {},
   "outputs": [],
   "source": []
  }
 ],
 "metadata": {
  "kernelspec": {
   "display_name": "Python 3",
   "language": "python",
   "name": "python3"
  },
  "language_info": {
   "codemirror_mode": {
    "name": "ipython",
    "version": 3
   },
   "file_extension": ".py",
   "mimetype": "text/x-python",
   "name": "python",
   "nbconvert_exporter": "python",
   "pygments_lexer": "ipython3",
   "version": "3.7.6"
  },
  "pycharm": {
   "stem_cell": {
    "cell_type": "raw",
    "metadata": {
     "collapsed": false
    },
    "source": []
   }
  }
 },
 "nbformat": 4,
 "nbformat_minor": 4
}
