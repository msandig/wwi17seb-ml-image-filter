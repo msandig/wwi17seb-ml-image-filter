{
 "cells": [
  {
   "cell_type": "code",
   "execution_count": 1,
   "metadata": {},
   "outputs": [],
   "source": [
    "import tensorflow as tf\n",
    "from tensorflow.keras.models import Sequential \n",
    "from tensorflow.keras.layers import Conv2D, Dense, Flatten, MaxPool2D\n",
    "from tensorflow.keras.optimizers import Adam\n",
    "from tensorflow.keras.preprocessing.image import ImageDataGenerator\n",
    "import warnings\n",
    "warnings.simplefilter(action='ignore', category=FutureWarning)\n",
    "# %matplotlib inline"
   ]
  },
  {
   "cell_type": "code",
   "execution_count": 2,
   "metadata": {},
   "outputs": [
    {
     "name": "stdout",
     "output_type": "stream",
     "text": [
      "Num GPUs Available 1\n"
     ]
    }
   ],
   "source": [
    "physical_devices = tf.config.experimental.list_physical_devices('GPU')\n",
    "print(\"Num GPUs Available\", len(physical_devices))"
   ]
  },
  {
   "cell_type": "code",
   "execution_count": 3,
   "metadata": {},
   "outputs": [
    {
     "name": "stdout",
     "output_type": "stream",
     "text": [
      "Found 5120 images belonging to 5 classes.\n",
      "Found 1280 images belonging to 5 classes.\n"
     ]
    }
   ],
   "source": [
    "# path to dataset\n",
    "directory = \"./FACD_image\"\n",
    "classes = [\"1977\", \"Amaro\", \"Apollo\", \"Brannan\", \"Earlybird\"]\n",
    "target_size = (224,224)\n",
    "seed = 42;\n",
    "batch_size=100\n",
    "\n",
    "# create a image generator for keras, that can load images batchwise\n",
    "data_generator = ImageDataGenerator(preprocessing_function=tf.keras.applications.vgg16.preprocess_input, validation_split=0.2)\n",
    "\n",
    "train_batches = tf.keras.preprocessing.image.DirectoryIterator(\n",
    "    directory, data_generator, target_size=target_size, classes=classes, color_mode='rgb', batch_size=batch_size, shuffle=True, seed=seed,\n",
    "    subset='training'\n",
    ")\n",
    "\n",
    "valid_batches = tf.keras.preprocessing.image.DirectoryIterator(\n",
    "    directory, data_generator, target_size=target_size, classes=classes,  color_mode='rgb', batch_size=batch_size, shuffle=True, seed=seed, \n",
    "    subset='validation'\n",
    ")    \n",
    "\n"
   ]
  },
  {
   "cell_type": "code",
   "execution_count": 4,
   "metadata": {},
   "outputs": [],
   "source": [
    "model = Sequential([\n",
    "    Conv2D(filters=32, kernel_size=(3, 3), activation='relu', padding='same', input_shape=(224,224,3)), \n",
    "    MaxPool2D(pool_size=(2, 2), strides=2), \n",
    "    Conv2D(filters=64, kernel_size=(3,3), activation='relu', padding='same'), \n",
    "    MaxPool2D(pool_size=(2,2), strides=2), \n",
    "    Flatten(), \n",
    "    Dense(units=len(classes), activation='softmax'),\n",
    "])"
   ]
  },
  {
   "cell_type": "code",
   "execution_count": 5,
   "metadata": {},
   "outputs": [
    {
     "name": "stdout",
     "output_type": "stream",
     "text": [
      "Model: \"sequential\"\n",
      "_________________________________________________________________\n",
      "Layer (type)                 Output Shape              Param #   \n",
      "=================================================================\n",
      "conv2d (Conv2D)              (None, 224, 224, 32)      896       \n",
      "_________________________________________________________________\n",
      "max_pooling2d (MaxPooling2D) (None, 112, 112, 32)      0         \n",
      "_________________________________________________________________\n",
      "conv2d_1 (Conv2D)            (None, 112, 112, 64)      18496     \n",
      "_________________________________________________________________\n",
      "max_pooling2d_1 (MaxPooling2 (None, 56, 56, 64)        0         \n",
      "_________________________________________________________________\n",
      "flatten (Flatten)            (None, 200704)            0         \n",
      "_________________________________________________________________\n",
      "dense (Dense)                (None, 5)                 1003525   \n",
      "=================================================================\n",
      "Total params: 1,022,917\n",
      "Trainable params: 1,022,917\n",
      "Non-trainable params: 0\n",
      "_________________________________________________________________\n"
     ]
    }
   ],
   "source": [
    "model.summary()"
   ]
  },
  {
   "cell_type": "code",
   "execution_count": 6,
   "metadata": {},
   "outputs": [],
   "source": [
    "model.compile(optimizer=Adam(learning_rate=0.0001), loss='categorical_crossentropy', metrics=['accuracy'])"
   ]
  },
  {
   "cell_type": "code",
   "execution_count": 7,
   "metadata": {},
   "outputs": [
    {
     "name": "stdout",
     "output_type": "stream",
     "text": [
      "WARNING:tensorflow:sample_weight modes were coerced from\n",
      "  ...\n",
      "    to  \n",
      "  ['...']\n",
      "WARNING:tensorflow:sample_weight modes were coerced from\n",
      "  ...\n",
      "    to  \n",
      "  ['...']\n",
      "Train for 52 steps, validate for 13 steps\n",
      "Epoch 1/10\n",
      "52/52 [==============================] - 102s 2s/step - loss: 49.1419 - accuracy: 0.4439 - val_loss: 7.1513 - val_accuracy: 0.6359\n",
      "Epoch 2/10\n",
      "52/52 [==============================] - 92s 2s/step - loss: 3.4897 - accuracy: 0.7441 - val_loss: 2.2340 - val_accuracy: 0.8047\n",
      "Epoch 3/10\n",
      "52/52 [==============================] - 92s 2s/step - loss: 1.3678 - accuracy: 0.8248 - val_loss: 1.7683 - val_accuracy: 0.8148\n",
      "Epoch 4/10\n",
      "52/52 [==============================] - 95s 2s/step - loss: 0.9477 - accuracy: 0.8650 - val_loss: 1.9079 - val_accuracy: 0.8133\n",
      "Epoch 5/10\n",
      "52/52 [==============================] - 93s 2s/step - loss: 0.9234 - accuracy: 0.8734 - val_loss: 1.4783 - val_accuracy: 0.8422\n",
      "Epoch 6/10\n",
      "52/52 [==============================] - 89s 2s/step - loss: 0.4905 - accuracy: 0.9139 - val_loss: 1.5007 - val_accuracy: 0.8391\n",
      "Epoch 7/10\n",
      "52/52 [==============================] - 89s 2s/step - loss: 0.4107 - accuracy: 0.9232 - val_loss: 1.4345 - val_accuracy: 0.8531\n",
      "Epoch 8/10\n",
      "52/52 [==============================] - 89s 2s/step - loss: 0.2187 - accuracy: 0.9547 - val_loss: 1.8354 - val_accuracy: 0.8242\n",
      "Epoch 9/10\n",
      "52/52 [==============================] - 90s 2s/step - loss: 0.1940 - accuracy: 0.9570 - val_loss: 1.5257 - val_accuracy: 0.8453\n",
      "Epoch 10/10\n",
      "52/52 [==============================] - 89s 2s/step - loss: 0.1115 - accuracy: 0.9719 - val_loss: 1.4613 - val_accuracy: 0.8594\n"
     ]
    },
    {
     "data": {
      "text/plain": [
       "<tensorflow.python.keras.callbacks.History at 0x13363d2e688>"
      ]
     },
     "execution_count": 7,
     "metadata": {},
     "output_type": "execute_result"
    }
   ],
   "source": [
    "model.fit(x=train_batches, validation_data=valid_batches, epochs=10, verbose=1)"
   ]
  },
  {
   "cell_type": "code",
   "execution_count": 8,
   "metadata": {},
   "outputs": [],
   "source": [
    "filepath = \"./keras_five_filters_color_few_layers.hdf5\"\n",
    "\n",
    "model.save(\n",
    "   filepath, overwrite=True, include_optimizer=True, save_format=\"h5\",\n",
    "    signatures=None, options=None\n",
    ")"
   ]
  },
  {
   "cell_type": "code",
   "execution_count": null,
   "metadata": {},
   "outputs": [],
   "source": []
  }
 ],
 "metadata": {
  "kernelspec": {
   "display_name": "Python 3",
   "language": "python",
   "name": "python3"
  },
  "language_info": {
   "codemirror_mode": {
    "name": "ipython",
    "version": 3
   },
   "file_extension": ".py",
   "mimetype": "text/x-python",
   "name": "python",
   "nbconvert_exporter": "python",
   "pygments_lexer": "ipython3",
   "version": "3.7.7"
  }
 },
 "nbformat": 4,
 "nbformat_minor": 4
}
