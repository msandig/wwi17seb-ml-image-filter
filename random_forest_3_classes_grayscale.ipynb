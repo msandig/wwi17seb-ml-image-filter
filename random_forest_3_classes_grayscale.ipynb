{
 "cells": [
  {
   "cell_type": "markdown",
   "metadata": {},
   "source": [
    "# Bilden eines Models mit Original und 2 Filtern"
   ]
  },
  {
   "cell_type": "markdown",
   "metadata": {},
   "source": [
    "## Import der notwendigen Pakete"
   ]
  },
  {
   "cell_type": "code",
   "execution_count": 1,
   "metadata": {},
   "outputs": [],
   "source": [
    "from sklearn import tree\n",
    "import cv2 \n",
    "import os\n",
    "import glob\n",
    "import numpy as np\n",
    "from numpy import mean\n",
    "from numpy import std\n",
    "import seaborn as sns; sns.set()\n",
    "import matplotlib.pyplot as plt\n",
    "from sklearn.ensemble import RandomForestClassifier\n",
    "from sklearn.model_selection import train_test_split\n",
    "from sklearn.model_selection import cross_val_score\n",
    "from sklearn.model_selection import RepeatedStratifiedKFold"
   ]
  },
  {
   "cell_type": "markdown",
   "metadata": {},
   "source": [
    "## Laden der notwendigen Daten"
   ]
  },
  {
   "cell_type": "code",
   "execution_count": 2,
   "metadata": {},
   "outputs": [],
   "source": [
    "img_dir_amaro = \"FACD_image/Amaro\"\n",
    "img_dir_origin = \"FACD_image/Origin\"\n",
    "img_dir_lofi = \"FACD_image/Lofi\"\n",
    "shape = (244,244)\n",
    "random_state = 42\n",
    "\n",
    "\n",
    "data_path_amaro = os.path.join(img_dir_amaro,'*g')\n",
    "data_path_origin = os.path.join(img_dir_origin,'*g')\n",
    "data_path_lofi = os.path.join(img_dir_lofi,'*g')\n",
    "\n",
    "files_amaro = glob.glob(data_path_amaro)\n",
    "files_origin = glob.glob(data_path_origin)\n",
    "files_lofi = glob.glob(data_path_lofi)\n",
    "\n",
    "data_origin = []\n",
    "data_amaro = []\n",
    "data_lofi = []\n",
    "\n",
    "for f1 in files_origin:\n",
    "    origin = cv2.imread(f1, cv2.IMREAD_GRAYSCALE)\n",
    "    origin = cv2.resize(origin, shape)\n",
    "    data_origin.append(origin.flatten()) \n",
    "    \n",
    "    \n",
    "for f1 in files_amaro:  \n",
    "    amaro = cv2.imread(f1, cv2.IMREAD_GRAYSCALE)\n",
    "    amaro = cv2.resize(amaro, shape)\n",
    "    data_amaro.append(amaro.flatten())\n",
    "\n",
    "for f1 in files_lofi:\n",
    "    lofi = cv2.imread(f1, cv2.IMREAD_GRAYSCALE)\n",
    "    lofi = cv2.resize(lofi, shape)\n",
    "    data_lofi.append(lofi.flatten()) "
   ]
  },
  {
   "cell_type": "markdown",
   "metadata": {},
   "source": [
    "## Datensätze vereinen und Model bilden\n",
    "\n",
    "Es werden die Klassen Lofi, Amaro und der Orginalbilder in einem Datensatz kombiniert.\n",
    "Danach wird der komplette Datensatz in die unterschiedlichen Test- und Trainingsdaten aufgeteilt.\n",
    "Zum Anlernen des Models werden nur die Trainingsdaten verwendet.\n",
    "Für die Validierung des Models wird die Sektion Crossvalidierung verwendet.\n",
    "\n",
    "Der RandomForestClassifier ist eine Vielzahl von n_estimators an desicion trees."
   ]
  },
  {
   "cell_type": "code",
   "execution_count": 3,
   "metadata": {},
   "outputs": [
    {
     "data": {
      "text/plain": [
       "RandomForestClassifier(max_depth=2, n_estimators=20, random_state=42)"
      ]
     },
     "execution_count": 3,
     "metadata": {},
     "output_type": "execute_result"
    }
   ],
   "source": [
    "data_origin = np.array(data_origin) \n",
    "data_amaro = np.array(data_amaro) \n",
    "data_lofi = np.array(data_lofi) \n",
    "\n",
    "X_full = np.concatenate((data_amaro, data_origin, data_lofi))\n",
    "y_full = [\"amaro\" for i in range(data_amaro.shape[0])] \n",
    "y_full += [\"origin\" for i in range(data_origin.shape[0])] \n",
    "y_full += [\"lofi\" for i in range(data_lofi.shape[0])]\n",
    "\n",
    "X_train, X_test, y_train, y_test = train_test_split(X_full, y_full, test_size=0.2, random_state=42)\n",
    "\n",
    "classifier = RandomForestClassifier(n_estimators=20, random_state=random_state, max_depth=2)\n",
    "classifier.fit(X_train, y_train)"
   ]
  },
  {
   "cell_type": "code",
   "execution_count": 4,
   "metadata": {},
   "outputs": [
    {
     "data": {
      "text/plain": [
       "[Text(167.4, 181.2, 'X[21962] <= 0.5\\ngini = 0.666\\nsamples = 1947\\nvalue = [1031, 1067, 974]'),\n",
       " Text(83.7, 108.72, 'X[8417] <= 143.5\\ngini = 0.528\\nsamples = 1351\\nvalue = [1024, 1059, 64]'),\n",
       " Text(41.85, 36.23999999999998, 'gini = 0.503\\nsamples = 916\\nvalue = [523, 896, 55]'),\n",
       " Text(125.55000000000001, 36.23999999999998, 'gini = 0.387\\nsamples = 435\\nvalue = [501, 163, 9]'),\n",
       " Text(251.10000000000002, 108.72, 'X[37578] <= 0.5\\ngini = 0.032\\nsamples = 596\\nvalue = [7, 8, 910]'),\n",
       " Text(209.25, 36.23999999999998, 'gini = 0.584\\nsamples = 18\\nvalue = [6, 7, 17]'),\n",
       " Text(292.95, 36.23999999999998, 'gini = 0.004\\nsamples = 578\\nvalue = [1, 1, 893]')]"
      ]
     },
     "execution_count": 4,
     "metadata": {},
     "output_type": "execute_result"
    },
    {
     "data": {
      "image/png": "[encoded data removed]",
      "text/plain": [
       "<Figure size 432x288 with 1 Axes>"
      ]
     },
     "metadata": {},
     "output_type": "display_data"
    }
   ],
   "source": [
    "tree.plot_tree(classifier[1], fontsize=10)"
   ]
  },
  {
   "cell_type": "markdown",
   "metadata": {},
   "source": [
    "## Crossvalidation\n",
    "Die Crossvalidierung wird dazu verwendet, um sicherzustellen, dass es keinen ungünstigen Split des Datensatzes gibt."
   ]
  },
  {
   "cell_type": "code",
   "execution_count": 5,
   "metadata": {},
   "outputs": [
    {
     "name": "stdout",
     "output_type": "stream",
     "text": [
      "Accuracy: 0.786 (0.018)\n",
      "              precision    recall  f1-score   support\n",
      "\n",
      "       amaro       0.62      0.76      0.68       220\n",
      "        lofi       0.79      0.62      0.70       306\n",
      "      origin       0.94      1.00      0.97       242\n",
      "\n",
      "    accuracy                           0.78       768\n",
      "   macro avg       0.78      0.79      0.78       768\n",
      "weighted avg       0.79      0.78      0.78       768\n",
      "\n"
     ]
    }
   ],
   "source": [
    "cv = RepeatedStratifiedKFold(n_splits=10, n_repeats=3, random_state=1)\n",
    "n_scores = cross_val_score(classifier, X_full, y_full, scoring='accuracy', cv=cv, n_jobs=-1, error_score='raise')\n",
    "print('Accuracy: %.3f (%.3f)' % (mean(n_scores), std(n_scores)))\n",
    "y_pred = classifier.predict(X_test)\n",
    "\n",
    "from sklearn import metrics\n",
    "print(metrics.classification_report(y_pred, y_test))"
   ]
  },
  {
   "cell_type": "markdown",
   "metadata": {},
   "source": [
    "## Ausgabe des Confusion Matrix\n",
    "Zur Visualisierung wird eine Heatmap verwendet, um die besonders markanten Zuordnungen schnell und intuitiv verständlich zu machen."
   ]
  },
  {
   "cell_type": "code",
   "execution_count": 6,
   "metadata": {},
   "outputs": [
    {
     "data": {
      "image/png": "[encoded data removed]",
      "text/plain": [
       "<Figure size 432x288 with 2 Axes>"
      ]
     },
     "metadata": {},
     "output_type": "display_data"
    }
   ],
   "source": [
    "from sklearn.metrics import confusion_matrix\n",
    "mat = confusion_matrix(y_test, y_pred)\n",
    "sns.heatmap(mat.T, square=True, annot=True, fmt='d',cmap=\"YlGnBu\", linewidths=.5, cbar_kws={'orientation': 'vertical'})\n",
    "plt.xlabel('true label')\n",
    "plt.ylabel('predicted label');"
   ]
  },
  {
   "cell_type": "markdown",
   "metadata": {},
   "source": [
    "## Random Forest mit keiner Beschränkung für die Tiefe"
   ]
  },
  {
   "cell_type": "code",
   "execution_count": 7,
   "metadata": {},
   "outputs": [
    {
     "data": {
      "text/plain": [
       "RandomForestClassifier(n_estimators=20, random_state=42)"
      ]
     },
     "execution_count": 7,
     "metadata": {},
     "output_type": "execute_result"
    }
   ],
   "source": [
    "classifier = RandomForestClassifier(n_estimators=20, random_state=random_state)\n",
    "classifier.fit(X_train, y_train)"
   ]
  },
  {
   "cell_type": "code",
   "execution_count": 8,
   "metadata": {},
   "outputs": [
    {
     "data": {
      "text/plain": [
       "[Text(229.970654296875, 212.91, 'X[48558] <= 0.5\\ngini = 0.666\\nsamples = 1971\\nvalue = [1054, 1052, 966]'),\n",
       " Text(131.06697231056415, 203.85, 'X[56975] <= 10.5\\ngini = 0.527\\nsamples = 1378\\nvalue = [1049, 1047, 60]'),\n",
       " Text(13.332743362831858, 194.79, 'X[54291] <= 3.5\\ngini = 0.205\\nsamples = 185\\nvalue = [12, 261, 21]'),\n",
       " Text(10.36991150442478, 185.73, 'gini = 0.0\\nsamples = 7\\nvalue = [0, 0, 15]'),\n",
       " Text(16.295575221238938, 185.73, 'X[48748] <= 215.0\\ngini = 0.123\\nsamples = 178\\nvalue = [12, 261, 6]'),\n",
       " Text(13.332743362831858, 176.67, 'X[24222] <= 12.5\\ngini = 0.085\\nsamples = 175\\nvalue = [6, 261, 6]'),\n",
       " Text(5.925663716814159, 167.60999999999999, 'X[47155] <= 13.0\\ngini = 0.49\\nsamples = 5\\nvalue = [3, 0, 4]'),\n",
       " Text(2.9628318584070796, 158.55, 'gini = 0.0\\nsamples = 3\\nvalue = [0, 0, 4]'),\n",
       " Text(8.888495575221238, 158.55, 'gini = 0.0\\nsamples = 2\\nvalue = [3, 0, 0]'),\n",
       " Text(20.73982300884956, 167.60999999999999, 'X[2656] <= 0.5\\ngini = 0.037\\nsamples = 170\\nvalue = [3, 261, 2]'),\n",
       " Text(14.814159292035399, 158.55, 'X[12155] <= 70.0\\ngini = 0.444\\nsamples = 2\\nvalue = [2, 0, 1]'),\n",
       " Text(11.851327433628319, 149.49, 'gini = 0.0\\nsamples = 1\\nvalue = [0, 0, 1]'),\n",
       " Text(17.776991150442477, 149.49, 'gini = 0.0\\nsamples = 1\\nvalue = [2, 0, 0]'),\n",
       " Text(26.665486725663715, 158.55, 'X[6459] <= 237.0\\ngini = 0.015\\nsamples = 168\\nvalue = [1, 261, 1]'),\n",
       " Text(23.702654867256637, 149.49, 'X[20863] <= 228.5\\ngini = 0.008\\nsamples = 167\\nvalue = [1, 261, 0]'),\n",
       " Text(20.73982300884956, 140.43, 'gini = 0.0\\nsamples = 166\\nvalue = [0, 261, 0]'),\n",
       " Text(26.665486725663715, 140.43, 'gini = 0.0\\nsamples = 1\\nvalue = [1, 0, 0]'),\n",
       " Text(29.628318584070797, 149.49, 'gini = 0.0\\nsamples = 1\\nvalue = [0, 0, 1]'),\n",
       " Text(19.258407079646016, 176.67, 'gini = 0.0\\nsamples = 3\\nvalue = [6, 0, 0]'),\n",
       " Text(248.80120125829646, 194.79, 'X[5581] <= 111.5\\ngini = 0.511\\nsamples = 1193\\nvalue = [1037, 786, 39]'),\n",
       " Text(196.87496888827434, 185.73, 'X[7475] <= 139.5\\ngini = 0.482\\nsamples = 1030\\nvalue = [997, 576, 27]'),\n",
       " Text(147.0941855641593, 176.67, 'X[22708] <= 151.5\\ngini = 0.521\\nsamples = 700\\nvalue = [532, 530, 23]'),\n",
       " Text(88.27155696902655, 167.60999999999999, 'X[32215] <= 9.5\\ngini = 0.517\\nsamples = 605\\nvalue = [405, 509, 23]'),\n",
       " Text(41.47964601769912, 158.55, 'X[399] <= 0.5\\ngini = 0.216\\nsamples = 75\\nvalue = [5, 104, 9]'),\n",
       " Text(35.553982300884954, 149.49, 'X[33732] <= 11.5\\ngini = 0.088\\nsamples = 68\\nvalue = [5, 103, 0]'),\n",
       " Text(32.591150442477876, 140.43, 'gini = 0.0\\nsamples = 1\\nvalue = [3, 0, 0]'),\n",
       " Text(38.51681415929203, 140.43, 'X[21862] <= 12.5\\ngini = 0.037\\nsamples = 67\\nvalue = [2, 103, 0]'),\n",
       " Text(35.553982300884954, 131.37, 'gini = 0.0\\nsamples = 1\\nvalue = [2, 0, 0]'),\n",
       " Text(41.47964601769912, 131.37, 'gini = 0.0\\nsamples = 66\\nvalue = [0, 103, 0]'),\n",
       " Text(47.405309734513274, 149.49, 'X[15947] <= 116.5\\ngini = 0.18\\nsamples = 7\\nvalue = [0, 1, 9]'),\n",
       " Text(44.442477876106196, 140.43, 'gini = 0.0\\nsamples = 6\\nvalue = [0, 0, 9]'),\n",
       " Text(50.36814159292035, 140.43, 'gini = 0.0\\nsamples = 1\\nvalue = [0, 1, 0]'),\n",
       " Text(135.063467920354, 158.55, 'X[3456] <= 40.5\\ngini = 0.517\\nsamples = 530\\nvalue = [400, 405, 14]'),\n",
       " Text(98.0975110619469, 149.49, 'X[24531] <= 176.5\\ngini = 0.486\\nsamples = 330\\nvalue = [308, 180, 10]'),\n",
       " Text(70.27466814159293, 140.43, 'X[2301] <= 9.5\\ngini = 0.517\\nsamples = 272\\nvalue = [221, 173, 10]'),\n",
       " Text(47.405309734513274, 131.37, 'X[8865] <= 9.5\\ngini = 0.188\\nsamples = 30\\nvalue = [0, 34, 4]'),\n",
       " Text(44.442477876106196, 122.30999999999999, 'gini = 0.0\\nsamples = 3\\nvalue = [0, 0, 3]'),\n",
       " Text(50.36814159292035, 122.30999999999999, 'X[36397] <= 10.5\\ngini = 0.056\\nsamples = 27\\nvalue = [0, 34, 1]'),\n",
       " Text(47.405309734513274, 113.24999999999999, 'gini = 0.0\\nsamples = 1\\nvalue = [0, 0, 1]'),\n",
       " Text(53.33097345132743, 113.24999999999999, 'gini = 0.0\\nsamples = 26\\nvalue = [0, 34, 0]'),\n",
       " Text(93.14402654867257, 131.37, 'X[36581] <= 46.0\\ngini = 0.491\\nsamples = 242\\nvalue = [221, 139, 6]'),\n",
       " Text(72.21902654867256, 122.30999999999999, 'X[54700] <= 10.5\\ngini = 0.522\\nsamples = 123\\nvalue = [83, 99, 5]'),\n",
       " Text(59.256637168141594, 113.24999999999999, 'X[55907] <= 18.0\\ngini = 0.291\\nsamples = 33\\nvalue = [45, 4, 5]'),\n",
       " Text(53.33097345132743, 104.19, 'X[5905] <= 6.5\\ngini = 0.043\\nsamples = 28\\nvalue = [45, 1, 0]'),\n",
       " Text(50.36814159292035, 95.13, 'gini = 0.0\\nsamples = 1\\nvalue = [0, 1, 0]'),\n",
       " Text(56.293805309734516, 95.13, 'gini = 0.0\\nsamples = 27\\nvalue = [45, 0, 0]'),\n",
       " Text(65.18230088495575, 104.19, 'X[49101] <= 5.0\\ngini = 0.469\\nsamples = 5\\nvalue = [0, 3, 5]'),\n",
       " Text(62.21946902654867, 95.13, 'gini = 0.0\\nsamples = 2\\nvalue = [0, 0, 5]'),\n",
       " Text(68.14513274336284, 95.13, 'gini = 0.0\\nsamples = 3\\nvalue = [0, 3, 0]'),\n",
       " Text(85.18141592920354, 113.24999999999999, 'X[22005] <= 77.5\\ngini = 0.408\\nsamples = 90\\nvalue = [38, 95, 0]'),\n",
       " Text(77.03362831858406, 104.19, 'X[42245] <= 164.5\\ngini = 0.306\\nsamples = 73\\nvalue = [20, 86, 0]'),\n",
       " Text(74.070796460177, 95.13, 'X[3785] <= 118.5\\ngini = 0.253\\nsamples = 69\\nvalue = [15, 86, 0]'),\n",
       " Text(66.66371681415929, 86.07, 'X[29185] <= 25.0\\ngini = 0.19\\nsamples = 65\\nvalue = [10, 84, 0]'),\n",
       " Text(60.73805309734513, 77.00999999999999, 'X[56730] <= 18.0\\ngini = 0.32\\nsamples = 5\\nvalue = [4, 1, 0]'),\n",
       " Text(57.77522123893805, 67.94999999999999, 'gini = 0.0\\nsamples = 1\\nvalue = [0, 1, 0]'),\n",
       " Text(63.700884955752215, 67.94999999999999, 'gini = 0.0\\nsamples = 4\\nvalue = [4, 0, 0]'),\n",
       " Text(72.58938053097346, 77.00999999999999, 'X[50061] <= 117.0\\ngini = 0.126\\nsamples = 60\\nvalue = [6, 83, 0]'),\n",
       " Text(69.62654867256637, 67.94999999999999, 'X[53322] <= 193.5\\ngini = 0.067\\nsamples = 57\\nvalue = [3, 83, 0]'),\n",
       " Text(66.66371681415929, 58.889999999999986, 'X[24757] <= 167.5\\ngini = 0.046\\nsamples = 56\\nvalue = [2, 83, 0]'),\n",
       " Text(63.700884955752215, 49.829999999999984, 'gini = 0.0\\nsamples = 53\\nvalue = [0, 80, 0]'),\n",
       " Text(69.62654867256637, 49.829999999999984, 'X[5916] <= 47.5\\ngini = 0.48\\nsamples = 3\\nvalue = [2, 3, 0]'),\n",
       " Text(66.66371681415929, 40.76999999999998, 'gini = 0.0\\nsamples = 2\\nvalue = [0, 3, 0]'),\n",
       " Text(72.58938053097346, 40.76999999999998, 'gini = 0.0\\nsamples = 1\\nvalue = [2, 0, 0]'),\n",
       " Text(72.58938053097346, 58.889999999999986, 'gini = 0.0\\nsamples = 1\\nvalue = [1, 0, 0]'),\n",
       " Text(75.55221238938053, 67.94999999999999, 'gini = 0.0\\nsamples = 3\\nvalue = [3, 0, 0]'),\n",
       " Text(81.47787610619469, 86.07, 'X[31648] <= 126.0\\ngini = 0.408\\nsamples = 4\\nvalue = [5, 2, 0]'),\n",
       " Text(78.51504424778761, 77.00999999999999, 'gini = 0.0\\nsamples = 3\\nvalue = [5, 0, 0]'),\n",
       " Text(84.44070796460177, 77.00999999999999, 'gini = 0.0\\nsamples = 1\\nvalue = [0, 2, 0]'),\n",
       " Text(79.99646017699115, 95.13, 'gini = 0.0\\nsamples = 4\\nvalue = [5, 0, 0]'),\n",
       " Text(93.32920353982301, 104.19, 'X[28822] <= 51.0\\ngini = 0.444\\nsamples = 17\\nvalue = [18, 9, 0]'),\n",
       " Text(90.36637168141593, 95.13, 'X[49139] <= 36.0\\ngini = 0.18\\nsamples = 7\\nvalue = [1, 9, 0]'),\n",
       " Text(87.40353982300886, 86.07, 'gini = 0.0\\nsamples = 1\\nvalue = [1, 0, 0]'),\n",
       " Text(93.32920353982301, 86.07, 'gini = 0.0\\nsamples = 6\\nvalue = [0, 9, 0]'),\n",
       " Text(96.29203539823008, 95.13, 'gini = 0.0\\nsamples = 10\\nvalue = [17, 0, 0]'),\n",
       " Text(114.06902654867257, 122.30999999999999, 'X[55905] <= 115.0\\ngini = 0.356\\nsamples = 119\\nvalue = [138, 40, 1]'),\n",
       " Text(111.10619469026548, 113.24999999999999, 'X[49273] <= 157.0\\ngini = 0.308\\nsamples = 112\\nvalue = [138, 31, 1]'),\n",
       " Text(108.14336283185841, 104.19, 'X[38174] <= 31.5\\ngini = 0.276\\nsamples = 108\\nvalue = [138, 26, 1]'),\n",
       " Text(102.21769911504424, 95.13, 'X[1289] <= 12.5\\ngini = 0.375\\nsamples = 8\\nvalue = [2, 6, 0]'),\n",
       " Text(99.25486725663717, 86.07, 'gini = 0.0\\nsamples = 6\\nvalue = [0, 6, 0]'),\n",
       " Text(105.18053097345133, 86.07, 'gini = 0.0\\nsamples = 2\\nvalue = [2, 0, 0]'),\n",
       " Text(114.06902654867257, 95.13, 'X[6608] <= 96.5\\ngini = 0.233\\nsamples = 100\\nvalue = [136, 20, 1]'),\n",
       " Text(111.10619469026548, 86.07, 'X[46615] <= 129.5\\ngini = 0.208\\nsamples = 97\\nvalue = [136, 17, 1]'),\n",
       " Text(108.14336283185841, 77.00999999999999, 'X[55625] <= 3.5\\ngini = 0.18\\nsamples = 94\\nvalue = [136, 14, 1]'),\n",
       " Text(105.18053097345133, 67.94999999999999, 'gini = 0.0\\nsamples = 2\\nvalue = [0, 2, 0]'),\n",
       " Text(111.10619469026548, 67.94999999999999, 'X[30027] <= 10.5\\ngini = 0.16\\nsamples = 92\\nvalue = [136, 12, 1]'),\n",
       " Text(105.18053097345133, 58.889999999999986, 'X[41371] <= 105.5\\ngini = 0.5\\nsamples = 2\\nvalue = [0, 1, 1]'),\n",
       " Text(102.21769911504424, 49.829999999999984, 'gini = 0.0\\nsamples = 1\\nvalue = [0, 1, 0]'),\n",
       " Text(108.14336283185841, 49.829999999999984, 'gini = 0.0\\nsamples = 1\\nvalue = [0, 0, 1]'),\n",
       " Text(117.03185840707964, 58.889999999999986, 'X[49552] <= 121.0\\ngini = 0.138\\nsamples = 90\\nvalue = [136, 11, 0]'),\n",
       " Text(114.06902654867257, 49.829999999999984, 'X[13673] <= 57.0\\ngini = 0.128\\nsamples = 89\\nvalue = [136, 10, 0]'),\n",
       " Text(108.14336283185841, 40.76999999999998, 'X[55697] <= 184.0\\ngini = 0.075\\nsamples = 76\\nvalue = [124, 5, 0]'),\n",
       " Text(105.18053097345133, 31.70999999999998, 'X[6482] <= 157.5\\ngini = 0.046\\nsamples = 75\\nvalue = [124, 3, 0]'),\n",
       " Text(102.21769911504424, 22.649999999999977, 'X[25850] <= 8.5\\ngini = 0.031\\nsamples = 74\\nvalue = [124, 2, 0]'),\n",
       " Text(99.25486725663717, 13.589999999999975, 'gini = 0.0\\nsamples = 1\\nvalue = [0, 1, 0]'),\n",
       " Text(105.18053097345133, 13.589999999999975, 'X[28555] <= 6.5\\ngini = 0.016\\nsamples = 73\\nvalue = [124, 1, 0]'),\n",
       " Text(102.21769911504424, 4.529999999999973, 'gini = 0.0\\nsamples = 1\\nvalue = [0, 1, 0]'),\n",
       " Text(108.14336283185841, 4.529999999999973, 'gini = 0.0\\nsamples = 72\\nvalue = [124, 0, 0]'),\n",
       " Text(108.14336283185841, 22.649999999999977, 'gini = 0.0\\nsamples = 1\\nvalue = [0, 1, 0]'),\n",
       " Text(111.10619469026548, 31.70999999999998, 'gini = 0.0\\nsamples = 1\\nvalue = [0, 2, 0]'),\n",
       " Text(119.99469026548672, 40.76999999999998, 'X[31118] <= 119.0\\ngini = 0.415\\nsamples = 13\\nvalue = [12, 5, 0]'),\n",
       " Text(117.03185840707964, 31.70999999999998, 'X[56677] <= 18.5\\ngini = 0.278\\nsamples = 5\\nvalue = [1, 5, 0]'),\n",
       " Text(114.06902654867257, 22.649999999999977, 'gini = 0.0\\nsamples = 1\\nvalue = [1, 0, 0]'),\n",
       " Text(119.99469026548672, 22.649999999999977, 'gini = 0.0\\nsamples = 4\\nvalue = [0, 5, 0]'),\n",
       " Text(122.95752212389381, 31.70999999999998, 'gini = 0.0\\nsamples = 8\\nvalue = [11, 0, 0]'),\n",
       " Text(119.99469026548672, 49.829999999999984, 'gini = 0.0\\nsamples = 1\\nvalue = [0, 1, 0]'),\n",
       " Text(114.06902654867257, 77.00999999999999, 'gini = 0.0\\nsamples = 3\\nvalue = [0, 3, 0]'),\n",
       " Text(117.03185840707964, 86.07, 'gini = 0.0\\nsamples = 3\\nvalue = [0, 3, 0]'),\n",
       " Text(114.06902654867257, 104.19, 'gini = 0.0\\nsamples = 4\\nvalue = [0, 5, 0]'),\n",
       " Text(117.03185840707964, 113.24999999999999, 'gini = 0.0\\nsamples = 7\\nvalue = [0, 9, 0]'),\n",
       " Text(125.92035398230088, 140.43, 'X[3077] <= 9.0\\ngini = 0.138\\nsamples = 58\\nvalue = [87, 7, 0]'),\n",
       " Text(122.95752212389381, 131.37, 'gini = 0.0\\nsamples = 2\\nvalue = [0, 3, 0]'),\n",
       " Text(128.88318584070797, 131.37, 'X[18048] <= 135.0\\ngini = 0.084\\nsamples = 56\\nvalue = [87, 4, 0]'),\n",
       " Text(125.92035398230088, 122.30999999999999, 'X[54789] <= 8.5\\ngini = 0.044\\nsamples = 54\\nvalue = [87, 2, 0]'),\n",
       " Text(122.95752212389381, 113.24999999999999, 'gini = 0.0\\nsamples = 1\\nvalue = [0, 1, 0]'),\n",
       " Text(128.88318584070797, 113.24999999999999, 'X[27232] <= 27.5\\ngini = 0.022\\nsamples = 53\\nvalue = [87, 1, 0]'),\n",
       " Text(125.92035398230088, 104.19, 'gini = 0.0\\nsamples = 1\\nvalue = [0, 1, 0]'),\n",
       " Text(131.84601769911504, 104.19, 'gini = 0.0\\nsamples = 52\\nvalue = [87, 0, 0]'),\n",
       " Text(131.84601769911504, 122.30999999999999, 'gini = 0.0\\nsamples = 2\\nvalue = [0, 2, 0]'),\n",
       " Text(172.02942477876107, 149.49, 'X[55758] <= 143.5\\ngini = 0.426\\nsamples = 200\\nvalue = [92, 225, 4]'),\n",
       " Text(160.36327433628318, 140.43, 'X[22166] <= 184.5\\ngini = 0.35\\nsamples = 165\\nvalue = [55, 208, 4]'),\n",
       " Text(151.84513274336283, 131.37, 'X[34922] <= 19.5\\ngini = 0.303\\nsamples = 156\\nvalue = [42, 207, 4]'),\n",
       " Text(143.69734513274335, 122.30999999999999, 'X[54149] <= 10.0\\ngini = 0.36\\nsamples = 10\\nvalue = [13, 4, 0]'),\n",
       " Text(140.73451327433628, 113.24999999999999, 'gini = 0.0\\nsamples = 7\\nvalue = [13, 0, 0]'),\n",
       " Text(146.66017699115045, 113.24999999999999, 'gini = 0.0\\nsamples = 3\\nvalue = [0, 4, 0]'),\n",
       " Text(159.9929203539823, 122.30999999999999, 'X[19900] <= 194.0\\ngini = 0.245\\nsamples = 146\\nvalue = [29, 203, 4]'),\n",
       " Text(152.5858407079646, 113.24999999999999, 'X[26792] <= 218.0\\ngini = 0.181\\nsamples = 137\\nvalue = [18, 200, 4]'),\n",
       " Text(149.62300884955752, 104.19, 'X[28280] <= 214.5\\ngini = 0.147\\nsamples = 135\\nvalue = [13, 200, 4]'),\n",
       " Text(143.69734513274335, 95.13, 'X[2584] <= 198.0\\ngini = 0.107\\nsamples = 133\\nvalue = [12, 200, 0]'),\n",
       " Text(140.73451327433628, 86.07, 'X[45266] <= 191.5\\ngini = 0.091\\nsamples = 132\\nvalue = [10, 200, 0]'),\n",
       " Text(137.7716814159292, 77.00999999999999, 'X[16941] <= 226.0\\ngini = 0.074\\nsamples = 130\\nvalue = [8, 200, 0]'),\n",
       " Text(134.80884955752214, 67.94999999999999, 'X[51989] <= 7.5\\ngini = 0.057\\nsamples = 129\\nvalue = [6, 200, 0]'),\n",
       " Text(128.88318584070797, 58.889999999999986, 'X[11357] <= 100.5\\ngini = 0.49\\nsamples = 5\\nvalue = [3, 4, 0]'),\n",
       " Text(125.92035398230088, 49.829999999999984, 'gini = 0.0\\nsamples = 2\\nvalue = [0, 4, 0]'),\n",
       " Text(131.84601769911504, 49.829999999999984, 'gini = 0.0\\nsamples = 3\\nvalue = [3, 0, 0]'),\n",
       " Text(140.73451327433628, 58.889999999999986, 'X[56236] <= 168.5\\ngini = 0.03\\nsamples = 124\\nvalue = [3, 196, 0]'),\n",
       " Text(137.7716814159292, 49.829999999999984, 'X[38415] <= 238.0\\ngini = 0.02\\nsamples = 123\\nvalue = [2, 196, 0]'),\n",
       " Text(134.80884955752214, 40.76999999999998, 'X[45157] <= 7.5\\ngini = 0.01\\nsamples = 122\\nvalue = [1, 196, 0]'),\n",
       " Text(131.84601769911504, 31.70999999999998, 'gini = 0.0\\nsamples = 1\\nvalue = [1, 0, 0]'),\n",
       " Text(137.7716814159292, 31.70999999999998, 'gini = 0.0\\nsamples = 121\\nvalue = [0, 196, 0]'),\n",
       " Text(140.73451327433628, 40.76999999999998, 'gini = 0.0\\nsamples = 1\\nvalue = [1, 0, 0]'),\n",
       " Text(143.69734513274335, 49.829999999999984, 'gini = 0.0\\nsamples = 1\\nvalue = [1, 0, 0]'),\n",
       " Text(140.73451327433628, 67.94999999999999, 'gini = 0.0\\nsamples = 1\\nvalue = [2, 0, 0]'),\n",
       " Text(143.69734513274335, 77.00999999999999, 'gini = 0.0\\nsamples = 2\\nvalue = [2, 0, 0]'),\n",
       " Text(146.66017699115045, 86.07, 'gini = 0.0\\nsamples = 1\\nvalue = [2, 0, 0]'),\n",
       " Text(155.5486725663717, 95.13, 'X[13240] <= 143.5\\ngini = 0.32\\nsamples = 2\\nvalue = [1, 0, 4]'),\n",
       " Text(152.5858407079646, 86.07, 'gini = 0.0\\nsamples = 1\\nvalue = [0, 0, 4]'),\n",
       " Text(158.51150442477876, 86.07, 'gini = 0.0\\nsamples = 1\\nvalue = [1, 0, 0]'),\n",
       " Text(155.5486725663717, 104.19, 'gini = 0.0\\nsamples = 2\\nvalue = [5, 0, 0]'),\n",
       " Text(167.4, 113.24999999999999, 'X[54112] <= 43.5\\ngini = 0.337\\nsamples = 9\\nvalue = [11, 3, 0]'),\n",
       " Text(164.4371681415929, 104.19, 'X[53808] <= 21.5\\ngini = 0.375\\nsamples = 4\\nvalue = [1, 3, 0]'),\n",
       " Text(161.47433628318583, 95.13, 'gini = 0.0\\nsamples = 1\\nvalue = [1, 0, 0]'),\n",
       " Text(167.4, 95.13, 'gini = 0.0\\nsamples = 3\\nvalue = [0, 3, 0]'),\n",
       " Text(170.36283185840708, 104.19, 'gini = 0.0\\nsamples = 5\\nvalue = [10, 0, 0]'),\n",
       " Text(168.88141592920354, 131.37, 'X[2383] <= 163.5\\ngini = 0.133\\nsamples = 9\\nvalue = [13, 1, 0]'),\n",
       " Text(165.91858407079647, 122.30999999999999, 'gini = 0.0\\nsamples = 8\\nvalue = [13, 0, 0]'),\n",
       " Text(171.8442477876106, 122.30999999999999, 'gini = 0.0\\nsamples = 1\\nvalue = [0, 1, 0]'),\n",
       " Text(183.69557522123893, 140.43, 'X[55357] <= 92.5\\ngini = 0.431\\nsamples = 35\\nvalue = [37, 17, 0]'),\n",
       " Text(180.73274336283185, 131.37, 'X[31266] <= 27.0\\ngini = 0.097\\nsamples = 27\\nvalue = [37, 2, 0]'),\n",
       " Text(177.76991150442478, 122.30999999999999, 'gini = 0.0\\nsamples = 2\\nvalue = [0, 2, 0]'),\n",
       " Text(183.69557522123893, 122.30999999999999, 'gini = 0.0\\nsamples = 25\\nvalue = [37, 0, 0]'),\n",
       " Text(186.65840707964603, 131.37, 'gini = 0.0\\nsamples = 8\\nvalue = [0, 15, 0]'),\n",
       " Text(205.91681415929204, 167.60999999999999, 'X[52686] <= 97.5\\ngini = 0.244\\nsamples = 95\\nvalue = [127, 21, 0]'),\n",
       " Text(198.50973451327434, 158.55, 'X[9525] <= 106.5\\ngini = 0.151\\nsamples = 85\\nvalue = [123, 11, 0]'),\n",
       " Text(192.58407079646017, 149.49, 'X[30533] <= 21.0\\ngini = 0.063\\nsamples = 74\\nvalue = [119, 4, 0]'),\n",
       " Text(189.6212389380531, 140.43, 'gini = 0.0\\nsamples = 1\\nvalue = [0, 1, 0]'),\n",
       " Text(195.54690265486727, 140.43, 'X[55647] <= 147.5\\ngini = 0.048\\nsamples = 73\\nvalue = [119, 3, 0]'),\n",
       " Text(192.58407079646017, 131.37, 'X[56811] <= 129.0\\ngini = 0.033\\nsamples = 72\\nvalue = [119, 2, 0]'),\n",
       " Text(189.6212389380531, 122.30999999999999, 'X[21693] <= 11.5\\ngini = 0.017\\nsamples = 71\\nvalue = [119, 1, 0]'),\n",
       " Text(186.65840707964603, 113.24999999999999, 'gini = 0.0\\nsamples = 1\\nvalue = [0, 1, 0]'),\n",
       " Text(192.58407079646017, 113.24999999999999, 'gini = 0.0\\nsamples = 70\\nvalue = [119, 0, 0]'),\n",
       " Text(195.54690265486727, 122.30999999999999, 'gini = 0.0\\nsamples = 1\\nvalue = [0, 1, 0]'),\n",
       " Text(198.50973451327434, 131.37, 'gini = 0.0\\nsamples = 1\\nvalue = [0, 1, 0]'),\n",
       " Text(204.43539823008848, 149.49, 'X[44835] <= 166.5\\ngini = 0.463\\nsamples = 11\\nvalue = [4, 7, 0]'),\n",
       " Text(201.4725663716814, 140.43, 'gini = 0.0\\nsamples = 7\\nvalue = [0, 7, 0]'),\n",
       " Text(207.39823008849558, 140.43, 'gini = 0.0\\nsamples = 4\\nvalue = [4, 0, 0]'),\n",
       " Text(213.32389380530972, 158.55, 'X[20879] <= 41.5\\ngini = 0.408\\nsamples = 10\\nvalue = [4, 10, 0]'),\n",
       " Text(210.36106194690265, 149.49, 'gini = 0.0\\nsamples = 3\\nvalue = [4, 0, 0]'),\n",
       " Text(216.28672566371682, 149.49, 'gini = 0.0\\nsamples = 7\\nvalue = [0, 10, 0]'),\n",
       " Text(246.6557522123894, 176.67, 'X[19745] <= 38.5\\ngini = 0.177\\nsamples = 330\\nvalue = [465, 46, 4]'),\n",
       " Text(231.1008849557522, 167.60999999999999, 'X[49341] <= 57.5\\ngini = 0.501\\nsamples = 46\\nvalue = [39, 28, 1]'),\n",
       " Text(225.17522123893806, 158.55, 'X[6606] <= 10.0\\ngini = 0.328\\nsamples = 19\\nvalue = [6, 23, 0]'),\n",
       " Text(222.21238938053096, 149.49, 'gini = 0.0\\nsamples = 5\\nvalue = [6, 0, 0]'),\n",
       " Text(228.13805309734514, 149.49, 'gini = 0.0\\nsamples = 14\\nvalue = [0, 23, 0]'),\n",
       " Text(237.02654867256638, 158.55, 'X[24635] <= 11.0\\ngini = 0.267\\nsamples = 27\\nvalue = [33, 5, 1]'),\n",
       " Text(234.06371681415928, 149.49, 'X[16536] <= 146.5\\ngini = 0.449\\nsamples = 6\\nvalue = [1, 5, 1]'),\n",
       " Text(231.1008849557522, 140.43, 'gini = 0.0\\nsamples = 4\\nvalue = [0, 5, 0]'),\n",
       " Text(237.02654867256638, 140.43, 'X[17614] <= 191.5\\ngini = 0.5\\nsamples = 2\\nvalue = [1, 0, 1]'),\n",
       " Text(234.06371681415928, 131.37, 'gini = 0.0\\nsamples = 1\\nvalue = [0, 0, 1]'),\n",
       " Text(239.98938053097345, 131.37, 'gini = 0.0\\nsamples = 1\\nvalue = [1, 0, 0]'),\n",
       " Text(239.98938053097345, 149.49, 'gini = 0.0\\nsamples = 21\\nvalue = [32, 0, 0]'),\n",
       " Text(262.21061946902654, 167.60999999999999, 'X[53940] <= 100.5\\ngini = 0.09\\nsamples = 284\\nvalue = [426, 18, 3]'),\n",
       " Text(251.84070796460176, 158.55, 'X[5736] <= 33.5\\ngini = 0.045\\nsamples = 271\\nvalue = [421, 9, 1]'),\n",
       " Text(245.91504424778762, 149.49, 'X[24336] <= 103.5\\ngini = 0.5\\nsamples = 9\\nvalue = [6, 6, 0]'),\n",
       " Text(242.95221238938052, 140.43, 'gini = 0.0\\nsamples = 5\\nvalue = [0, 6, 0]'),\n",
       " Text(248.8778761061947, 140.43, 'gini = 0.0\\nsamples = 4\\nvalue = [6, 0, 0]'),\n",
       " Text(257.76637168141593, 149.49, 'X[50911] <= 5.5\\ngini = 0.019\\nsamples = 262\\nvalue = [415, 3, 1]'),\n",
       " Text(254.80353982300886, 140.43, 'gini = 0.0\\nsamples = 1\\nvalue = [0, 0, 1]'),\n",
       " Text(260.729203539823, 140.43, 'X[44939] <= 9.5\\ngini = 0.014\\nsamples = 261\\nvalue = [415, 3, 0]'),\n",
       " Text(257.76637168141593, 131.37, 'gini = 0.0\\nsamples = 1\\nvalue = [0, 1, 0]'),\n",
       " Text(263.6920353982301, 131.37, 'X[56483] <= 10.0\\ngini = 0.01\\nsamples = 260\\nvalue = [415, 2, 0]'),\n",
       " Text(260.729203539823, 122.30999999999999, 'gini = 0.0\\nsamples = 1\\nvalue = [0, 1, 0]'),\n",
       " Text(266.65486725663715, 122.30999999999999, 'X[2476] <= 197.0\\ngini = 0.005\\nsamples = 259\\nvalue = [415, 1, 0]'),\n",
       " Text(263.6920353982301, 113.24999999999999, 'gini = 0.0\\nsamples = 255\\nvalue = [412, 0, 0]'),\n",
       " Text(269.6176991150443, 113.24999999999999, 'X[34639] <= 27.0\\ngini = 0.375\\nsamples = 4\\nvalue = [3, 1, 0]'),\n",
       " Text(266.65486725663715, 104.19, 'gini = 0.0\\nsamples = 1\\nvalue = [0, 1, 0]'),\n",
       " Text(272.58053097345135, 104.19, 'gini = 0.0\\nsamples = 3\\nvalue = [3, 0, 0]'),\n",
       " Text(272.58053097345135, 158.55, 'X[8628] <= 123.0\\ngini = 0.57\\nsamples = 13\\nvalue = [5, 9, 2]'),\n",
       " Text(269.6176991150443, 149.49, 'X[14899] <= 137.0\\ngini = 0.298\\nsamples = 8\\nvalue = [0, 9, 2]'),\n",
       " Text(266.65486725663715, 140.43, 'gini = 0.0\\nsamples = 6\\nvalue = [0, 9, 0]'),\n",
       " Text(272.58053097345135, 140.43, 'gini = 0.0\\nsamples = 2\\nvalue = [0, 0, 2]'),\n",
       " Text(275.5433628318584, 149.49, 'gini = 0.0\\nsamples = 5\\nvalue = [5, 0, 0]'),\n",
       " Text(300.7274336283186, 185.73, 'X[4987] <= 216.5\\ngini = 0.332\\nsamples = 163\\nvalue = [40, 210, 12]'),\n",
       " Text(293.3203539823009, 176.67, 'X[7316] <= 7.0\\ngini = 0.149\\nsamples = 142\\nvalue = [9, 209, 9]'),\n",
       " Text(287.3946902654867, 167.60999999999999, 'X[3894] <= 208.0\\ngini = 0.079\\nsamples = 135\\nvalue = [8, 209, 1]'),\n",
       " Text(284.43185840707963, 158.55, 'X[16535] <= 224.0\\ngini = 0.028\\nsamples = 132\\nvalue = [2, 209, 1]'),\n",
       " Text(281.46902654867256, 149.49, 'X[33838] <= 9.5\\ngini = 0.009\\nsamples = 130\\nvalue = [0, 209, 1]'),\n",
       " Text(278.5061946902655, 140.43, 'gini = 0.0\\nsamples = 1\\nvalue = [0, 0, 1]'),\n",
       " Text(284.43185840707963, 140.43, 'gini = 0.0\\nsamples = 129\\nvalue = [0, 209, 0]'),\n",
       " Text(287.3946902654867, 149.49, 'gini = 0.0\\nsamples = 2\\nvalue = [2, 0, 0]'),\n",
       " Text(290.35752212389383, 158.55, 'gini = 0.0\\nsamples = 3\\nvalue = [6, 0, 0]'),\n",
       " Text(299.24601769911504, 167.60999999999999, 'X[48382] <= 127.0\\ngini = 0.198\\nsamples = 7\\nvalue = [1, 0, 8]'),\n",
       " Text(296.283185840708, 158.55, 'gini = 0.0\\nsamples = 6\\nvalue = [0, 0, 8]'),\n",
       " Text(302.2088495575221, 158.55, 'gini = 0.0\\nsamples = 1\\nvalue = [1, 0, 0]'),\n",
       " Text(308.13451327433626, 176.67, 'X[34367] <= 20.0\\ngini = 0.207\\nsamples = 21\\nvalue = [31, 1, 3]'),\n",
       " Text(305.1716814159292, 167.60999999999999, 'gini = 0.0\\nsamples = 2\\nvalue = [0, 0, 3]'),\n",
       " Text(311.0973451327434, 167.60999999999999, 'X[14808] <= 43.5\\ngini = 0.061\\nsamples = 19\\nvalue = [31, 1, 0]'),\n",
       " Text(308.13451327433626, 158.55, 'gini = 0.0\\nsamples = 1\\nvalue = [0, 1, 0]'),\n",
       " Text(314.06017699115046, 158.55, 'gini = 0.0\\nsamples = 18\\nvalue = [31, 0, 0]'),\n",
       " Text(328.8743362831858, 203.85, 'X[56121] <= 0.5\\ngini = 0.022\\nsamples = 593\\nvalue = [5, 5, 906]'),\n",
       " Text(325.91150442477874, 194.79, 'X[20005] <= 1.5\\ngini = 0.305\\nsamples = 32\\nvalue = [5, 5, 47]'),\n",
       " Text(322.94867256637167, 185.73, 'X[9659] <= 120.5\\ngini = 0.663\\nsamples = 8\\nvalue = [5, 5, 4]'),\n",
       " Text(319.9858407079646, 176.67, 'X[25584] <= 52.5\\ngini = 0.494\\nsamples = 6\\nvalue = [0, 5, 4]'),\n",
       " Text(317.0230088495575, 167.60999999999999, 'gini = 0.0\\nsamples = 3\\nvalue = [0, 0, 4]'),\n",
       " Text(322.94867256637167, 167.60999999999999, 'gini = 0.0\\nsamples = 3\\nvalue = [0, 5, 0]'),\n",
       " Text(325.91150442477874, 176.67, 'gini = 0.0\\nsamples = 2\\nvalue = [5, 0, 0]'),\n",
       " Text(328.8743362831858, 185.73, 'gini = 0.0\\nsamples = 24\\nvalue = [0, 0, 43]'),\n",
       " Text(331.83716814159294, 194.79, 'gini = 0.0\\nsamples = 561\\nvalue = [0, 0, 859]')]"
      ]
     },
     "execution_count": 8,
     "metadata": {},
     "output_type": "execute_result"
    },
    {
     "data": {
      "image/png": "[encoded data removed]",
      "text/plain": [
       "<Figure size 432x288 with 1 Axes>"
      ]
     },
     "metadata": {},
     "output_type": "display_data"
    }
   ],
   "source": [
    "tree.plot_tree(classifier[8])"
   ]
  },
  {
   "cell_type": "code",
   "execution_count": 9,
   "metadata": {},
   "outputs": [
    {
     "name": "stdout",
     "output_type": "stream",
     "text": [
      "Accuracy: 0.947 (0.012)\n",
      "              precision    recall  f1-score   support\n",
      "\n",
      "       amaro       0.95      0.94      0.94       272\n",
      "        lofi       0.94      0.92      0.93       246\n",
      "      origin       0.97      1.00      0.99       250\n",
      "\n",
      "    accuracy                           0.95       768\n",
      "   macro avg       0.95      0.95      0.95       768\n",
      "weighted avg       0.95      0.95      0.95       768\n",
      "\n"
     ]
    }
   ],
   "source": [
    "cv = RepeatedStratifiedKFold(n_splits=10, n_repeats=3, random_state=1)\n",
    "n_scores = cross_val_score(classifier, X_full, y_full, scoring='accuracy', cv=cv, n_jobs=-1, error_score='raise')\n",
    "print('Accuracy: %.3f (%.3f)' % (mean(n_scores), std(n_scores)))\n",
    "y_pred = classifier.predict(X_test)\n",
    "\n",
    "from sklearn import metrics\n",
    "print(metrics.classification_report(y_pred, y_test))"
   ]
  },
  {
   "cell_type": "code",
   "execution_count": 10,
   "metadata": {},
   "outputs": [
    {
     "data": {
      "image/png": "[encoded data removed]",
      "text/plain": [
       "<Figure size 432x288 with 2 Axes>"
      ]
     },
     "metadata": {},
     "output_type": "display_data"
    }
   ],
   "source": [
    "from sklearn.metrics import confusion_matrix\n",
    "mat = confusion_matrix(y_test, y_pred)\n",
    "sns.heatmap(mat.T, square=True, annot=True, fmt='d',cmap=\"YlGnBu\", linewidths=.5, cbar_kws={'orientation': 'vertical'})\n",
    "plt.xlabel('true label')\n",
    "plt.ylabel('predicted label');"
   ]
  }
 ],
 "metadata": {
  "kernelspec": {
   "display_name": "Python 3",
   "language": "python",
   "name": "python3"
  },
  "language_info": {
   "codemirror_mode": {
    "name": "ipython",
    "version": 3
   },
   "file_extension": ".py",
   "mimetype": "text/x-python",
   "name": "python",
   "nbconvert_exporter": "python",
   "pygments_lexer": "ipython3",
   "version": "3.7.6"
  }
 },
 "nbformat": 4,
 "nbformat_minor": 4
}
