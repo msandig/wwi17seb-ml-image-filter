{
 "cells": [
  {
   "cell_type": "code",
   "execution_count": 1,
   "metadata": {},
   "outputs": [],
   "source": [
    "from sklearn import tree\n",
    "import cv2 \n",
    "import os\n",
    "import glob\n",
    "import numpy as np\n",
    "from numpy import mean\n",
    "from numpy import std\n",
    "import seaborn as sns; sns.set()\n",
    "import matplotlib.pyplot as plt\n",
    "from sklearn.ensemble import RandomForestClassifier\n",
    "from sklearn.model_selection import train_test_split\n",
    "from sklearn.model_selection import cross_val_score\n",
    "from sklearn.model_selection import RepeatedStratifiedKFold"
   ]
  },
  {
   "cell_type": "code",
   "execution_count": 2,
   "metadata": {},
   "outputs": [],
   "source": [
    "img_dir_amaro = \"FACD_image/FACD_image/Amaro\"\n",
    "img_dir_origin = \"FACD_image/FACD_image/Origin\"\n",
    "img_dir_lofi = \"FACD_image/FACD_image/Lofi\"\n",
    "shape = (244,244)\n",
    "random_state = 42\n",
    "\n",
    "\n",
    "data_path_amaro = os.path.join(img_dir_amaro,'*g')\n",
    "data_path_origin = os.path.join(img_dir_origin,'*g')\n",
    "data_path_lofi = os.path.join(img_dir_lofi,'*g')\n",
    "\n",
    "files_amaro = glob.glob(data_path_amaro)\n",
    "files_origin = glob.glob(data_path_origin)\n",
    "files_lofi = glob.glob(data_path_lofi)\n",
    "\n",
    "data_origin = []\n",
    "data_amaro = []\n",
    "data_lofi = []\n",
    "test_image = \"4656565465\"\n",
    "#test_image= \"601122\" #ignore this picture during fit phase\n",
    "\n",
    "for f1 in files_origin:\n",
    "    if test_image in f1:\n",
    "        continue\n",
    "    origin = cv2.imread(f1, cv2.IMREAD_GRAYSCALE)\n",
    "    origin = cv2.resize(origin, shape)\n",
    "    data_origin.append(origin.flatten()) \n",
    "    \n",
    "    \n",
    "for f1 in files_amaro:  \n",
    "    if test_image in f1:\n",
    "        continue\n",
    "    amaro = cv2.imread(f1, cv2.IMREAD_GRAYSCALE)\n",
    "    amaro = cv2.resize(amaro, shape)\n",
    "    data_amaro.append(amaro.flatten())\n",
    "\n",
    "for f1 in files_lofi:\n",
    "    if test_image in f1:\n",
    "        continue\n",
    "    lofi = cv2.imread(f1, cv2.IMREAD_GRAYSCALE)\n",
    "    lofi = cv2.resize(lofi, shape)\n",
    "    data_lofi.append(lofi.flatten()) "
   ]
  },
  {
   "cell_type": "code",
   "execution_count": 3,
   "metadata": {},
   "outputs": [
    {
     "name": "stdout",
     "output_type": "stream",
     "text": [
      "(3840, 59536)\n",
      "Accuracy: 0.947 (0.012)\n",
      "              precision    recall  f1-score   support\n",
      "\n",
      "       amaro       0.95      0.94      0.94       272\n",
      "        lofi       0.94      0.92      0.93       246\n",
      "      origin       0.97      1.00      0.99       250\n",
      "\n",
      "    accuracy                           0.95       768\n",
      "   macro avg       0.95      0.95      0.95       768\n",
      "weighted avg       0.95      0.95      0.95       768\n",
      "\n"
     ]
    },
    {
     "data": {
      "image/png": "[encoded data removed]",
      "text/plain": [
       "<Figure size 432x288 with 1 Axes>"
      ]
     },
     "metadata": {},
     "output_type": "display_data"
    }
   ],
   "source": [
    "data_origin = np.array(data_origin) \n",
    "data_amaro = np.array(data_amaro) \n",
    "data_lofi = np.array(data_lofi) \n",
    "\n",
    "X_full = np.concatenate((data_amaro, data_origin, data_lofi))\n",
    "y_full = [\"amaro\" for i in range(data_amaro.shape[0])] \n",
    "y_full += [\"origin\" for i in range(data_origin.shape[0])] \n",
    "y_full += [\"lofi\" for i in range(data_lofi.shape[0])]\n",
    "\n",
    "X_train, X_test, y_train, y_test = train_test_split(X_full, y_full, test_size=0.2, random_state=42)\n",
    "\n",
    "classifier = RandomForestClassifier(n_estimators=20, random_state=42)\n",
    "classifier.fit(X_train, y_train)\n",
    "\n",
    "\n",
    "cv = RepeatedStratifiedKFold(n_splits=10, n_repeats=3, random_state=1)\n",
    "n_scores = cross_val_score(classifier, X_full, y_full, scoring='accuracy', cv=cv, n_jobs=-1, error_score='raise')\n",
    "print('Accuracy: %.3f (%.3f)' % (mean(n_scores), std(n_scores)))\n",
    "y_pred = classifier.predict(X_test)\n",
    "\n",
    "\n",
    "from sklearn import metrics\n",
    "print(metrics.classification_report(y_pred, y_test))\n",
    "\n",
    "from sklearn.metrics import confusion_matrix\n",
    "mat = confusion_matrix(y_test, y_pred)\n",
    "sns.heatmap(mat.T, square=True, annot=True, fmt='d', cbar=False)\n",
    "plt.xlabel('true label')\n",
    "plt.ylabel('predicted label');"
   ]
  },
  {
   "cell_type": "code",
   "execution_count": null,
   "metadata": {},
   "outputs": [],
   "source": []
  }
 ],
 "metadata": {
  "kernelspec": {
   "display_name": "Python 3",
   "language": "python",
   "name": "python3"
  },
  "language_info": {
   "codemirror_mode": {
    "name": "ipython",
    "version": 3
   },
   "file_extension": ".py",
   "mimetype": "text/x-python",
   "name": "python",
   "nbconvert_exporter": "python",
   "pygments_lexer": "ipython3",
   "version": "3.7.6"
  }
 },
 "nbformat": 4,
 "nbformat_minor": 4
}
