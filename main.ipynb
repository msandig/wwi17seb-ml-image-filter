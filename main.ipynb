{
 "cells": [
  {
   "cell_type": "markdown",
   "metadata": {},
   "source": [
    "# Filterkategorisierung / Erkennen von Filtern mit Machine Learning\n",
    "\n",
    "Ein Projekt von:\n",
    "\n",
    "**Erik Jansky,**\n",
    "**Dennis Köhler** und \n",
    "**Martin Sandig**"
   ]
  },
  {
   "cell_type": "markdown",
   "metadata": {},
   "source": [
    "## Idee"
   ]
  },
  {
   "cell_type": "markdown",
   "metadata": {},
   "source": [
    "Die Idee dieses Projekts ist, eine Filtererkennung mit Hilfe von Convolutional Neural Networks (CNNs) zu ermöglichen. \n",
    "Hierzu wird das [Filter Aesthetic Comparison Dataset (FACD)](https://wtwilsonsun.github.io/FACD/) von Wei-Tse Sun, Ting-Hsuan Chao, Yin-Hsi Kuo, Winston Hsu verwendet.  "
   ]
  },
  {
   "cell_type": "markdown",
   "metadata": {},
   "source": [
    "## Aufbau"
   ]
  },
  {
   "cell_type": "markdown",
   "metadata": {},
   "source": [
    "Das Projekt selbst ist in mehrere Jupiter-Notebooks aufgeteilt. In diesen werden verschiedene CNNs aufgebaut, trainiert und die resultierenden Modelle als seperate Dateien gespeichert. Im Anschluss werden die Modelle in dieser Hauptdatei wieder eingebunden und die Ergebnisse miteinander verglichen.\n",
    "\n",
    "Im Anschluss sollen die Modelle auf ihre genauigkeit geprüft werden, indem eigene Bilder zur Validierung verwendet werden."
   ]
  },
  {
   "cell_type": "markdown",
   "metadata": {},
   "source": [
    "## Import Packages"
   ]
  },
  {
   "cell_type": "code",
   "execution_count": 3,
   "metadata": {},
   "outputs": [],
   "source": [
    "# Import Helpers and Plots\n",
    "import numpy as np\n",
    "import matplotlib.pyplot as plt\n",
    "\n",
    "# Import Tensorflow and Keras\n",
    "import tensorflow as tf\n",
    "from tensorflow import keras"
   ]
  },
  {
   "cell_type": "code",
   "execution_count": null,
   "metadata": {},
   "outputs": [],
   "source": []
  }
 ],
 "metadata": {
  "kernelspec": {
   "display_name": "Python 3",
   "language": "python",
   "name": "python3"
  },
  "language_info": {
   "codemirror_mode": {
    "name": "ipython",
    "version": 3
   },
   "file_extension": ".py",
   "mimetype": "text/x-python",
   "name": "python",
   "nbconvert_exporter": "python",
   "pygments_lexer": "ipython3",
   "version": "3.7.7"
  }
 },
 "nbformat": 4,
 "nbformat_minor": 4
}
