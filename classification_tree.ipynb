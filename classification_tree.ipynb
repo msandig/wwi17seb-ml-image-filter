{
 "cells": [
  {
   "cell_type": "markdown",
   "metadata": {},
   "source": [
    "# Versuch einen Decisiontree für Klassifizierung von Bildern zu verwenden\n",
    "## Imports\n",
    "\n",
    "Bitte installieren Sie zuvor Python-Opencv (am besten mit PI"
   ]
  },
  {
   "cell_type": "code",
   "execution_count": 1,
   "metadata": {
    "pycharm": {
     "is_executing": false
    }
   },
   "outputs": [],
   "source": [
    "from sklearn import tree\n",
    "import cv2 \n",
    "import os\n",
    "import glob\n",
    "import numpy as np"
   ]
  },
  {
   "cell_type": "markdown",
   "metadata": {},
   "source": [
    "## Test mit zwei Klassen\n",
    "### Laden und Formatieren der Bilder\n",
    "Zum Trainieren des DecisionTrees wird ein Auszu des gesamten FACD-Datensatzes verwendet. \n",
    "Hierzu werden 32 Originalbilder und die dazugehörigen Bilder des Filters \"Amaro\" verwendet.\n",
    "Zum Trainieren werden alle Bilder auf ein Format von 244 x 244 gebracht und anschließend in einen 1D-Vector gebracht."
   ]
  },
  {
   "cell_type": "code",
   "execution_count": 2,
   "metadata": {},
   "outputs": [],
   "source": [
    "img_dir_amaro = \"filter_decision_tree/amaro\"\n",
    "img_dir_origin = \"filter_decision_tree/original\"\n",
    "data_path_amaro = os.path.join(img_dir_amaro,'*g')\n",
    "data_path_origin = os.path.join(img_dir_origin,'*g')\n",
    "files_amaro = glob.glob(data_path_amaro)\n",
    "files_origin = glob.glob(data_path_origin)\n",
    "data_origin = []\n",
    "data_amaro = []\n",
    "\n",
    "for f1 in files_origin:\n",
    "    origin = cv2.imread(f1, cv2.IMREAD_GRAYSCALE)\n",
    "    origin = cv2.resize(origin, (244,244))\n",
    "    data_origin.append(origin.flatten()) \n",
    "    \n",
    "    \n",
    "for f1 in files_amaro:   \n",
    "    amaro = cv2.imread(f1, cv2.IMREAD_GRAYSCALE)\n",
    "    amaro = cv2.resize(amaro, (244,244))\n",
    "    data_amaro.append(amaro.flatten())\n",
    "    \n"
   ]
  },
  {
   "cell_type": "markdown",
   "metadata": {},
   "source": [
    "### Erstellen des DecisionTrees"
   ]
  },
  {
   "cell_type": "code",
   "execution_count": 3,
   "metadata": {
    "pycharm": {
     "is_executing": false
    },
    "scrolled": true
   },
   "outputs": [
    {
     "name": "stdout",
     "output_type": "stream",
     "text": [
      "(64, 59536)\n"
     ]
    },
    {
     "data": {
      "text/plain": [
       "DecisionTreeClassifier(ccp_alpha=0.0, class_weight=None, criterion='gini',\n",
       "                       max_depth=None, max_features=None, max_leaf_nodes=None,\n",
       "                       min_impurity_decrease=0.0, min_impurity_split=None,\n",
       "                       min_samples_leaf=1, min_samples_split=2,\n",
       "                       min_weight_fraction_leaf=0.0, presort='deprecated',\n",
       "                       random_state=None, splitter='best')"
      ]
     },
     "execution_count": 3,
     "metadata": {},
     "output_type": "execute_result"
    }
   ],
   "source": [
    "data_origin = np.array(data_origin) \n",
    "data_amaro = np.array(data_amaro) \n",
    "\n",
    "X = np.concatenate((data_amaro, data_origin))\n",
    "print(X.shape)\n",
    "y = [\"amaro\" for i in range(32)] +[\"origin\" for i in range(32)]\n",
    "\n",
    "clf = tree.DecisionTreeClassifier()\n",
    "clf.fit(X, y) "
   ]
  },
  {
   "cell_type": "markdown",
   "metadata": {},
   "source": [
    "### Anzeige des Trees"
   ]
  },
  {
   "cell_type": "code",
   "execution_count": 4,
   "metadata": {},
   "outputs": [
    {
     "data": {
      "text/plain": [
       "[Text(167.4, 163.07999999999998, 'X[48557] <= 1.0\\ngini = 0.5\\nsamples = 64\\nvalue = [32, 32]'),\n",
       " Text(83.7, 54.360000000000014, 'gini = 0.0\\nsamples = 32\\nvalue = [32, 0]'),\n",
       " Text(251.10000000000002, 54.360000000000014, 'gini = 0.0\\nsamples = 32\\nvalue = [0, 32]')]"
      ]
     },
     "execution_count": 4,
     "metadata": {},
     "output_type": "execute_result"
    },
    {
     "data": {
      "image/png": "[encoded data removed]",
      "text/plain": [
       "<Figure size 432x288 with 1 Axes>"
      ]
     },
     "metadata": {
      "needs_background": "light"
     },
     "output_type": "display_data"
    }
   ],
   "source": [
    "tree.plot_tree(clf)"
   ]
  },
  {
   "cell_type": "markdown",
   "metadata": {},
   "source": [
    "### Laden von Testbildern\n",
    "Zum Testen wird ein original Bild und das passende gefilterte Bild verwendet, welches nicht zu den Trainingsdaten gehört."
   ]
  },
  {
   "cell_type": "code",
   "execution_count": 5,
   "metadata": {},
   "outputs": [
    {
     "name": "stdout",
     "output_type": "stream",
     "text": [
      "Prediction for amaro picture: ['amaro']\n",
      "Prediction for origin picture: ['origin']\n"
     ]
    }
   ],
   "source": [
    "amaro = cv2.imread(\"filter_decision_tree/test_data/amaro.jpg\", cv2.IMREAD_GRAYSCALE)\n",
    "amaro = cv2.resize(amaro, (244,244))\n",
    "amaro = amaro.flatten()\n",
    "\n",
    "original = cv2.imread(\"filter_decision_tree/test_data/original.jpg\", cv2.IMREAD_GRAYSCALE)\n",
    "original = cv2.resize(original, (244,244))\n",
    "original = original.flatten()\n",
    "\n",
    "print(\"Prediction for amaro picture:\", clf.predict([amaro]))\n",
    "print(\"Prediction for origin picture:\", clf.predict([original]))"
   ]
  },
  {
   "cell_type": "markdown",
   "metadata": {},
   "source": [
    "Das Ergebnis für dieser Erkennung sieht zunächst gut aus. \n",
    "Die zwei Testbilder werden der richtigen Klasse zugeordnet. \n",
    "Nun soll es mit drei Klassen probiert werden, da die \"gefilterten\"-Bilder immer einen schwarzen Rand besitzen und hierdurch eine Zuordnung erfolgen könnte."
   ]
  },
  {
   "cell_type": "markdown",
   "metadata": {},
   "source": [
    "## Test mit einer dritten Klasse\n",
    "### Hinzufügen einer dritten Klasse"
   ]
  },
  {
   "cell_type": "code",
   "execution_count": 6,
   "metadata": {},
   "outputs": [],
   "source": [
    "img_dir_lofi = \"filter_decision_tree/lofi\"\n",
    "data_path_lofi = os.path.join(img_dir_lofi,'*g')\n",
    "files_lofi = glob.glob(data_path_lofi)\n",
    "data_lofi = []\n",
    "\n",
    "for f1 in files_lofi:\n",
    "    lofi = cv2.imread(f1, cv2.IMREAD_GRAYSCALE)\n",
    "    lofi = cv2.resize(lofi, (244,244))\n",
    "    data_lofi.append(lofi.flatten()) "
   ]
  },
  {
   "cell_type": "markdown",
   "metadata": {},
   "source": [
    "### Erstellen des DecisionTrees"
   ]
  },
  {
   "cell_type": "code",
   "execution_count": 7,
   "metadata": {},
   "outputs": [
    {
     "data": {
      "text/plain": [
       "[Text(186.0, 195.696, 'X[58816] <= 0.5\\ngini = 0.667\\nsamples = 96\\nvalue = [32, 32, 32]'),\n",
       " Text(148.8, 152.208, 'X[44117] <= 88.0\\ngini = 0.5\\nsamples = 64\\nvalue = [32, 32, 0]'),\n",
       " Text(74.4, 108.72, 'X[20790] <= 125.0\\ngini = 0.285\\nsamples = 29\\nvalue = [5, 24, 0]'),\n",
       " Text(37.2, 65.232, 'gini = 0.0\\nsamples = 23\\nvalue = [0, 23, 0]'),\n",
       " Text(111.60000000000001, 65.232, 'X[39608] <= 217.0\\ngini = 0.278\\nsamples = 6\\nvalue = [5, 1, 0]'),\n",
       " Text(74.4, 21.744, 'gini = 0.0\\nsamples = 5\\nvalue = [5, 0, 0]'),\n",
       " Text(148.8, 21.744, 'gini = 0.0\\nsamples = 1\\nvalue = [0, 1, 0]'),\n",
       " Text(223.20000000000002, 108.72, 'X[15149] <= 13.5\\ngini = 0.353\\nsamples = 35\\nvalue = [27, 8, 0]'),\n",
       " Text(186.0, 65.232, 'gini = 0.0\\nsamples = 5\\nvalue = [0, 5, 0]'),\n",
       " Text(260.40000000000003, 65.232, 'X[45636] <= 120.0\\ngini = 0.18\\nsamples = 30\\nvalue = [27, 3, 0]'),\n",
       " Text(223.20000000000002, 21.744, 'gini = 0.0\\nsamples = 27\\nvalue = [27, 0, 0]'),\n",
       " Text(297.6, 21.744, 'gini = 0.0\\nsamples = 3\\nvalue = [0, 3, 0]'),\n",
       " Text(223.20000000000002, 152.208, 'gini = 0.0\\nsamples = 32\\nvalue = [0, 0, 32]')]"
      ]
     },
     "execution_count": 7,
     "metadata": {},
     "output_type": "execute_result"
    },
    {
     "data": {
      "image/png": "[encoded data removed]",
      "text/plain": [
       "<Figure size 432x288 with 1 Axes>"
      ]
     },
     "metadata": {
      "needs_background": "light"
     },
     "output_type": "display_data"
    }
   ],
   "source": [
    "data_lofi = np.array(data_lofi)\n",
    "\n",
    "X_new = np.concatenate((data_amaro, data_origin, data_lofi))\n",
    "y_new = [\"amaro\" for i in range(32)] + [\"origin\" for i in range(32)] + [\"lofi\" for i in range(32)]\n",
    "\n",
    "clf_new = tree.DecisionTreeClassifier()\n",
    "clf_new.fit(X_new, y_new) \n",
    "tree.plot_tree(clf_new)"
   ]
  },
  {
   "cell_type": "markdown",
   "metadata": {},
   "source": [
    "### Prediction des neuen Trees"
   ]
  },
  {
   "cell_type": "code",
   "execution_count": 8,
   "metadata": {},
   "outputs": [
    {
     "name": "stdout",
     "output_type": "stream",
     "text": [
      "Prediction for amaro picture: ['amaro']\n",
      "Prediction for origin picture: ['origin']\n",
      "Prediction for lofi picture: ['amaro']\n"
     ]
    }
   ],
   "source": [
    "lofi = cv2.imread(\"filter_decision_tree/test_data/lofi.jpg\", cv2.IMREAD_GRAYSCALE)\n",
    "lofi = cv2.resize(lofi, (244,244))\n",
    "lofi = lofi.flatten()\n",
    "\n",
    "print(\"Prediction for amaro picture:\", clf_new.predict([amaro]))\n",
    "print(\"Prediction for origin picture:\", clf_new.predict([original]))\n",
    "print(\"Prediction for lofi picture:\", clf_new.predict([lofi]))"
   ]
  },
  {
   "cell_type": "markdown",
   "metadata": {},
   "source": [
    "Wie zu sehen ist, klappt die Klassifikation in diesem Fall nicht mehr. :(\n",
    "\n",
    "Als nächstes probieren wir es mit mehr Testdaten aus."
   ]
  },
  {
   "cell_type": "markdown",
   "metadata": {},
   "source": [
    "## Test mit allen FACD-Daten"
   ]
  },
  {
   "cell_type": "code",
   "execution_count": 19,
   "metadata": {},
   "outputs": [],
   "source": [
    "img_dir_amaro = \"FACD_image/Amaro\"\n",
    "img_dir_origin = \"FACD_image/Original\"\n",
    "img_dir_origin = \"FACD_image/Lofi\"\n",
    "\n",
    "data_path_amaro = os.path.join(img_dir_amaro,'*g')\n",
    "data_path_origin = os.path.join(img_dir_origin,'*g')\n",
    "data_path_lofi = os.path.join(img_dir_lofi,'*g')\n",
    "\n",
    "files_amaro = glob.glob(data_path_amaro)\n",
    "files_origin = glob.glob(data_path_origin)\n",
    "files_lofi = glob.glob(data_path_lofi)\n",
    "\n",
    "data_origin = []\n",
    "data_amaro = []\n",
    "data_lofi = []\n",
    "\n",
    "test_image= \"601122\" #ignore this picture during fit phase\n",
    "\n",
    "for f1 in files_origin:\n",
    "    if test_image in f1:\n",
    "        continue\n",
    "    origin = cv2.imread(f1, cv2.IMREAD_GRAYSCALE)\n",
    "    origin = cv2.resize(origin, (244,244))\n",
    "    data_origin.append(origin.flatten()) \n",
    "    \n",
    "    \n",
    "for f1 in files_amaro:  \n",
    "    if test_image in f1:\n",
    "        continue\n",
    "    amaro = cv2.imread(f1, cv2.IMREAD_GRAYSCALE)\n",
    "    amaro = cv2.resize(amaro, (244,244))\n",
    "    data_amaro.append(amaro.flatten())\n",
    "\n",
    "for f1 in files_lofi:\n",
    "    if test_image in f1:\n",
    "        continue\n",
    "    lofi = cv2.imread(f1, cv2.IMREAD_GRAYSCALE)\n",
    "    lofi = cv2.resize(lofi, (244,244))\n",
    "    data_lofi.append(lofi.flatten()) "
   ]
  },
  {
   "cell_type": "code",
   "execution_count": 10,
   "metadata": {},
   "outputs": [
    {
     "name": "stdout",
     "output_type": "stream",
     "text": [
      "(2590, 59536)\n"
     ]
    },
    {
     "data": {
      "text/plain": [
       "[Text(137.83431147275087, 212.26285714285714, 'X[56974] <= 10.5\\ngini = 0.512\\nsamples = 2590\\nvalue = [1279, 32, 1279]'),\n",
       " Text(15.446366782006923, 201.90857142857143, 'X[35180] <= 223.0\\ngini = 0.113\\nsamples = 354\\nvalue = [16, 5, 333]'),\n",
       " Text(12.357093425605537, 191.5542857142857, 'X[2517] <= 0.5\\ngini = 0.083\\nsamples = 348\\nvalue = [10, 5, 333]'),\n",
       " Text(6.178546712802769, 181.2, 'X[40523] <= 11.0\\ngini = 0.32\\nsamples = 5\\nvalue = [4, 0, 1]'),\n",
       " Text(3.0892733564013843, 170.84571428571428, 'gini = 0.0\\nsamples = 1\\nvalue = [0, 0, 1]'),\n",
       " Text(9.267820069204152, 170.84571428571428, 'gini = 0.0\\nsamples = 4\\nvalue = [4, 0, 0]'),\n",
       " Text(18.535640138408304, 181.2, 'X[39209] <= 11.5\\ngini = 0.063\\nsamples = 343\\nvalue = [6, 5, 332]'),\n",
       " Text(15.446366782006923, 170.84571428571428, 'gini = 0.0\\nsamples = 3\\nvalue = [3, 0, 0]'),\n",
       " Text(21.62491349480969, 170.84571428571428, 'X[15256] <= 224.5\\ngini = 0.046\\nsamples = 340\\nvalue = [3, 5, 332]'),\n",
       " Text(18.535640138408304, 160.49142857142857, 'X[57413] <= 199.0\\ngini = 0.029\\nsamples = 337\\nvalue = [0, 5, 332]'),\n",
       " Text(12.357093425605537, 150.13714285714286, 'X[19843] <= 223.0\\ngini = 0.018\\nsamples = 333\\nvalue = [0, 3, 330]'),\n",
       " Text(9.267820069204152, 139.78285714285715, 'X[36120] <= 3.0\\ngini = 0.012\\nsamples = 331\\nvalue = [0, 2, 329]'),\n",
       " Text(6.178546712802769, 129.42857142857144, 'gini = 0.5\\nsamples = 2\\nvalue = [0, 1, 1]'),\n",
       " Text(12.357093425605537, 129.42857142857144, 'X[45864] <= 192.5\\ngini = 0.006\\nsamples = 329\\nvalue = [0, 1, 328]'),\n",
       " Text(9.267820069204152, 119.07428571428571, 'gini = 0.0\\nsamples = 327\\nvalue = [0, 0, 327]'),\n",
       " Text(15.446366782006923, 119.07428571428571, 'gini = 0.5\\nsamples = 2\\nvalue = [0, 1, 1]'),\n",
       " Text(15.446366782006923, 139.78285714285715, 'gini = 0.5\\nsamples = 2\\nvalue = [0, 1, 1]'),\n",
       " Text(24.714186851211075, 150.13714285714286, 'X[51439] <= 60.0\\ngini = 0.5\\nsamples = 4\\nvalue = [0, 2, 2]'),\n",
       " Text(21.62491349480969, 139.78285714285715, 'gini = 0.5\\nsamples = 2\\nvalue = [0, 1, 1]'),\n",
       " Text(27.80346020761246, 139.78285714285715, 'gini = 0.5\\nsamples = 2\\nvalue = [0, 1, 1]'),\n",
       " Text(24.714186851211075, 160.49142857142857, 'gini = 0.0\\nsamples = 3\\nvalue = [3, 0, 0]'),\n",
       " Text(18.535640138408304, 191.5542857142857, 'gini = 0.0\\nsamples = 6\\nvalue = [6, 0, 0]'),\n",
       " Text(260.2222561634948, 201.90857142857143, 'X[3383] <= 103.5\\ngini = 0.502\\nsamples = 2236\\nvalue = [1263, 27, 946]'),\n",
       " Text(196.4569690743945, 191.5542857142857, 'X[4022] <= 129.5\\ngini = 0.473\\nsamples = 1924\\nvalue = [1215, 21, 688]'),\n",
       " Text(121.83020112456748, 181.2, 'X[30994] <= 9.5\\ngini = 0.514\\nsamples = 1299\\nvalue = [643, 19, 637]'),\n",
       " Text(46.339100346020764, 170.84571428571428, 'X[27037] <= 219.5\\ngini = 0.088\\nsamples = 132\\nvalue = [2, 4, 126]'),\n",
       " Text(43.24982698961938, 160.49142857142857, 'X[39037] <= 0.5\\ngini = 0.06\\nsamples = 130\\nvalue = [0, 4, 126]'),\n",
       " Text(37.07128027681661, 150.13714285714286, 'X[20870] <= 222.0\\ngini = 0.032\\nsamples = 124\\nvalue = [0, 2, 122]'),\n",
       " Text(33.98200692041523, 139.78285714285715, 'X[20320] <= 11.5\\ngini = 0.016\\nsamples = 122\\nvalue = [0, 1, 121]'),\n",
       " Text(30.892733564013845, 129.42857142857144, 'gini = 0.5\\nsamples = 2\\nvalue = [0, 1, 1]'),\n",
       " Text(37.07128027681661, 129.42857142857144, 'gini = 0.0\\nsamples = 120\\nvalue = [0, 0, 120]'),\n",
       " Text(40.160553633217994, 139.78285714285715, 'gini = 0.5\\nsamples = 2\\nvalue = [0, 1, 1]'),\n",
       " Text(49.42837370242215, 150.13714285714286, 'X[49426] <= 39.5\\ngini = 0.444\\nsamples = 6\\nvalue = [0, 2, 4]'),\n",
       " Text(46.339100346020764, 139.78285714285715, 'gini = 0.0\\nsamples = 2\\nvalue = [0, 0, 2]'),\n",
       " Text(52.517647058823535, 139.78285714285715, 'X[11526] <= 33.0\\ngini = 0.5\\nsamples = 4\\nvalue = [0, 2, 2]'),\n",
       " Text(49.42837370242215, 129.42857142857144, 'gini = 0.5\\nsamples = 2\\nvalue = [0, 1, 1]'),\n",
       " Text(55.60692041522492, 129.42857142857144, 'gini = 0.5\\nsamples = 2\\nvalue = [0, 1, 1]'),\n",
       " Text(49.42837370242215, 160.49142857142857, 'gini = 0.0\\nsamples = 2\\nvalue = [2, 0, 0]'),\n",
       " Text(197.3213019031142, 170.84571428571428, 'X[51985] <= 95.5\\ngini = 0.506\\nsamples = 1167\\nvalue = [641, 15, 511]'),\n",
       " Text(158.69935121107267, 160.49142857142857, 'X[36276] <= 139.0\\ngini = 0.488\\nsamples = 1050\\nvalue = [633, 12, 405]'),\n",
       " Text(109.25891003460208, 150.13714285714286, 'X[56405] <= 7.5\\ngini = 0.513\\nsamples = 730\\nvalue = [370, 10, 350]'),\n",
       " Text(67.96401384083046, 139.78285714285715, 'X[57110] <= 3.5\\ngini = 0.27\\nsamples = 113\\nvalue = [95, 1, 17]'),\n",
       " Text(61.78546712802769, 129.42857142857144, 'X[36077] <= 12.5\\ngini = 0.292\\nsamples = 12\\nvalue = [1, 1, 10]'),\n",
       " Text(58.696193771626305, 119.07428571428571, 'gini = 0.0\\nsamples = 1\\nvalue = [1, 0, 0]'),\n",
       " Text(64.87474048442907, 119.07428571428571, 'X[33436] <= 199.0\\ngini = 0.165\\nsamples = 11\\nvalue = [0, 1, 10]'),\n",
       " Text(61.78546712802769, 108.72, 'gini = 0.0\\nsamples = 9\\nvalue = [0, 0, 9]'),\n",
       " Text(67.96401384083046, 108.72, 'gini = 0.5\\nsamples = 2\\nvalue = [0, 1, 1]'),\n",
       " Text(74.14256055363322, 129.42857142857144, 'X[26848] <= 9.0\\ngini = 0.129\\nsamples = 101\\nvalue = [94, 0, 7]'),\n",
       " Text(71.05328719723184, 119.07428571428571, 'gini = 0.0\\nsamples = 6\\nvalue = [0, 0, 6]'),\n",
       " Text(77.23183391003461, 119.07428571428571, 'X[23932] <= 10.5\\ngini = 0.021\\nsamples = 95\\nvalue = [94, 0, 1]'),\n",
       " Text(74.14256055363322, 108.72, 'gini = 0.0\\nsamples = 1\\nvalue = [0, 0, 1]'),\n",
       " Text(80.32110726643599, 108.72, 'gini = 0.0\\nsamples = 94\\nvalue = [94, 0, 0]'),\n",
       " Text(150.5538062283737, 139.78285714285715, 'X[56974] <= 106.5\\ngini = 0.51\\nsamples = 617\\nvalue = [275, 9, 333]'),\n",
       " Text(130.8114186851211, 129.42857142857144, 'X[43209] <= 125.5\\ngini = 0.481\\nsamples = 488\\nvalue = [173, 9, 306]'),\n",
       " Text(109.86228373702423, 119.07428571428571, 'X[55169] <= 39.5\\ngini = 0.45\\nsamples = 434\\nvalue = [131, 9, 294]'),\n",
       " Text(86.49965397923876, 108.72, 'X[54250] <= 48.5\\ngini = 0.501\\nsamples = 299\\nvalue = [118, 6, 175]'),\n",
       " Text(64.4885813148789, 98.36571428571429, 'X[5337] <= 8.5\\ngini = 0.39\\nsamples = 186\\nvalue = [42, 5, 139]'),\n",
       " Text(49.814532871972325, 88.01142857142858, 'X[2800] <= 10.5\\ngini = 0.457\\nsamples = 28\\nvalue = [19, 1, 8]'),\n",
       " Text(43.635986159169555, 77.65714285714284, 'X[23915] <= 0.5\\ngini = 0.219\\nsamples = 8\\nvalue = [0, 1, 7]'),\n",
       " Text(40.54671280276817, 67.30285714285714, 'gini = 0.0\\nsamples = 6\\nvalue = [0, 0, 6]'),\n",
       " Text(46.72525951557094, 67.30285714285714, 'gini = 0.5\\nsamples = 2\\nvalue = [0, 1, 1]'),\n",
       " Text(55.99307958477509, 77.65714285714284, 'X[32927] <= 9.0\\ngini = 0.095\\nsamples = 20\\nvalue = [19, 0, 1]'),\n",
       " Text(52.9038062283737, 67.30285714285714, 'gini = 0.0\\nsamples = 1\\nvalue = [0, 0, 1]'),\n",
       " Text(59.082352941176474, 67.30285714285714, 'gini = 0.0\\nsamples = 19\\nvalue = [19, 0, 0]'),\n",
       " Text(79.16262975778547, 88.01142857142858, 'X[38897] <= 177.5\\ngini = 0.291\\nsamples = 158\\nvalue = [23, 4, 131]'),\n",
       " Text(71.43944636678201, 77.65714285714284, 'X[36256] <= 177.5\\ngini = 0.231\\nsamples = 147\\nvalue = [15, 4, 128]'),\n",
       " Text(65.26089965397924, 67.30285714285714, 'X[23964] <= 220.0\\ngini = 0.172\\nsamples = 140\\nvalue = [10, 3, 127]'),\n",
       " Text(62.17162629757786, 56.94857142857143, 'X[50826] <= 147.0\\ngini = 0.138\\nsamples = 137\\nvalue = [7, 3, 127]'),\n",
       " Text(54.4484429065744, 46.59428571428572, 'X[43836] <= 21.5\\ngini = 0.101\\nsamples = 133\\nvalue = [4, 3, 126]'),\n",
       " Text(48.26989619377163, 36.24000000000001, 'X[54459] <= 41.5\\ngini = 0.568\\nsamples = 9\\nvalue = [3, 1, 5]'),\n",
       " Text(45.180622837370244, 25.8857142857143, 'X[24573] <= 134.0\\ngini = 0.278\\nsamples = 6\\nvalue = [0, 1, 5]'),\n",
       " Text(42.09134948096886, 15.531428571428563, 'gini = 0.0\\nsamples = 4\\nvalue = [0, 0, 4]'),\n",
       " Text(48.26989619377163, 15.531428571428563, 'gini = 0.5\\nsamples = 2\\nvalue = [0, 1, 1]'),\n",
       " Text(51.359169550173014, 25.8857142857143, 'gini = 0.0\\nsamples = 3\\nvalue = [3, 0, 0]'),\n",
       " Text(60.62698961937717, 36.24000000000001, 'X[22378] <= 225.0\\ngini = 0.047\\nsamples = 124\\nvalue = [1, 2, 121]'),\n",
       " Text(57.537716262975785, 25.8857142857143, 'X[27734] <= 217.0\\ngini = 0.032\\nsamples = 123\\nvalue = [0, 2, 121]'),\n",
       " Text(54.4484429065744, 15.531428571428563, 'gini = 0.0\\nsamples = 119\\nvalue = [0, 0, 119]'),\n",
       " Text(60.62698961937717, 15.531428571428563, 'X[34113] <= 63.5\\ngini = 0.5\\nsamples = 4\\nvalue = [0, 2, 2]'),\n",
       " Text(57.537716262975785, 5.177142857142854, 'gini = 0.5\\nsamples = 2\\nvalue = [0, 1, 1]'),\n",
       " Text(63.716262975778555, 5.177142857142854, 'gini = 0.5\\nsamples = 2\\nvalue = [0, 1, 1]'),\n",
       " Text(63.716262975778555, 25.8857142857143, 'gini = 0.0\\nsamples = 1\\nvalue = [1, 0, 0]'),\n",
       " Text(69.89480968858132, 46.59428571428572, 'X[53713] <= 46.5\\ngini = 0.375\\nsamples = 4\\nvalue = [3, 0, 1]'),\n",
       " Text(66.80553633217994, 36.24000000000001, 'gini = 0.0\\nsamples = 3\\nvalue = [3, 0, 0]'),\n",
       " Text(72.98408304498271, 36.24000000000001, 'gini = 0.0\\nsamples = 1\\nvalue = [0, 0, 1]'),\n",
       " Text(68.35017301038063, 56.94857142857143, 'gini = 0.0\\nsamples = 3\\nvalue = [3, 0, 0]'),\n",
       " Text(77.61799307958478, 67.30285714285714, 'X[33514] <= 161.0\\ngini = 0.449\\nsamples = 7\\nvalue = [5, 1, 1]'),\n",
       " Text(74.5287197231834, 56.94857142857143, 'gini = 0.0\\nsamples = 5\\nvalue = [5, 0, 0]'),\n",
       " Text(80.70726643598617, 56.94857142857143, 'gini = 0.5\\nsamples = 2\\nvalue = [0, 1, 1]'),\n",
       " Text(86.88581314878894, 77.65714285714284, 'X[15153] <= 48.0\\ngini = 0.397\\nsamples = 11\\nvalue = [8, 0, 3]'),\n",
       " Text(83.79653979238755, 67.30285714285714, 'gini = 0.0\\nsamples = 8\\nvalue = [8, 0, 0]'),\n",
       " Text(89.97508650519032, 67.30285714285714, 'gini = 0.0\\nsamples = 3\\nvalue = [0, 0, 3]'),\n",
       " Text(108.51072664359863, 98.36571428571429, 'X[52919] <= 41.5\\ngini = 0.446\\nsamples = 113\\nvalue = [76, 1, 36]'),\n",
       " Text(102.33217993079586, 88.01142857142858, 'X[3463] <= 91.0\\ngini = 0.269\\nsamples = 81\\nvalue = [68, 0, 13]'),\n",
       " Text(99.24290657439447, 77.65714285714284, 'X[35141] <= 16.5\\ngini = 0.169\\nsamples = 75\\nvalue = [68, 0, 7]'),\n",
       " Text(96.15363321799309, 67.30285714285714, 'X[16405] <= 108.0\\ngini = 0.463\\nsamples = 11\\nvalue = [4, 0, 7]'),\n",
       " Text(93.0643598615917, 56.94857142857143, 'gini = 0.0\\nsamples = 7\\nvalue = [0, 0, 7]'),\n",
       " Text(99.24290657439447, 56.94857142857143, 'gini = 0.0\\nsamples = 4\\nvalue = [4, 0, 0]'),\n",
       " Text(102.33217993079586, 67.30285714285714, 'gini = 0.0\\nsamples = 64\\nvalue = [64, 0, 0]'),\n",
       " Text(105.42145328719724, 77.65714285714284, 'gini = 0.0\\nsamples = 6\\nvalue = [0, 0, 6]'),\n",
       " Text(114.68927335640139, 88.01142857142858, 'X[53991] <= 86.0\\ngini = 0.42\\nsamples = 32\\nvalue = [8, 1, 23]'),\n",
       " Text(111.60000000000001, 77.65714285714284, 'X[57709] <= 105.0\\ngini = 0.15\\nsamples = 25\\nvalue = [1, 1, 23]'),\n",
       " Text(108.51072664359863, 67.30285714285714, 'X[21221] <= 144.0\\ngini = 0.08\\nsamples = 24\\nvalue = [0, 1, 23]'),\n",
       " Text(105.42145328719724, 56.94857142857143, 'gini = 0.0\\nsamples = 22\\nvalue = [0, 0, 22]'),\n",
       " Text(111.60000000000001, 56.94857142857143, 'gini = 0.5\\nsamples = 2\\nvalue = [0, 1, 1]'),\n",
       " Text(114.68927335640139, 67.30285714285714, 'gini = 0.0\\nsamples = 1\\nvalue = [1, 0, 0]'),\n",
       " Text(117.77854671280278, 77.65714285714284, 'gini = 0.0\\nsamples = 7\\nvalue = [7, 0, 0]'),\n",
       " Text(133.2249134948097, 108.72, 'X[24922] <= 189.0\\ngini = 0.213\\nsamples = 135\\nvalue = [13, 3, 119]'),\n",
       " Text(130.13564013840832, 98.36571428571429, 'X[40939] <= 187.5\\ngini = 0.146\\nsamples = 129\\nvalue = [7, 3, 119]'),\n",
       " Text(127.04636678200693, 88.01142857142858, 'X[38368] <= 13.0\\ngini = 0.093\\nsamples = 125\\nvalue = [3, 3, 119]'),\n",
       " Text(123.95709342560555, 77.65714285714284, 'gini = 0.0\\nsamples = 2\\nvalue = [2, 0, 0]'),\n",
       " Text(130.13564013840832, 77.65714285714284, 'X[17500] <= 12.0\\ngini = 0.063\\nsamples = 123\\nvalue = [1, 3, 119]'),\n",
       " Text(127.04636678200693, 67.30285714285714, 'gini = 0.0\\nsamples = 1\\nvalue = [1, 0, 0]'),\n",
       " Text(133.2249134948097, 67.30285714285714, 'X[2135] <= 4.5\\ngini = 0.048\\nsamples = 122\\nvalue = [0, 3, 119]'),\n",
       " Text(127.04636678200693, 56.94857142857143, 'X[33861] <= 94.5\\ngini = 0.5\\nsamples = 4\\nvalue = [0, 2, 2]'),\n",
       " Text(123.95709342560555, 46.59428571428572, 'gini = 0.5\\nsamples = 2\\nvalue = [0, 1, 1]'),\n",
       " Text(130.13564013840832, 46.59428571428572, 'gini = 0.5\\nsamples = 2\\nvalue = [0, 1, 1]'),\n",
       " Text(139.40346020761245, 56.94857142857143, 'X[43060] <= 210.5\\ngini = 0.017\\nsamples = 118\\nvalue = [0, 1, 117]'),\n",
       " Text(136.31418685121108, 46.59428571428572, 'gini = 0.0\\nsamples = 116\\nvalue = [0, 0, 116]'),\n",
       " Text(142.49273356401386, 46.59428571428572, 'gini = 0.5\\nsamples = 2\\nvalue = [0, 1, 1]'),\n",
       " Text(133.2249134948097, 88.01142857142858, 'gini = 0.0\\nsamples = 4\\nvalue = [4, 0, 0]'),\n",
       " Text(136.31418685121108, 98.36571428571429, 'gini = 0.0\\nsamples = 6\\nvalue = [6, 0, 0]'),\n",
       " Text(151.760553633218, 119.07428571428571, 'X[47343] <= 106.5\\ngini = 0.346\\nsamples = 54\\nvalue = [42, 0, 12]'),\n",
       " Text(145.58200692041524, 108.72, 'X[49675] <= 23.0\\ngini = 0.162\\nsamples = 45\\nvalue = [41, 0, 4]'),\n",
       " Text(142.49273356401386, 98.36571428571429, 'X[8249] <= 26.5\\ngini = 0.444\\nsamples = 6\\nvalue = [2, 0, 4]'),\n",
       " Text(139.40346020761245, 88.01142857142858, 'gini = 0.0\\nsamples = 2\\nvalue = [2, 0, 0]'),\n",
       " Text(145.58200692041524, 88.01142857142858, 'gini = 0.0\\nsamples = 4\\nvalue = [0, 0, 4]'),\n",
       " Text(148.67128027681662, 98.36571428571429, 'gini = 0.0\\nsamples = 39\\nvalue = [39, 0, 0]'),\n",
       " Text(157.93910034602078, 108.72, 'X[27197] <= 184.5\\ngini = 0.198\\nsamples = 9\\nvalue = [1, 0, 8]'),\n",
       " Text(154.8498269896194, 98.36571428571429, 'gini = 0.0\\nsamples = 8\\nvalue = [0, 0, 8]'),\n",
       " Text(161.02837370242216, 98.36571428571429, 'gini = 0.0\\nsamples = 1\\nvalue = [1, 0, 0]'),\n",
       " Text(170.29619377162632, 129.42857142857144, 'X[30982] <= 9.5\\ngini = 0.331\\nsamples = 129\\nvalue = [102, 0, 27]'),\n",
       " Text(167.20692041522491, 119.07428571428571, 'gini = 0.0\\nsamples = 9\\nvalue = [0, 0, 9]'),\n",
       " Text(173.3854671280277, 119.07428571428571, 'X[7785] <= 92.5\\ngini = 0.255\\nsamples = 120\\nvalue = [102, 0, 18]'),\n",
       " Text(170.29619377162632, 108.72, 'X[57656] <= 184.0\\ngini = 0.176\\nsamples = 113\\nvalue = [102, 0, 11]'),\n",
       " Text(167.20692041522491, 98.36571428571429, 'X[56231] <= 30.0\\ngini = 0.089\\nsamples = 107\\nvalue = [102, 0, 5]'),\n",
       " Text(164.11764705882354, 88.01142857142858, 'gini = 0.0\\nsamples = 3\\nvalue = [0, 0, 3]'),\n",
       " Text(170.29619377162632, 88.01142857142858, 'X[45259] <= 21.0\\ngini = 0.038\\nsamples = 104\\nvalue = [102, 0, 2]'),\n",
       " Text(167.20692041522491, 77.65714285714284, 'gini = 0.0\\nsamples = 2\\nvalue = [0, 0, 2]'),\n",
       " Text(173.3854671280277, 77.65714285714284, 'gini = 0.0\\nsamples = 102\\nvalue = [102, 0, 0]'),\n",
       " Text(173.3854671280277, 98.36571428571429, 'gini = 0.0\\nsamples = 6\\nvalue = [0, 0, 6]'),\n",
       " Text(176.47474048442908, 108.72, 'gini = 0.0\\nsamples = 7\\nvalue = [0, 0, 7]'),\n",
       " Text(208.13979238754328, 150.13714285714286, 'X[10237] <= 105.5\\ngini = 0.295\\nsamples = 320\\nvalue = [263, 2, 55]'),\n",
       " Text(201.9612456747405, 139.78285714285715, 'X[49755] <= 136.5\\ngini = 0.248\\nsamples = 306\\nvalue = [262, 2, 42]'),\n",
       " Text(198.87197231833912, 129.42857142857144, 'X[53124] <= 9.5\\ngini = 0.209\\nsamples = 297\\nvalue = [262, 2, 33]'),\n",
       " Text(195.78269896193774, 119.07428571428571, 'gini = 0.0\\nsamples = 7\\nvalue = [0, 0, 7]'),\n",
       " Text(201.9612456747405, 119.07428571428571, 'X[55109] <= 100.5\\ngini = 0.176\\nsamples = 290\\nvalue = [262, 2, 26]'),\n",
       " Text(193.4657439446367, 108.72, 'X[41019] <= 10.5\\ngini = 0.149\\nsamples = 285\\nvalue = [262, 1, 22]'),\n",
       " Text(185.74256055363324, 98.36571428571429, 'X[11559] <= 192.0\\ngini = 0.5\\nsamples = 6\\nvalue = [1, 1, 4]'),\n",
       " Text(182.65328719723186, 88.01142857142858, 'X[19565] <= 32.5\\ngini = 0.32\\nsamples = 5\\nvalue = [0, 1, 4]'),\n",
       " Text(179.56401384083046, 77.65714285714284, 'gini = 0.5\\nsamples = 2\\nvalue = [0, 1, 1]'),\n",
       " Text(185.74256055363324, 77.65714285714284, 'gini = 0.0\\nsamples = 3\\nvalue = [0, 0, 3]'),\n",
       " Text(188.83183391003462, 88.01142857142858, 'gini = 0.0\\nsamples = 1\\nvalue = [1, 0, 0]'),\n",
       " Text(201.18892733564016, 98.36571428571429, 'X[2694] <= 3.5\\ngini = 0.121\\nsamples = 279\\nvalue = [261, 0, 18]'),\n",
       " Text(195.01038062283737, 88.01142857142858, 'X[23724] <= 180.5\\ngini = 0.32\\nsamples = 5\\nvalue = [1, 0, 4]'),\n",
       " Text(191.921107266436, 77.65714285714284, 'gini = 0.0\\nsamples = 4\\nvalue = [0, 0, 4]'),\n",
       " Text(198.09965397923878, 77.65714285714284, 'gini = 0.0\\nsamples = 1\\nvalue = [1, 0, 0]'),\n",
       " Text(207.36747404844292, 88.01142857142858, 'X[44661] <= 136.0\\ngini = 0.097\\nsamples = 274\\nvalue = [260, 0, 14]'),\n",
       " Text(204.27820069204154, 77.65714285714284, 'X[1942] <= 101.5\\ngini = 0.078\\nsamples = 271\\nvalue = [260, 0, 11]'),\n",
       " Text(201.18892733564016, 67.30285714285714, 'X[5954] <= 10.5\\ngini = 0.065\\nsamples = 269\\nvalue = [260, 0, 9]'),\n",
       " Text(198.09965397923878, 56.94857142857143, 'gini = 0.0\\nsamples = 2\\nvalue = [0, 0, 2]'),\n",
       " Text(204.27820069204154, 56.94857142857143, 'X[33399] <= 35.5\\ngini = 0.051\\nsamples = 267\\nvalue = [260, 0, 7]'),\n",
       " Text(201.18892733564016, 46.59428571428572, 'X[57852] <= 23.0\\ngini = 0.289\\nsamples = 40\\nvalue = [33, 0, 7]'),\n",
       " Text(198.09965397923878, 36.24000000000001, 'gini = 0.0\\nsamples = 31\\nvalue = [31, 0, 0]'),\n",
       " Text(204.27820069204154, 36.24000000000001, 'X[21668] <= 31.5\\ngini = 0.346\\nsamples = 9\\nvalue = [2, 0, 7]'),\n",
       " Text(201.18892733564016, 25.8857142857143, 'gini = 0.0\\nsamples = 2\\nvalue = [2, 0, 0]'),\n",
       " Text(207.36747404844292, 25.8857142857143, 'gini = 0.0\\nsamples = 7\\nvalue = [0, 0, 7]'),\n",
       " Text(207.36747404844292, 46.59428571428572, 'gini = 0.0\\nsamples = 227\\nvalue = [227, 0, 0]'),\n",
       " Text(207.36747404844292, 67.30285714285714, 'gini = 0.0\\nsamples = 2\\nvalue = [0, 0, 2]'),\n",
       " Text(210.45674740484432, 77.65714285714284, 'gini = 0.0\\nsamples = 3\\nvalue = [0, 0, 3]'),\n",
       " Text(210.45674740484432, 108.72, 'X[15716] <= 71.5\\ngini = 0.32\\nsamples = 5\\nvalue = [0, 1, 4]'),\n",
       " Text(207.36747404844292, 98.36571428571429, 'gini = 0.5\\nsamples = 2\\nvalue = [0, 1, 1]'),\n",
       " Text(213.5460207612457, 98.36571428571429, 'gini = 0.0\\nsamples = 3\\nvalue = [0, 0, 3]'),\n",
       " Text(205.05051903114187, 129.42857142857144, 'gini = 0.0\\nsamples = 9\\nvalue = [0, 0, 9]'),\n",
       " Text(214.31833910034604, 139.78285714285715, 'X[42526] <= 189.0\\ngini = 0.133\\nsamples = 14\\nvalue = [1, 0, 13]'),\n",
       " Text(211.22906574394466, 129.42857142857144, 'gini = 0.0\\nsamples = 13\\nvalue = [0, 0, 13]'),\n",
       " Text(217.40761245674742, 129.42857142857144, 'gini = 0.0\\nsamples = 1\\nvalue = [1, 0, 0]'),\n",
       " Text(235.94325259515574, 160.49142857142857, 'X[49914] <= 192.5\\ngini = 0.174\\nsamples = 117\\nvalue = [8, 3, 106]'),\n",
       " Text(229.76470588235296, 150.13714285714286, 'X[12896] <= 201.0\\ngini = 0.088\\nsamples = 110\\nvalue = [2, 3, 105]'),\n",
       " Text(226.67543252595158, 139.78285714285715, 'X[28279] <= 13.5\\ngini = 0.054\\nsamples = 108\\nvalue = [0, 3, 105]'),\n",
       " Text(223.5861591695502, 129.42857142857144, 'X[55654] <= 162.0\\ngini = 0.49\\nsamples = 7\\nvalue = [0, 3, 4]'),\n",
       " Text(220.4968858131488, 119.07428571428571, 'X[11483] <= 14.5\\ngini = 0.5\\nsamples = 6\\nvalue = [0, 3, 3]'),\n",
       " Text(217.40761245674742, 108.72, 'gini = 0.5\\nsamples = 2\\nvalue = [0, 1, 1]'),\n",
       " Text(223.5861591695502, 108.72, 'X[33380] <= 65.0\\ngini = 0.5\\nsamples = 4\\nvalue = [0, 2, 2]'),\n",
       " Text(220.4968858131488, 98.36571428571429, 'gini = 0.5\\nsamples = 2\\nvalue = [0, 1, 1]'),\n",
       " Text(226.67543252595158, 98.36571428571429, 'gini = 0.5\\nsamples = 2\\nvalue = [0, 1, 1]'),\n",
       " Text(226.67543252595158, 119.07428571428571, 'gini = 0.0\\nsamples = 1\\nvalue = [0, 0, 1]'),\n",
       " Text(229.76470588235296, 129.42857142857144, 'gini = 0.0\\nsamples = 101\\nvalue = [0, 0, 101]'),\n",
       " Text(232.85397923875433, 139.78285714285715, 'gini = 0.0\\nsamples = 2\\nvalue = [2, 0, 0]'),\n",
       " Text(242.1217993079585, 150.13714285714286, 'X[34256] <= 184.0\\ngini = 0.245\\nsamples = 7\\nvalue = [6, 0, 1]'),\n",
       " Text(239.03252595155712, 139.78285714285715, 'gini = 0.0\\nsamples = 6\\nvalue = [6, 0, 0]'),\n",
       " Text(245.21107266435988, 139.78285714285715, 'gini = 0.0\\nsamples = 1\\nvalue = [0, 0, 1]'),\n",
       " Text(271.0837370242215, 181.2, 'X[31713] <= 8.5\\ngini = 0.156\\nsamples = 625\\nvalue = [572, 2, 51]'),\n",
       " Text(267.99446366782007, 170.84571428571428, 'gini = 0.0\\nsamples = 15\\nvalue = [0, 0, 15]'),\n",
       " Text(274.1730103806229, 170.84571428571428, 'X[55649] <= 102.0\\ngini = 0.117\\nsamples = 610\\nvalue = [572, 2, 36]'),\n",
       " Text(264.51903114186854, 160.49142857142857, 'X[29051] <= 9.5\\ngini = 0.084\\nsamples = 592\\nvalue = [566, 2, 24]'),\n",
       " Text(254.47889273356404, 150.13714285714286, 'X[19098] <= 157.0\\ngini = 0.406\\nsamples = 8\\nvalue = [1, 1, 6]'),\n",
       " Text(251.38961937716266, 139.78285714285715, 'X[9913] <= 45.5\\ngini = 0.245\\nsamples = 7\\nvalue = [0, 1, 6]'),\n",
       " Text(248.30034602076125, 129.42857142857144, 'gini = 0.5\\nsamples = 2\\nvalue = [0, 1, 1]'),\n",
       " Text(254.47889273356404, 129.42857142857144, 'gini = 0.0\\nsamples = 5\\nvalue = [0, 0, 5]'),\n",
       " Text(257.5681660899654, 139.78285714285715, 'gini = 0.0\\nsamples = 1\\nvalue = [1, 0, 0]'),\n",
       " Text(274.559169550173, 150.13714285714286, 'X[1986] <= 104.5\\ngini = 0.063\\nsamples = 584\\nvalue = [565, 1, 18]'),\n",
       " Text(263.7467128027682, 139.78285714285715, 'X[7524] <= 197.0\\ngini = 0.029\\nsamples = 551\\nvalue = [543, 0, 8]'),\n",
       " Text(260.6574394463668, 129.42857142857144, 'X[4012] <= 26.5\\ngini = 0.022\\nsamples = 549\\nvalue = [543, 0, 6]'),\n",
       " Text(257.5681660899654, 119.07428571428571, 'gini = 0.0\\nsamples = 2\\nvalue = [0, 0, 2]'),\n",
       " Text(263.7467128027682, 119.07428571428571, 'X[44176] <= 5.5\\ngini = 0.015\\nsamples = 547\\nvalue = [543, 0, 4]'),\n",
       " Text(260.6574394463668, 108.72, 'gini = 0.0\\nsamples = 1\\nvalue = [0, 0, 1]'),\n",
       " Text(266.8359861591696, 108.72, 'X[41226] <= 6.0\\ngini = 0.011\\nsamples = 546\\nvalue = [543, 0, 3]'),\n",
       " Text(263.7467128027682, 98.36571428571429, 'gini = 0.0\\nsamples = 1\\nvalue = [0, 0, 1]'),\n",
       " Text(269.92525951557093, 98.36571428571429, 'X[4022] <= 130.5\\ngini = 0.007\\nsamples = 545\\nvalue = [543, 0, 2]'),\n",
       " Text(263.7467128027682, 88.01142857142858, 'X[41697] <= 52.5\\ngini = 0.32\\nsamples = 5\\nvalue = [4, 0, 1]'),\n",
       " Text(260.6574394463668, 77.65714285714284, 'gini = 0.0\\nsamples = 1\\nvalue = [0, 0, 1]'),\n",
       " Text(266.8359861591696, 77.65714285714284, 'gini = 0.0\\nsamples = 4\\nvalue = [4, 0, 0]'),\n",
       " Text(276.10380622837374, 88.01142857142858, 'X[8144] <= 20.5\\ngini = 0.004\\nsamples = 540\\nvalue = [539, 0, 1]'),\n",
       " Text(273.01453287197234, 77.65714285714284, 'X[10235] <= 59.0\\ngini = 0.245\\nsamples = 7\\nvalue = [6, 0, 1]'),\n",
       " Text(269.92525951557093, 67.30285714285714, 'gini = 0.0\\nsamples = 6\\nvalue = [6, 0, 0]'),\n",
       " Text(276.10380622837374, 67.30285714285714, 'gini = 0.0\\nsamples = 1\\nvalue = [0, 0, 1]'),\n",
       " Text(279.1930795847751, 77.65714285714284, 'gini = 0.0\\nsamples = 533\\nvalue = [533, 0, 0]'),\n",
       " Text(266.8359861591696, 129.42857142857144, 'gini = 0.0\\nsamples = 2\\nvalue = [0, 0, 2]'),\n",
       " Text(285.3716262975779, 139.78285714285715, 'X[39796] <= 118.0\\ngini = 0.463\\nsamples = 33\\nvalue = [22, 1, 10]'),\n",
       " Text(279.1930795847751, 129.42857142857144, 'X[1726] <= 229.5\\ngini = 0.314\\nsamples = 11\\nvalue = [1, 1, 9]'),\n",
       " Text(276.10380622837374, 119.07428571428571, 'X[54698] <= 89.5\\ngini = 0.18\\nsamples = 10\\nvalue = [0, 1, 9]'),\n",
       " Text(273.01453287197234, 108.72, 'gini = 0.0\\nsamples = 8\\nvalue = [0, 0, 8]'),\n",
       " Text(279.1930795847751, 108.72, 'gini = 0.5\\nsamples = 2\\nvalue = [0, 1, 1]'),\n",
       " Text(282.2823529411765, 119.07428571428571, 'gini = 0.0\\nsamples = 1\\nvalue = [1, 0, 0]'),\n",
       " Text(291.55017301038066, 129.42857142857144, 'X[4223] <= 81.0\\ngini = 0.087\\nsamples = 22\\nvalue = [21, 0, 1]'),\n",
       " Text(288.46089965397925, 119.07428571428571, 'gini = 0.0\\nsamples = 1\\nvalue = [0, 0, 1]'),\n",
       " Text(294.639446366782, 119.07428571428571, 'gini = 0.0\\nsamples = 21\\nvalue = [21, 0, 0]'),\n",
       " Text(283.8269896193772, 160.49142857142857, 'X[31451] <= 143.5\\ngini = 0.444\\nsamples = 18\\nvalue = [6, 0, 12]'),\n",
       " Text(280.7377162629758, 150.13714285714286, 'gini = 0.0\\nsamples = 12\\nvalue = [0, 0, 12]'),\n",
       " Text(286.9162629757786, 150.13714285714286, 'gini = 0.0\\nsamples = 6\\nvalue = [6, 0, 0]'),\n",
       " Text(323.9875432525952, 191.5542857142857, 'X[3290] <= 214.5\\ngini = 0.292\\nsamples = 312\\nvalue = [48, 6, 258]'),\n",
       " Text(320.8982698961938, 181.2, 'X[2171] <= 208.5\\ngini = 0.13\\nsamples = 277\\nvalue = [13, 6, 258]'),\n",
       " Text(317.8089965397924, 170.84571428571428, 'X[37989] <= 230.5\\ngini = 0.079\\nsamples = 269\\nvalue = [5, 6, 258]'),\n",
       " Text(314.719723183391, 160.49142857142857, 'X[38652] <= 17.5\\ngini = 0.059\\nsamples = 266\\nvalue = [2, 6, 258]'),\n",
       " Text(303.9072664359862, 150.13714285714286, 'X[14107] <= 192.0\\ngini = 0.54\\nsamples = 10\\nvalue = [1, 3, 6]'),\n",
       " Text(300.8179930795848, 139.78285714285715, 'X[37667] <= 15.5\\ngini = 0.444\\nsamples = 9\\nvalue = [0, 3, 6]'),\n",
       " Text(297.7287197231834, 129.42857142857144, 'gini = 0.0\\nsamples = 3\\nvalue = [0, 0, 3]'),\n",
       " Text(303.9072664359862, 129.42857142857144, 'X[10345] <= 101.0\\ngini = 0.5\\nsamples = 6\\nvalue = [0, 3, 3]'),\n",
       " Text(300.8179930795848, 119.07428571428571, 'gini = 0.5\\nsamples = 2\\nvalue = [0, 1, 1]'),\n",
       " Text(306.9965397923876, 119.07428571428571, 'X[25221] <= 107.0\\ngini = 0.5\\nsamples = 4\\nvalue = [0, 2, 2]'),\n",
       " Text(303.9072664359862, 108.72, 'gini = 0.5\\nsamples = 2\\nvalue = [0, 1, 1]'),\n",
       " Text(310.08581314878893, 108.72, 'gini = 0.5\\nsamples = 2\\nvalue = [0, 1, 1]'),\n",
       " Text(306.9965397923876, 139.78285714285715, 'gini = 0.0\\nsamples = 1\\nvalue = [1, 0, 0]'),\n",
       " Text(325.53217993079585, 150.13714285714286, 'X[5710] <= 220.5\\ngini = 0.031\\nsamples = 256\\nvalue = [1, 3, 252]'),\n",
       " Text(322.4429065743945, 139.78285714285715, 'X[25054] <= 225.5\\ngini = 0.023\\nsamples = 255\\nvalue = [0, 3, 252]'),\n",
       " Text(316.26435986159174, 129.42857142857144, 'X[48922] <= 10.0\\ngini = 0.008\\nsamples = 251\\nvalue = [0, 1, 250]'),\n",
       " Text(313.17508650519034, 119.07428571428571, 'gini = 0.5\\nsamples = 2\\nvalue = [0, 1, 1]'),\n",
       " Text(319.3536332179931, 119.07428571428571, 'gini = 0.0\\nsamples = 249\\nvalue = [0, 0, 249]'),\n",
       " Text(328.62145328719726, 129.42857142857144, 'X[4695] <= 74.5\\ngini = 0.5\\nsamples = 4\\nvalue = [0, 2, 2]'),\n",
       " Text(325.53217993079585, 119.07428571428571, 'gini = 0.5\\nsamples = 2\\nvalue = [0, 1, 1]'),\n",
       " Text(331.71072664359866, 119.07428571428571, 'gini = 0.5\\nsamples = 2\\nvalue = [0, 1, 1]'),\n",
       " Text(328.62145328719726, 139.78285714285715, 'gini = 0.0\\nsamples = 1\\nvalue = [1, 0, 0]'),\n",
       " Text(320.8982698961938, 160.49142857142857, 'gini = 0.0\\nsamples = 3\\nvalue = [3, 0, 0]'),\n",
       " Text(323.9875432525952, 170.84571428571428, 'gini = 0.0\\nsamples = 8\\nvalue = [8, 0, 0]'),\n",
       " Text(327.0768166089966, 181.2, 'gini = 0.0\\nsamples = 35\\nvalue = [35, 0, 0]')]"
      ]
     },
     "execution_count": 10,
     "metadata": {},
     "output_type": "execute_result"
    },
    {
     "data": {
      "image/png": "[encoded data removed]",
      "text/plain": [
       "<Figure size 432x288 with 1 Axes>"
      ]
     },
     "metadata": {
      "needs_background": "light"
     },
     "output_type": "display_data"
    }
   ],
   "source": [
    "data_origin = np.array(data_origin) \n",
    "data_amaro = np.array(data_amaro) \n",
    "data_lofi = np.array(data_lofi) \n",
    "\n",
    "X_full = np.concatenate((data_amaro, data_origin,data_lofi))\n",
    "print(X_full.shape)\n",
    "\n",
    "y_full = [\"amaro\" for i in range(data_amaro.shape[0])] \n",
    "y_full += [\"origin\" for i in range(data_origin.shape[0])] \n",
    "y_full += [\"lofi\" for i in range(data_lofi.shape[0])]\n",
    "\n",
    "clf_full = tree.DecisionTreeClassifier()\n",
    "clf_full.fit(X_full, y_full) \n",
    "tree.plot_tree(clf_full)"
   ]
  },
  {
   "cell_type": "code",
   "execution_count": 13,
   "metadata": {},
   "outputs": [
    {
     "name": "stdout",
     "output_type": "stream",
     "text": [
      "Prediction for amaro picture: ['amaro']\n",
      "Prediction for origin picture: ['origin']\n",
      "Prediction for lofi picture: ['origin']\n"
     ]
    }
   ],
   "source": [
    "amaro = cv2.imread(\"filter_decision_tree/test_data/amaro.jpg\", cv2.IMREAD_GRAYSCALE)\n",
    "amaro = cv2.resize(amaro, (244,244))\n",
    "amaro = amaro.flatten()\n",
    "\n",
    "original = cv2.imread(\"filter_decision_tree/test_data/original.jpg\", cv2.IMREAD_GRAYSCALE)\n",
    "original = cv2.resize(original, (244,244))\n",
    "original = original.flatten()\n",
    "\n",
    "lofi = cv2.imread(\"filter_decision_tree/test_data/lofi.jpg\", cv2.IMREAD_GRAYSCALE)\n",
    "lofi = cv2.resize(lofi, (244,244))\n",
    "lofi = lofi.flatten()\n",
    "\n",
    "print(\"Prediction for amaro picture:\", clf_full.predict([amaro]))\n",
    "print(\"Prediction for origin picture:\", clf_full.predict([original]))\n",
    "print(\"Prediction for lofi picture:\", clf_full.predict([lofi]))"
   ]
  },
  {
   "cell_type": "markdown",
   "metadata": {},
   "source": [
    "Wie zu sehen ist, wird der Entscheidungsbaum immer größer und komplexer. \n",
    "Leider haben die zusätzlichen Daten keine korrekte vorhersage gebracht. \n",
    "\n",
    "## Test mit Farbbildern\n",
    "Im letzten Schritt soll nun probiert werden, ob eine Verbesserung mit RGB-Bildern erzielt werden kann.\n",
    "Um den Trainingsvorgang zu beschleunigen werden wieder die ursprünglichen Trainingsbilder benutzt.\n",
    "\n",
    "### Erstellen des Modells"
   ]
  },
  {
   "cell_type": "code",
   "execution_count": 16,
   "metadata": {},
   "outputs": [
    {
     "name": "stdout",
     "output_type": "stream",
     "text": [
      "(96, 178608)\n"
     ]
    },
    {
     "data": {
      "text/plain": [
       "[Text(200.88000000000002, 195.696, 'X[103939] <= 3.5\\ngini = 0.667\\nsamples = 96\\nvalue = [32, 32, 32]'),\n",
       " Text(133.92000000000002, 152.208, 'X[97374] <= 29.5\\ngini = 0.5\\nsamples = 64\\nvalue = [32, 32, 0]'),\n",
       " Text(66.96000000000001, 108.72, 'gini = 0.0\\nsamples = 21\\nvalue = [0, 21, 0]'),\n",
       " Text(200.88000000000002, 108.72, 'X[165534] <= 105.5\\ngini = 0.381\\nsamples = 43\\nvalue = [32, 11, 0]'),\n",
       " Text(133.92000000000002, 65.232, 'X[143600] <= 19.5\\ngini = 0.157\\nsamples = 35\\nvalue = [32, 3, 0]'),\n",
       " Text(66.96000000000001, 21.744, 'gini = 0.0\\nsamples = 3\\nvalue = [0, 3, 0]'),\n",
       " Text(200.88000000000002, 21.744, 'gini = 0.0\\nsamples = 32\\nvalue = [32, 0, 0]'),\n",
       " Text(267.84000000000003, 65.232, 'gini = 0.0\\nsamples = 8\\nvalue = [0, 8, 0]'),\n",
       " Text(267.84000000000003, 152.208, 'gini = 0.0\\nsamples = 32\\nvalue = [0, 0, 32]')]"
      ]
     },
     "execution_count": 16,
     "metadata": {},
     "output_type": "execute_result"
    },
    {
     "data": {
      "image/png": "[encoded data removed]",
      "text/plain": [
       "<Figure size 432x288 with 1 Axes>"
      ]
     },
     "metadata": {
      "needs_background": "light"
     },
     "output_type": "display_data"
    }
   ],
   "source": [
    "img_dir_amaro = \"filter_decision_tree/amaro\"\n",
    "img_dir_origin = \"filter_decision_tree/original\"\n",
    "img_dir_lofi = \"filter_decision_tree/lofi\"\n",
    "\n",
    "data_path_amaro = os.path.join(img_dir_amaro,'*g')\n",
    "data_path_origin = os.path.join(img_dir_origin,'*g')\n",
    "data_path_lofi = os.path.join(img_dir_lofi,'*g')\n",
    "\n",
    "files_amaro = glob.glob(data_path_amaro)\n",
    "files_origin = glob.glob(data_path_origin)\n",
    "files_lofi = glob.glob(data_path_lofi)\n",
    "\n",
    "data_origin = []\n",
    "data_amaro = []\n",
    "data_lofi = []\n",
    "\n",
    "for f1 in files_origin:\n",
    "    origin = cv2.imread(f1)\n",
    "    origin = cv2.cvtColor(origin, cv2.COLOR_BGR2RGB)\n",
    "    origin = cv2.resize(origin, (244,244))\n",
    "    data_origin.append(origin.flatten()) \n",
    "    \n",
    "    \n",
    "for f1 in files_amaro:  \n",
    "    amaro = cv2.imread(f1)\n",
    "    amaro = cv2.cvtColor(amaro, cv2.COLOR_BGR2RGB)\n",
    "    amaro = cv2.resize(amaro, (244,244))\n",
    "    data_amaro.append(amaro.flatten())\n",
    "\n",
    "for f1 in files_lofi:\n",
    "    lofi = cv2.imread(f1)\n",
    "    lofi = cv2.cvtColor(lofi, cv2.COLOR_BGR2RGB)\n",
    "    lofi = cv2.resize(lofi, (244,244))\n",
    "    data_lofi.append(lofi.flatten()) \n",
    "    \n",
    "data_origin = np.array(data_origin) \n",
    "data_amaro = np.array(data_amaro) \n",
    "data_lofi = np.array(data_lofi) \n",
    "\n",
    "X_full = np.concatenate((data_amaro, data_origin,data_lofi))\n",
    "print(X_full.shape)\n",
    "\n",
    "y_full = [\"amaro\" for i in range(data_amaro.shape[0])] \n",
    "y_full += [\"origin\" for i in range(data_origin.shape[0])] \n",
    "y_full += [\"lofi\" for i in range(data_lofi.shape[0])]\n",
    "\n",
    "clf_full = tree.DecisionTreeClassifier()\n",
    "clf_full.fit(X_full, y_full) \n",
    "tree.plot_tree(clf_full)"
   ]
  },
  {
   "cell_type": "markdown",
   "metadata": {},
   "source": [
    "### Prediction"
   ]
  },
  {
   "cell_type": "code",
   "execution_count": 18,
   "metadata": {},
   "outputs": [
    {
     "name": "stdout",
     "output_type": "stream",
     "text": [
      "Prediction for amaro picture: ['amaro']\n",
      "Prediction for origin picture: ['origin']\n",
      "Prediction for lofi picture: ['amaro']\n"
     ]
    }
   ],
   "source": [
    "amaro = cv2.imread(\"filter_decision_tree/test_data/amaro.jpg\")\n",
    "amaro = cv2.cvtColor(amaro, cv2.COLOR_BGR2RGB)\n",
    "amaro = cv2.resize(amaro, (244,244))\n",
    "amaro = amaro.flatten()\n",
    "\n",
    "original = cv2.imread(\"filter_decision_tree/test_data/original.jpg\")\n",
    "original = cv2.cvtColor(original, cv2.COLOR_BGR2RGB)\n",
    "original = cv2.resize(original, (244,244))\n",
    "original = original.flatten()\n",
    "\n",
    "lofi = cv2.imread(\"filter_decision_tree/test_data/lofi.jpg\")\n",
    "lofi = cv2.cvtColor(lofi, cv2.COLOR_BGR2RGB)\n",
    "lofi = cv2.resize(lofi, (244,244))\n",
    "lofi = lofi.flatten()\n",
    "\n",
    "print(\"Prediction for amaro picture:\", clf_full.predict([amaro]))\n",
    "print(\"Prediction for origin picture:\", clf_full.predict([original]))\n",
    "print(\"Prediction for lofi picture:\", clf_full.predict([lofi]))"
   ]
  },
  {
   "cell_type": "markdown",
   "metadata": {},
   "source": [
    "Wie zu sehen ist, gibt es auch bei den farbigen Bildern keine Verbesserung."
   ]
  },
  {
   "cell_type": "code",
   "execution_count": null,
   "metadata": {},
   "outputs": [],
   "source": []
  }
 ],
 "metadata": {
  "kernelspec": {
   "display_name": "Python 3",
   "language": "python",
   "name": "python3"
  },
  "language_info": {
   "codemirror_mode": {
    "name": "ipython",
    "version": 3
   },
   "file_extension": ".py",
   "mimetype": "text/x-python",
   "name": "python",
   "nbconvert_exporter": "python",
   "pygments_lexer": "ipython3",
   "version": "3.7.6"
  },
  "pycharm": {
   "stem_cell": {
    "cell_type": "raw",
    "metadata": {
     "collapsed": false
    },
    "source": []
   }
  }
 },
 "nbformat": 4,
 "nbformat_minor": 4
}
